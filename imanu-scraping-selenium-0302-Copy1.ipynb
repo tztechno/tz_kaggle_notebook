{
 "cells": [
  {
   "cell_type": "code",
   "execution_count": null,
   "id": "3a404cd5",
   "metadata": {
    "papermill": {
     "duration": 0.0112,
     "end_time": "2022-03-02T06:10:30.524620",
     "exception": false,
     "start_time": "2022-03-02T06:10:30.513420",
     "status": "completed"
    },
    "tags": []
   },
   "outputs": [],
   "source": []
  },
  {
   "cell_type": "code",
   "execution_count": 1,
   "id": "bbee1541",
   "metadata": {
    "execution": {
     "iopub.execute_input": "2022-03-02T06:10:30.550160Z",
     "iopub.status.busy": "2022-03-02T06:10:30.548430Z",
     "iopub.status.idle": "2022-03-02T06:10:42.428030Z",
     "shell.execute_reply": "2022-03-02T06:10:42.427171Z",
     "shell.execute_reply.started": "2022-03-02T06:07:06.875190Z"
    },
    "papermill": {
     "duration": 11.89364,
     "end_time": "2022-03-02T06:10:42.428192",
     "exception": false,
     "start_time": "2022-03-02T06:10:30.534552",
     "status": "completed"
    },
    "tags": []
   },
   "outputs": [],
   "source": [
    "#!pip install selenium"
   ]
  },
  {
   "cell_type": "code",
   "execution_count": 2,
   "id": "acdec5de",
   "metadata": {},
   "outputs": [],
   "source": [
    "#!brew install chromedriver"
   ]
  },
  {
   "cell_type": "code",
   "execution_count": 3,
   "id": "2cadb5ec",
   "metadata": {},
   "outputs": [],
   "source": [
    "#!pip install webdriver_manager"
   ]
  },
  {
   "cell_type": "code",
   "execution_count": 4,
   "id": "6477a21e",
   "metadata": {},
   "outputs": [
    {
     "name": "stdout",
     "output_type": "stream",
     "text": [
      "Collecting git+https://github.com/danielkaiser/python-chromedriver-binary.git@chromedriver-binary-auto\n",
      "  Cloning https://github.com/danielkaiser/python-chromedriver-binary.git (to revision chromedriver-binary-auto) to /private/var/folders/fg/slg8ny595pd04183zspq2f380000gn/T/pip-req-build-av4rq2lk\n",
      "  Running command git clone --filter=blob:none -q https://github.com/danielkaiser/python-chromedriver-binary.git /private/var/folders/fg/slg8ny595pd04183zspq2f380000gn/T/pip-req-build-av4rq2lk\n",
      "  Running command git checkout -b chromedriver-binary-auto --track origin/chromedriver-binary-auto\n",
      "  Switched to a new branch 'chromedriver-binary-auto'\n",
      "  Branch 'chromedriver-binary-auto' set up to track remote branch 'chromedriver-binary-auto' from 'origin'.\n",
      "  Resolved https://github.com/danielkaiser/python-chromedriver-binary.git to commit 8934395a908b19ad90ef0148348c9073abae63c6\n",
      "  Preparing metadata (setup.py) ... \u001b[?25ldone\n",
      "\u001b[?25h"
     ]
    }
   ],
   "source": [
    "!pip install git+https://github.com/danielkaiser/python-chromedriver-binary.git@chromedriver-binary-auto"
   ]
  },
  {
   "cell_type": "code",
   "execution_count": 5,
   "id": "ea3f5317",
   "metadata": {
    "execution": {
     "iopub.execute_input": "2022-03-02T06:10:42.500699Z",
     "iopub.status.busy": "2022-03-02T06:10:42.500074Z",
     "iopub.status.idle": "2022-03-02T06:10:42.527082Z",
     "shell.execute_reply": "2022-03-02T06:10:42.526539Z",
     "shell.execute_reply.started": "2022-03-02T06:07:15.609221Z"
    },
    "papermill": {
     "duration": 0.049179,
     "end_time": "2022-03-02T06:10:42.527242",
     "exception": false,
     "start_time": "2022-03-02T06:10:42.478063",
     "status": "completed"
    },
    "tags": []
   },
   "outputs": [],
   "source": [
    "from selenium import webdriver\n",
    "from webdriver_manager.chrome import ChromeDriverManager\n",
    "from time import sleep\n",
    "import chromedriver_binary "
   ]
  },
  {
   "cell_type": "code",
   "execution_count": 6,
   "id": "ddbcf4f4",
   "metadata": {},
   "outputs": [],
   "source": [
    "browser =  webdriver.Chrome()"
   ]
  },
  {
   "cell_type": "code",
   "execution_count": 7,
   "id": "f18b0214",
   "metadata": {},
   "outputs": [],
   "source": [
    "#browser =  webdriver.Chrome()\n",
    "#browser =  webdriver.Chrome(ChromeDriverManager().install())\n",
    "#browser.quit()"
   ]
  },
  {
   "cell_type": "code",
   "execution_count": 8,
   "id": "079876a7",
   "metadata": {},
   "outputs": [],
   "source": [
    "url0='https://www.youtube.com/'\n",
    "browser.get(url0)"
   ]
  },
  {
   "cell_type": "code",
   "execution_count": 9,
   "id": "75717069",
   "metadata": {},
   "outputs": [],
   "source": [
    "sleep(2)\n",
    "browser.quit()"
   ]
  },
  {
   "cell_type": "code",
   "execution_count": null,
   "id": "5a5c0e46",
   "metadata": {},
   "outputs": [],
   "source": []
  },
  {
   "cell_type": "markdown",
   "id": "fb3fbc1a",
   "metadata": {},
   "source": [
    "# --headless mode"
   ]
  },
  {
   "cell_type": "code",
   "execution_count": 10,
   "id": "ff9605d6",
   "metadata": {},
   "outputs": [],
   "source": [
    "from selenium.webdriver.chrome.options import Options"
   ]
  },
  {
   "cell_type": "code",
   "execution_count": 11,
   "id": "79a6ff2f",
   "metadata": {},
   "outputs": [],
   "source": [
    "options=Options()\n",
    "options.add_argument('--headless')"
   ]
  },
  {
   "cell_type": "code",
   "execution_count": 12,
   "id": "1801e0c8",
   "metadata": {},
   "outputs": [],
   "source": [
    "browser =  webdriver.Chrome(options=options)"
   ]
  },
  {
   "cell_type": "code",
   "execution_count": 13,
   "id": "e3c9d1f2",
   "metadata": {},
   "outputs": [],
   "source": [
    "url0='https://www.youtube.com/'\n",
    "browser.get(url0)"
   ]
  },
  {
   "cell_type": "code",
   "execution_count": null,
   "id": "9c4d6dc1",
   "metadata": {},
   "outputs": [],
   "source": []
  },
  {
   "cell_type": "code",
   "execution_count": null,
   "id": "d6d3f6f6",
   "metadata": {},
   "outputs": [],
   "source": []
  },
  {
   "cell_type": "code",
   "execution_count": null,
   "id": "7e48a432",
   "metadata": {},
   "outputs": [],
   "source": []
  },
  {
   "cell_type": "code",
   "execution_count": null,
   "id": "b9a4959d",
   "metadata": {
    "papermill": {
     "duration": null,
     "end_time": null,
     "exception": null,
     "start_time": null,
     "status": "pending"
    },
    "tags": []
   },
   "outputs": [],
   "source": []
  }
 ],
 "metadata": {
  "kernelspec": {
   "display_name": "Python 3",
   "language": "python",
   "name": "python3"
  },
  "language_info": {
   "codemirror_mode": {
    "name": "ipython",
    "version": 3
   },
   "file_extension": ".py",
   "mimetype": "text/x-python",
   "name": "python",
   "nbconvert_exporter": "python",
   "pygments_lexer": "ipython3",
   "version": "3.6.10"
  },
  "papermill": {
   "default_parameters": {},
   "duration": 25.017625,
   "end_time": "2022-03-02T06:10:46.330046",
   "environment_variables": {},
   "exception": true,
   "input_path": "__notebook__.ipynb",
   "output_path": "__notebook__.ipynb",
   "parameters": {},
   "start_time": "2022-03-02T06:10:21.312421",
   "version": "2.3.3"
  }
 },
 "nbformat": 4,
 "nbformat_minor": 5
}
