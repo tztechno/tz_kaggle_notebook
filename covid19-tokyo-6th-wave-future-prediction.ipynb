{
 "cells": [
  {
   "cell_type": "markdown",
   "id": "8bc6ec4c",
   "metadata": {
    "papermill": {
     "duration": 0.035119,
     "end_time": "2022-01-28T12:27:04.422270",
     "exception": false,
     "start_time": "2022-01-28T12:27:04.387151",
     "status": "completed"
    },
    "tags": []
   },
   "source": [
    "# Covid19 Tokyo 6th Wave Future Prediction\n",
    "https://www.kaggle.com/stpeteishii/covid19-tokyo-6th-wave-future-prediction<br/>\n",
    "<div align=\"left\">\n",
    "<img src=\"https://img.shields.io/badge/Upvote-If%20you%20like%20my%20work-07b3c8?style=for-the-badge&logo=kaggle\" alt=\"upvote\">\n",
    "</div>"
   ]
  },
  {
   "cell_type": "markdown",
   "id": "d827bc80",
   "metadata": {
    "papermill": {
     "duration": 0.03027,
     "end_time": "2022-01-28T12:27:04.483604",
     "exception": false,
     "start_time": "2022-01-28T12:27:04.453334",
     "status": "completed"
    },
    "tags": []
   },
   "source": [
    "# Introduction\n",
    "### It was found that Rt peaked out earliest among Rt, Slope, and Number Positives. By defining the daily decay rate and convergence value of Rt from the actual data, it is possible to predict the peak date of future slopes, and the peak date and number of future positives."
   ]
  },
  {
   "cell_type": "code",
   "execution_count": 1,
   "id": "95af4573",
   "metadata": {
    "execution": {
     "iopub.execute_input": "2022-01-28T12:27:04.557860Z",
     "iopub.status.busy": "2022-01-28T12:27:04.557176Z",
     "iopub.status.idle": "2022-01-28T12:27:06.944300Z",
     "shell.execute_reply": "2022-01-28T12:27:06.943322Z",
     "shell.execute_reply.started": "2022-01-28T12:24:04.792353Z"
    },
    "papermill": {
     "duration": 2.427691,
     "end_time": "2022-01-28T12:27:06.944503",
     "exception": false,
     "start_time": "2022-01-28T12:27:04.516812",
     "status": "completed"
    },
    "tags": []
   },
   "outputs": [],
   "source": [
    "import os\n",
    "import numpy as np\n",
    "import pandas as pd\n",
    "import random\n",
    "import seaborn as sns\n",
    "\n",
    "import datetime as datetime\n",
    "import matplotlib.dates as dates\n",
    "import matplotlib.pyplot as plt\n",
    "import plotly.express as px\n",
    "import plotly.graph_objects as go\n",
    "from plotly.subplots import make_subplots\n"
   ]
  },
  {
   "cell_type": "markdown",
   "id": "36d09a3d",
   "metadata": {
    "papermill": {
     "duration": 0.032143,
     "end_time": "2022-01-28T12:27:07.007845",
     "exception": false,
     "start_time": "2022-01-28T12:27:06.975702",
     "status": "completed"
    },
    "tags": []
   },
   "source": [
    "# 1 Access Data"
   ]
  },
  {
   "cell_type": "code",
   "execution_count": 2,
   "id": "5fe425b5",
   "metadata": {
    "execution": {
     "iopub.execute_input": "2022-01-28T12:27:07.078451Z",
     "iopub.status.busy": "2022-01-28T12:27:07.077623Z",
     "iopub.status.idle": "2022-01-28T12:27:14.065879Z",
     "shell.execute_reply": "2022-01-28T12:27:14.066450Z",
     "shell.execute_reply.started": "2022-01-28T12:24:06.761487Z"
    },
    "papermill": {
     "duration": 7.028113,
     "end_time": "2022-01-28T12:27:14.066652",
     "exception": false,
     "start_time": "2022-01-28T12:27:07.038539",
     "status": "completed"
    },
    "tags": []
   },
   "outputs": [
    {
     "name": "stderr",
     "output_type": "stream",
     "text": [
      "/opt/conda/lib/python3.7/site-packages/IPython/core/interactiveshell.py:3457: DtypeWarning: Columns (5,6,7,10) have mixed types.Specify dtype option on import or set low_memory=False.\n",
      "  exec(code_obj, self.user_global_ns, self.user_ns)\n"
     ]
    },
    {
     "data": {
      "text/html": [
       "<div>\n",
       "<style scoped>\n",
       "    .dataframe tbody tr th:only-of-type {\n",
       "        vertical-align: middle;\n",
       "    }\n",
       "\n",
       "    .dataframe tbody tr th {\n",
       "        vertical-align: top;\n",
       "    }\n",
       "\n",
       "    .dataframe thead th {\n",
       "        text-align: right;\n",
       "    }\n",
       "</style>\n",
       "<table border=\"1\" class=\"dataframe\">\n",
       "  <thead>\n",
       "    <tr style=\"text-align: right;\">\n",
       "      <th></th>\n",
       "      <th>No</th>\n",
       "      <th>全国地方公共団体コード</th>\n",
       "      <th>都道府県名</th>\n",
       "      <th>市区町村名</th>\n",
       "      <th>公表_年月日</th>\n",
       "      <th>発症_年月日</th>\n",
       "      <th>確定_年月日</th>\n",
       "      <th>患者_居住地</th>\n",
       "      <th>患者_年代</th>\n",
       "      <th>患者_性別</th>\n",
       "      <th>患者_職業</th>\n",
       "      <th>患者_状態</th>\n",
       "      <th>患者_症状</th>\n",
       "      <th>患者_渡航歴の有無フラグ</th>\n",
       "      <th>患者_接触歴の有無フラグ</th>\n",
       "      <th>備考</th>\n",
       "      <th>退院済フラグ</th>\n",
       "    </tr>\n",
       "  </thead>\n",
       "  <tbody>\n",
       "    <tr>\n",
       "      <th>532721</th>\n",
       "      <td>527831</td>\n",
       "      <td>130001</td>\n",
       "      <td>東京都</td>\n",
       "      <td>NaN</td>\n",
       "      <td>2022-01-28</td>\n",
       "      <td>NaN</td>\n",
       "      <td>NaN</td>\n",
       "      <td>NaN</td>\n",
       "      <td>30代</td>\n",
       "      <td>男性</td>\n",
       "      <td>NaN</td>\n",
       "      <td>NaN</td>\n",
       "      <td>NaN</td>\n",
       "      <td>NaN</td>\n",
       "      <td>NaN</td>\n",
       "      <td>NaN</td>\n",
       "      <td>NaN</td>\n",
       "    </tr>\n",
       "  </tbody>\n",
       "</table>\n",
       "</div>"
      ],
      "text/plain": [
       "            No  全国地方公共団体コード 都道府県名  市区町村名      公表_年月日 発症_年月日 確定_年月日 患者_居住地  \\\n",
       "532721  527831       130001   東京都    NaN  2022-01-28    NaN    NaN    NaN   \n",
       "\n",
       "       患者_年代 患者_性別 患者_職業  患者_状態  患者_症状  患者_渡航歴の有無フラグ  患者_接触歴の有無フラグ  備考  退院済フラグ  \n",
       "532721   30代    男性   NaN    NaN    NaN           NaN           NaN NaN     NaN  "
      ]
     },
     "execution_count": 2,
     "metadata": {},
     "output_type": "execute_result"
    }
   ],
   "source": [
    "data0 = pd.read_csv(\"https://stopcovid19.metro.tokyo.lg.jp/data/130001_tokyo_covid19_patients.csv\")\n",
    "data0[-1:]"
   ]
  },
  {
   "cell_type": "code",
   "execution_count": 3,
   "id": "a075c308",
   "metadata": {
    "execution": {
     "iopub.execute_input": "2022-01-28T12:27:14.143613Z",
     "iopub.status.busy": "2022-01-28T12:27:14.142778Z",
     "iopub.status.idle": "2022-01-28T12:27:14.307771Z",
     "shell.execute_reply": "2022-01-28T12:27:14.308407Z",
     "shell.execute_reply.started": "2022-01-28T12:24:08.417502Z"
    },
    "papermill": {
     "duration": 0.209177,
     "end_time": "2022-01-28T12:27:14.308643",
     "exception": false,
     "start_time": "2022-01-28T12:27:14.099466",
     "status": "completed"
    },
    "tags": []
   },
   "outputs": [],
   "source": [
    "data0['date']=data0['公表_年月日']\n",
    "data0['pcr_positives']=1\n",
    "data1=data0[['date','pcr_positives']]"
   ]
  },
  {
   "cell_type": "code",
   "execution_count": 4,
   "id": "67e20ed3",
   "metadata": {
    "execution": {
     "iopub.execute_input": "2022-01-28T12:27:14.379668Z",
     "iopub.status.busy": "2022-01-28T12:27:14.378865Z",
     "iopub.status.idle": "2022-01-28T12:27:14.456868Z",
     "shell.execute_reply": "2022-01-28T12:27:14.457422Z",
     "shell.execute_reply.started": "2022-01-28T12:24:08.574064Z"
    },
    "papermill": {
     "duration": 0.115555,
     "end_time": "2022-01-28T12:27:14.457600",
     "exception": false,
     "start_time": "2022-01-28T12:27:14.342045",
     "status": "completed"
    },
    "tags": []
   },
   "outputs": [
    {
     "data": {
      "text/html": [
       "<div>\n",
       "<style scoped>\n",
       "    .dataframe tbody tr th:only-of-type {\n",
       "        vertical-align: middle;\n",
       "    }\n",
       "\n",
       "    .dataframe tbody tr th {\n",
       "        vertical-align: top;\n",
       "    }\n",
       "\n",
       "    .dataframe thead th {\n",
       "        text-align: right;\n",
       "    }\n",
       "</style>\n",
       "<table border=\"1\" class=\"dataframe\">\n",
       "  <thead>\n",
       "    <tr style=\"text-align: right;\">\n",
       "      <th></th>\n",
       "      <th>date</th>\n",
       "      <th>pcr_positives</th>\n",
       "    </tr>\n",
       "  </thead>\n",
       "  <tbody>\n",
       "    <tr>\n",
       "      <th>682</th>\n",
       "      <td>2022-01-01</td>\n",
       "      <td>79</td>\n",
       "    </tr>\n",
       "    <tr>\n",
       "      <th>683</th>\n",
       "      <td>2022-01-02</td>\n",
       "      <td>84</td>\n",
       "    </tr>\n",
       "    <tr>\n",
       "      <th>684</th>\n",
       "      <td>2022-01-03</td>\n",
       "      <td>103</td>\n",
       "    </tr>\n",
       "    <tr>\n",
       "      <th>685</th>\n",
       "      <td>2022-01-04</td>\n",
       "      <td>151</td>\n",
       "    </tr>\n",
       "    <tr>\n",
       "      <th>686</th>\n",
       "      <td>2022-01-05</td>\n",
       "      <td>390</td>\n",
       "    </tr>\n",
       "    <tr>\n",
       "      <th>687</th>\n",
       "      <td>2022-01-06</td>\n",
       "      <td>641</td>\n",
       "    </tr>\n",
       "    <tr>\n",
       "      <th>688</th>\n",
       "      <td>2022-01-07</td>\n",
       "      <td>922</td>\n",
       "    </tr>\n",
       "    <tr>\n",
       "      <th>689</th>\n",
       "      <td>2022-01-08</td>\n",
       "      <td>1224</td>\n",
       "    </tr>\n",
       "    <tr>\n",
       "      <th>690</th>\n",
       "      <td>2022-01-09</td>\n",
       "      <td>1223</td>\n",
       "    </tr>\n",
       "    <tr>\n",
       "      <th>691</th>\n",
       "      <td>2022-01-10</td>\n",
       "      <td>871</td>\n",
       "    </tr>\n",
       "    <tr>\n",
       "      <th>692</th>\n",
       "      <td>2022-01-11</td>\n",
       "      <td>962</td>\n",
       "    </tr>\n",
       "    <tr>\n",
       "      <th>693</th>\n",
       "      <td>2022-01-12</td>\n",
       "      <td>2198</td>\n",
       "    </tr>\n",
       "    <tr>\n",
       "      <th>694</th>\n",
       "      <td>2022-01-13</td>\n",
       "      <td>3124</td>\n",
       "    </tr>\n",
       "    <tr>\n",
       "      <th>695</th>\n",
       "      <td>2022-01-14</td>\n",
       "      <td>4055</td>\n",
       "    </tr>\n",
       "    <tr>\n",
       "      <th>696</th>\n",
       "      <td>2022-01-15</td>\n",
       "      <td>4561</td>\n",
       "    </tr>\n",
       "    <tr>\n",
       "      <th>697</th>\n",
       "      <td>2022-01-16</td>\n",
       "      <td>4172</td>\n",
       "    </tr>\n",
       "    <tr>\n",
       "      <th>698</th>\n",
       "      <td>2022-01-17</td>\n",
       "      <td>3719</td>\n",
       "    </tr>\n",
       "    <tr>\n",
       "      <th>699</th>\n",
       "      <td>2022-01-18</td>\n",
       "      <td>5185</td>\n",
       "    </tr>\n",
       "    <tr>\n",
       "      <th>700</th>\n",
       "      <td>2022-01-19</td>\n",
       "      <td>7377</td>\n",
       "    </tr>\n",
       "    <tr>\n",
       "      <th>701</th>\n",
       "      <td>2022-01-20</td>\n",
       "      <td>8638</td>\n",
       "    </tr>\n",
       "    <tr>\n",
       "      <th>702</th>\n",
       "      <td>2022-01-21</td>\n",
       "      <td>9699</td>\n",
       "    </tr>\n",
       "    <tr>\n",
       "      <th>703</th>\n",
       "      <td>2022-01-22</td>\n",
       "      <td>11227</td>\n",
       "    </tr>\n",
       "    <tr>\n",
       "      <th>704</th>\n",
       "      <td>2022-01-23</td>\n",
       "      <td>9468</td>\n",
       "    </tr>\n",
       "    <tr>\n",
       "      <th>705</th>\n",
       "      <td>2022-01-24</td>\n",
       "      <td>8503</td>\n",
       "    </tr>\n",
       "    <tr>\n",
       "      <th>706</th>\n",
       "      <td>2022-01-25</td>\n",
       "      <td>12813</td>\n",
       "    </tr>\n",
       "    <tr>\n",
       "      <th>707</th>\n",
       "      <td>2022-01-26</td>\n",
       "      <td>14086</td>\n",
       "    </tr>\n",
       "    <tr>\n",
       "      <th>708</th>\n",
       "      <td>2022-01-27</td>\n",
       "      <td>16538</td>\n",
       "    </tr>\n",
       "    <tr>\n",
       "      <th>709</th>\n",
       "      <td>2022-01-28</td>\n",
       "      <td>17631</td>\n",
       "    </tr>\n",
       "  </tbody>\n",
       "</table>\n",
       "</div>"
      ],
      "text/plain": [
       "           date  pcr_positives\n",
       "682  2022-01-01             79\n",
       "683  2022-01-02             84\n",
       "684  2022-01-03            103\n",
       "685  2022-01-04            151\n",
       "686  2022-01-05            390\n",
       "687  2022-01-06            641\n",
       "688  2022-01-07            922\n",
       "689  2022-01-08           1224\n",
       "690  2022-01-09           1223\n",
       "691  2022-01-10            871\n",
       "692  2022-01-11            962\n",
       "693  2022-01-12           2198\n",
       "694  2022-01-13           3124\n",
       "695  2022-01-14           4055\n",
       "696  2022-01-15           4561\n",
       "697  2022-01-16           4172\n",
       "698  2022-01-17           3719\n",
       "699  2022-01-18           5185\n",
       "700  2022-01-19           7377\n",
       "701  2022-01-20           8638\n",
       "702  2022-01-21           9699\n",
       "703  2022-01-22          11227\n",
       "704  2022-01-23           9468\n",
       "705  2022-01-24           8503\n",
       "706  2022-01-25          12813\n",
       "707  2022-01-26          14086\n",
       "708  2022-01-27          16538\n",
       "709  2022-01-28          17631"
      ]
     },
     "execution_count": 4,
     "metadata": {},
     "output_type": "execute_result"
    }
   ],
   "source": [
    "data1=data1.groupby('date',as_index=False).sum()\n",
    "data1[682:]"
   ]
  },
  {
   "cell_type": "code",
   "execution_count": 5,
   "id": "6c3c3b4b",
   "metadata": {
    "execution": {
     "iopub.execute_input": "2022-01-28T12:27:14.533425Z",
     "iopub.status.busy": "2022-01-28T12:27:14.532191Z",
     "iopub.status.idle": "2022-01-28T12:27:14.548788Z",
     "shell.execute_reply": "2022-01-28T12:27:14.548085Z",
     "shell.execute_reply.started": "2022-01-28T12:24:08.634658Z"
    },
    "papermill": {
     "duration": 0.056403,
     "end_time": "2022-01-28T12:27:14.548982",
     "exception": false,
     "start_time": "2022-01-28T12:27:14.492579",
     "status": "completed"
    },
    "tags": []
   },
   "outputs": [
    {
     "data": {
      "text/html": [
       "<div>\n",
       "<style scoped>\n",
       "    .dataframe tbody tr th:only-of-type {\n",
       "        vertical-align: middle;\n",
       "    }\n",
       "\n",
       "    .dataframe tbody tr th {\n",
       "        vertical-align: top;\n",
       "    }\n",
       "\n",
       "    .dataframe thead th {\n",
       "        text-align: right;\n",
       "    }\n",
       "</style>\n",
       "<table border=\"1\" class=\"dataframe\">\n",
       "  <thead>\n",
       "    <tr style=\"text-align: right;\">\n",
       "      <th></th>\n",
       "      <th>705</th>\n",
       "      <th>706</th>\n",
       "      <th>707</th>\n",
       "      <th>708</th>\n",
       "      <th>709</th>\n",
       "    </tr>\n",
       "  </thead>\n",
       "  <tbody>\n",
       "    <tr>\n",
       "      <th>date</th>\n",
       "      <td>2022-01-24</td>\n",
       "      <td>2022-01-25</td>\n",
       "      <td>2022-01-26</td>\n",
       "      <td>2022-01-27</td>\n",
       "      <td>2022-01-28</td>\n",
       "    </tr>\n",
       "    <tr>\n",
       "      <th>pcr_positives</th>\n",
       "      <td>8503</td>\n",
       "      <td>12813</td>\n",
       "      <td>14086</td>\n",
       "      <td>16538</td>\n",
       "      <td>17631</td>\n",
       "    </tr>\n",
       "    <tr>\n",
       "      <th>positives mean 7-day</th>\n",
       "      <td>8585.285714</td>\n",
       "      <td>9675.0</td>\n",
       "      <td>10633.428571</td>\n",
       "      <td>11762.0</td>\n",
       "      <td>12895.142857</td>\n",
       "    </tr>\n",
       "  </tbody>\n",
       "</table>\n",
       "</div>"
      ],
      "text/plain": [
       "                              705         706           707         708  \\\n",
       "date                   2022-01-24  2022-01-25    2022-01-26  2022-01-27   \n",
       "pcr_positives                8503       12813         14086       16538   \n",
       "positives mean 7-day  8585.285714      9675.0  10633.428571     11762.0   \n",
       "\n",
       "                               709  \n",
       "date                    2022-01-28  \n",
       "pcr_positives                17631  \n",
       "positives mean 7-day  12895.142857  "
      ]
     },
     "execution_count": 5,
     "metadata": {},
     "output_type": "execute_result"
    }
   ],
   "source": [
    "data1['positives mean 7-day']=data1['pcr_positives'].rolling(window=7).mean()\n",
    "data1[-5:].T"
   ]
  },
  {
   "cell_type": "markdown",
   "id": "eaec636b",
   "metadata": {
    "papermill": {
     "duration": 0.032025,
     "end_time": "2022-01-28T12:27:14.614748",
     "exception": false,
     "start_time": "2022-01-28T12:27:14.582723",
     "status": "completed"
    },
    "tags": []
   },
   "source": [
    "# 2 Positive cases in Tokyo"
   ]
  },
  {
   "cell_type": "code",
   "execution_count": 6,
   "id": "6ca474e5",
   "metadata": {
    "execution": {
     "iopub.execute_input": "2022-01-28T12:27:14.687886Z",
     "iopub.status.busy": "2022-01-28T12:27:14.686938Z",
     "iopub.status.idle": "2022-01-28T12:27:14.954881Z",
     "shell.execute_reply": "2022-01-28T12:27:14.953838Z",
     "shell.execute_reply.started": "2022-01-28T12:24:08.649782Z"
    },
    "papermill": {
     "duration": 0.307702,
     "end_time": "2022-01-28T12:27:14.955075",
     "exception": false,
     "start_time": "2022-01-28T12:27:14.647373",
     "status": "completed"
    },
    "tags": []
   },
   "outputs": [
    {
     "data": {
      "text/html": [
       "        <script type=\"text/javascript\">\n",
       "        window.PlotlyConfig = {MathJaxConfig: 'local'};\n",
       "        if (window.MathJax) {MathJax.Hub.Config({SVG: {font: \"STIX-Web\"}});}\n",
       "        if (typeof require !== 'undefined') {\n",
       "        require.undef(\"plotly\");\n",
       "        requirejs.config({\n",
       "            paths: {\n",
       "                'plotly': ['https://cdn.plot.ly/plotly-2.8.3.min']\n",
       "            }\n",
       "        });\n",
       "        require(['plotly'], function(Plotly) {\n",
       "            window._Plotly = Plotly;\n",
       "        });\n",
       "        }\n",
       "        </script>\n",
       "        "
      ]
     },
     "metadata": {},
     "output_type": "display_data"
    },
    {
     "data": {
      "text/html": [
       "<div>                            <div id=\"16c256aa-e272-42e6-805a-85adc52cbd54\" class=\"plotly-graph-div\" style=\"height:500px; width:700px;\"></div>            <script type=\"text/javascript\">                require([\"plotly\"], function(Plotly) {                    window.PLOTLYENV=window.PLOTLYENV || {};                                    if (document.getElementById(\"16c256aa-e272-42e6-805a-85adc52cbd54\")) {                    Plotly.newPlot(                        \"16c256aa-e272-42e6-805a-85adc52cbd54\",                        [{\"name\":\"positives mean 7-day\",\"x\":[\"2022-01-01\",\"2022-01-02\",\"2022-01-03\",\"2022-01-04\",\"2022-01-05\",\"2022-01-06\",\"2022-01-07\",\"2022-01-08\",\"2022-01-09\",\"2022-01-10\",\"2022-01-11\",\"2022-01-12\",\"2022-01-13\",\"2022-01-14\",\"2022-01-15\",\"2022-01-16\",\"2022-01-17\",\"2022-01-18\",\"2022-01-19\",\"2022-01-20\",\"2022-01-21\",\"2022-01-22\",\"2022-01-23\",\"2022-01-24\",\"2022-01-25\",\"2022-01-26\",\"2022-01-27\",\"2022-01-28\"],\"y\":[60.142857142857146,66.0,75.71428571428571,90.71428571428571,135.57142857142858,218.0,338.57142857142856,502.14285714285717,664.8571428571429,774.5714285714286,890.4285714285714,1148.7142857142858,1503.4285714285713,1951.0,2427.714285714286,2849.0,3255.8571428571427,3859.1428571428573,4599.0,5386.714285714285,6193.0,7145.285714285715,7901.857142857143,8585.285714285714,9675.0,10633.42857142857,11762.0,12895.142857142857],\"type\":\"scatter\",\"xaxis\":\"x\",\"yaxis\":\"y\"}],                        {\"template\":{\"data\":{\"bar\":[{\"error_x\":{\"color\":\"#2a3f5f\"},\"error_y\":{\"color\":\"#2a3f5f\"},\"marker\":{\"line\":{\"color\":\"#E5ECF6\",\"width\":0.5},\"pattern\":{\"fillmode\":\"overlay\",\"size\":10,\"solidity\":0.2}},\"type\":\"bar\"}],\"barpolar\":[{\"marker\":{\"line\":{\"color\":\"#E5ECF6\",\"width\":0.5},\"pattern\":{\"fillmode\":\"overlay\",\"size\":10,\"solidity\":0.2}},\"type\":\"barpolar\"}],\"carpet\":[{\"aaxis\":{\"endlinecolor\":\"#2a3f5f\",\"gridcolor\":\"white\",\"linecolor\":\"white\",\"minorgridcolor\":\"white\",\"startlinecolor\":\"#2a3f5f\"},\"baxis\":{\"endlinecolor\":\"#2a3f5f\",\"gridcolor\":\"white\",\"linecolor\":\"white\",\"minorgridcolor\":\"white\",\"startlinecolor\":\"#2a3f5f\"},\"type\":\"carpet\"}],\"choropleth\":[{\"colorbar\":{\"outlinewidth\":0,\"ticks\":\"\"},\"type\":\"choropleth\"}],\"contour\":[{\"colorbar\":{\"outlinewidth\":0,\"ticks\":\"\"},\"colorscale\":[[0.0,\"#0d0887\"],[0.1111111111111111,\"#46039f\"],[0.2222222222222222,\"#7201a8\"],[0.3333333333333333,\"#9c179e\"],[0.4444444444444444,\"#bd3786\"],[0.5555555555555556,\"#d8576b\"],[0.6666666666666666,\"#ed7953\"],[0.7777777777777778,\"#fb9f3a\"],[0.8888888888888888,\"#fdca26\"],[1.0,\"#f0f921\"]],\"type\":\"contour\"}],\"contourcarpet\":[{\"colorbar\":{\"outlinewidth\":0,\"ticks\":\"\"},\"type\":\"contourcarpet\"}],\"heatmap\":[{\"colorbar\":{\"outlinewidth\":0,\"ticks\":\"\"},\"colorscale\":[[0.0,\"#0d0887\"],[0.1111111111111111,\"#46039f\"],[0.2222222222222222,\"#7201a8\"],[0.3333333333333333,\"#9c179e\"],[0.4444444444444444,\"#bd3786\"],[0.5555555555555556,\"#d8576b\"],[0.6666666666666666,\"#ed7953\"],[0.7777777777777778,\"#fb9f3a\"],[0.8888888888888888,\"#fdca26\"],[1.0,\"#f0f921\"]],\"type\":\"heatmap\"}],\"heatmapgl\":[{\"colorbar\":{\"outlinewidth\":0,\"ticks\":\"\"},\"colorscale\":[[0.0,\"#0d0887\"],[0.1111111111111111,\"#46039f\"],[0.2222222222222222,\"#7201a8\"],[0.3333333333333333,\"#9c179e\"],[0.4444444444444444,\"#bd3786\"],[0.5555555555555556,\"#d8576b\"],[0.6666666666666666,\"#ed7953\"],[0.7777777777777778,\"#fb9f3a\"],[0.8888888888888888,\"#fdca26\"],[1.0,\"#f0f921\"]],\"type\":\"heatmapgl\"}],\"histogram\":[{\"marker\":{\"pattern\":{\"fillmode\":\"overlay\",\"size\":10,\"solidity\":0.2}},\"type\":\"histogram\"}],\"histogram2d\":[{\"colorbar\":{\"outlinewidth\":0,\"ticks\":\"\"},\"colorscale\":[[0.0,\"#0d0887\"],[0.1111111111111111,\"#46039f\"],[0.2222222222222222,\"#7201a8\"],[0.3333333333333333,\"#9c179e\"],[0.4444444444444444,\"#bd3786\"],[0.5555555555555556,\"#d8576b\"],[0.6666666666666666,\"#ed7953\"],[0.7777777777777778,\"#fb9f3a\"],[0.8888888888888888,\"#fdca26\"],[1.0,\"#f0f921\"]],\"type\":\"histogram2d\"}],\"histogram2dcontour\":[{\"colorbar\":{\"outlinewidth\":0,\"ticks\":\"\"},\"colorscale\":[[0.0,\"#0d0887\"],[0.1111111111111111,\"#46039f\"],[0.2222222222222222,\"#7201a8\"],[0.3333333333333333,\"#9c179e\"],[0.4444444444444444,\"#bd3786\"],[0.5555555555555556,\"#d8576b\"],[0.6666666666666666,\"#ed7953\"],[0.7777777777777778,\"#fb9f3a\"],[0.8888888888888888,\"#fdca26\"],[1.0,\"#f0f921\"]],\"type\":\"histogram2dcontour\"}],\"mesh3d\":[{\"colorbar\":{\"outlinewidth\":0,\"ticks\":\"\"},\"type\":\"mesh3d\"}],\"parcoords\":[{\"line\":{\"colorbar\":{\"outlinewidth\":0,\"ticks\":\"\"}},\"type\":\"parcoords\"}],\"pie\":[{\"automargin\":true,\"type\":\"pie\"}],\"scatter\":[{\"marker\":{\"colorbar\":{\"outlinewidth\":0,\"ticks\":\"\"}},\"type\":\"scatter\"}],\"scatter3d\":[{\"line\":{\"colorbar\":{\"outlinewidth\":0,\"ticks\":\"\"}},\"marker\":{\"colorbar\":{\"outlinewidth\":0,\"ticks\":\"\"}},\"type\":\"scatter3d\"}],\"scattercarpet\":[{\"marker\":{\"colorbar\":{\"outlinewidth\":0,\"ticks\":\"\"}},\"type\":\"scattercarpet\"}],\"scattergeo\":[{\"marker\":{\"colorbar\":{\"outlinewidth\":0,\"ticks\":\"\"}},\"type\":\"scattergeo\"}],\"scattergl\":[{\"marker\":{\"colorbar\":{\"outlinewidth\":0,\"ticks\":\"\"}},\"type\":\"scattergl\"}],\"scattermapbox\":[{\"marker\":{\"colorbar\":{\"outlinewidth\":0,\"ticks\":\"\"}},\"type\":\"scattermapbox\"}],\"scatterpolar\":[{\"marker\":{\"colorbar\":{\"outlinewidth\":0,\"ticks\":\"\"}},\"type\":\"scatterpolar\"}],\"scatterpolargl\":[{\"marker\":{\"colorbar\":{\"outlinewidth\":0,\"ticks\":\"\"}},\"type\":\"scatterpolargl\"}],\"scatterternary\":[{\"marker\":{\"colorbar\":{\"outlinewidth\":0,\"ticks\":\"\"}},\"type\":\"scatterternary\"}],\"surface\":[{\"colorbar\":{\"outlinewidth\":0,\"ticks\":\"\"},\"colorscale\":[[0.0,\"#0d0887\"],[0.1111111111111111,\"#46039f\"],[0.2222222222222222,\"#7201a8\"],[0.3333333333333333,\"#9c179e\"],[0.4444444444444444,\"#bd3786\"],[0.5555555555555556,\"#d8576b\"],[0.6666666666666666,\"#ed7953\"],[0.7777777777777778,\"#fb9f3a\"],[0.8888888888888888,\"#fdca26\"],[1.0,\"#f0f921\"]],\"type\":\"surface\"}],\"table\":[{\"cells\":{\"fill\":{\"color\":\"#EBF0F8\"},\"line\":{\"color\":\"white\"}},\"header\":{\"fill\":{\"color\":\"#C8D4E3\"},\"line\":{\"color\":\"white\"}},\"type\":\"table\"}]},\"layout\":{\"annotationdefaults\":{\"arrowcolor\":\"#2a3f5f\",\"arrowhead\":0,\"arrowwidth\":1},\"autotypenumbers\":\"strict\",\"coloraxis\":{\"colorbar\":{\"outlinewidth\":0,\"ticks\":\"\"}},\"colorscale\":{\"diverging\":[[0,\"#8e0152\"],[0.1,\"#c51b7d\"],[0.2,\"#de77ae\"],[0.3,\"#f1b6da\"],[0.4,\"#fde0ef\"],[0.5,\"#f7f7f7\"],[0.6,\"#e6f5d0\"],[0.7,\"#b8e186\"],[0.8,\"#7fbc41\"],[0.9,\"#4d9221\"],[1,\"#276419\"]],\"sequential\":[[0.0,\"#0d0887\"],[0.1111111111111111,\"#46039f\"],[0.2222222222222222,\"#7201a8\"],[0.3333333333333333,\"#9c179e\"],[0.4444444444444444,\"#bd3786\"],[0.5555555555555556,\"#d8576b\"],[0.6666666666666666,\"#ed7953\"],[0.7777777777777778,\"#fb9f3a\"],[0.8888888888888888,\"#fdca26\"],[1.0,\"#f0f921\"]],\"sequentialminus\":[[0.0,\"#0d0887\"],[0.1111111111111111,\"#46039f\"],[0.2222222222222222,\"#7201a8\"],[0.3333333333333333,\"#9c179e\"],[0.4444444444444444,\"#bd3786\"],[0.5555555555555556,\"#d8576b\"],[0.6666666666666666,\"#ed7953\"],[0.7777777777777778,\"#fb9f3a\"],[0.8888888888888888,\"#fdca26\"],[1.0,\"#f0f921\"]]},\"colorway\":[\"#636efa\",\"#EF553B\",\"#00cc96\",\"#ab63fa\",\"#FFA15A\",\"#19d3f3\",\"#FF6692\",\"#B6E880\",\"#FF97FF\",\"#FECB52\"],\"font\":{\"color\":\"#2a3f5f\"},\"geo\":{\"bgcolor\":\"white\",\"lakecolor\":\"white\",\"landcolor\":\"#E5ECF6\",\"showlakes\":true,\"showland\":true,\"subunitcolor\":\"white\"},\"hoverlabel\":{\"align\":\"left\"},\"hovermode\":\"closest\",\"mapbox\":{\"style\":\"light\"},\"paper_bgcolor\":\"white\",\"plot_bgcolor\":\"#E5ECF6\",\"polar\":{\"angularaxis\":{\"gridcolor\":\"white\",\"linecolor\":\"white\",\"ticks\":\"\"},\"bgcolor\":\"#E5ECF6\",\"radialaxis\":{\"gridcolor\":\"white\",\"linecolor\":\"white\",\"ticks\":\"\"}},\"scene\":{\"xaxis\":{\"backgroundcolor\":\"#E5ECF6\",\"gridcolor\":\"white\",\"gridwidth\":2,\"linecolor\":\"white\",\"showbackground\":true,\"ticks\":\"\",\"zerolinecolor\":\"white\"},\"yaxis\":{\"backgroundcolor\":\"#E5ECF6\",\"gridcolor\":\"white\",\"gridwidth\":2,\"linecolor\":\"white\",\"showbackground\":true,\"ticks\":\"\",\"zerolinecolor\":\"white\"},\"zaxis\":{\"backgroundcolor\":\"#E5ECF6\",\"gridcolor\":\"white\",\"gridwidth\":2,\"linecolor\":\"white\",\"showbackground\":true,\"ticks\":\"\",\"zerolinecolor\":\"white\"}},\"shapedefaults\":{\"line\":{\"color\":\"#2a3f5f\"}},\"ternary\":{\"aaxis\":{\"gridcolor\":\"white\",\"linecolor\":\"white\",\"ticks\":\"\"},\"baxis\":{\"gridcolor\":\"white\",\"linecolor\":\"white\",\"ticks\":\"\"},\"bgcolor\":\"#E5ECF6\",\"caxis\":{\"gridcolor\":\"white\",\"linecolor\":\"white\",\"ticks\":\"\"}},\"title\":{\"x\":0.05},\"xaxis\":{\"automargin\":true,\"gridcolor\":\"white\",\"linecolor\":\"white\",\"ticks\":\"\",\"title\":{\"standoff\":15},\"zerolinecolor\":\"white\",\"zerolinewidth\":2},\"yaxis\":{\"automargin\":true,\"gridcolor\":\"white\",\"linecolor\":\"white\",\"ticks\":\"\",\"title\":{\"standoff\":15},\"zerolinecolor\":\"white\",\"zerolinewidth\":2}}},\"xaxis\":{\"anchor\":\"y\",\"domain\":[0.0,1.0],\"title\":{\"text\":\"Date\"}},\"yaxis\":{\"anchor\":\"x\",\"domain\":[0.0,1.0],\"title\":{\"text\":\"Cases\"}},\"title\":{\"text\":\"Examined Positives (rolling 7-day) in Tokyo\"},\"autosize\":false,\"width\":700,\"height\":500},                        {\"responsive\": true}                    ).then(function(){\n",
       "                            \n",
       "var gd = document.getElementById('16c256aa-e272-42e6-805a-85adc52cbd54');\n",
       "var x = new MutationObserver(function (mutations, observer) {{\n",
       "        var display = window.getComputedStyle(gd).display;\n",
       "        if (!display || display === 'none') {{\n",
       "            console.log([gd, 'removed!']);\n",
       "            Plotly.purge(gd);\n",
       "            observer.disconnect();\n",
       "        }}\n",
       "}});\n",
       "\n",
       "// Listen for the removal of the full notebook cells\n",
       "var notebookContainer = gd.closest('#notebook-container');\n",
       "if (notebookContainer) {{\n",
       "    x.observe(notebookContainer, {childList: true});\n",
       "}}\n",
       "\n",
       "// Listen for the clearing of the current output cell\n",
       "var outputEl = gd.closest('.output');\n",
       "if (outputEl) {{\n",
       "    x.observe(outputEl, {childList: true});\n",
       "}}\n",
       "\n",
       "                        })                };                });            </script>        </div>"
      ]
     },
     "metadata": {},
     "output_type": "display_data"
    }
   ],
   "source": [
    "fig=make_subplots(specs=[[{\"secondary_y\":False}]])\n",
    "fig.add_trace(go.Scatter(x=data1['date'][682:],y=data1['positives mean 7-day'][682:],name='positives mean 7-day'),secondary_y=False,)\n",
    "fig.update_layout(autosize=False,width=700,height=500,title_text=\"Examined Positives (rolling 7-day) in Tokyo\")\n",
    "fig.update_xaxes(title_text=\"Date\")\n",
    "fig.update_yaxes(title_text=\"Cases\",secondary_y=False)\n",
    "fig.show()"
   ]
  },
  {
   "cell_type": "markdown",
   "id": "743ef123",
   "metadata": {
    "papermill": {
     "duration": 0.033685,
     "end_time": "2022-01-28T12:27:15.022953",
     "exception": false,
     "start_time": "2022-01-28T12:27:14.989268",
     "status": "completed"
    },
    "tags": []
   },
   "source": [
    "# 3 Define Slope and Rt (simplified effective reproduction number) "
   ]
  },
  {
   "cell_type": "code",
   "execution_count": 7,
   "id": "779686b1",
   "metadata": {
    "execution": {
     "iopub.execute_input": "2022-01-28T12:27:15.096043Z",
     "iopub.status.busy": "2022-01-28T12:27:15.095092Z",
     "iopub.status.idle": "2022-01-28T12:27:15.103722Z",
     "shell.execute_reply": "2022-01-28T12:27:15.104393Z",
     "shell.execute_reply.started": "2022-01-28T12:24:08.892927Z"
    },
    "papermill": {
     "duration": 0.046833,
     "end_time": "2022-01-28T12:27:15.104566",
     "exception": false,
     "start_time": "2022-01-28T12:27:15.057733",
     "status": "completed"
    },
    "tags": []
   },
   "outputs": [],
   "source": [
    "col0=data1.columns.to_list()\n",
    "col1=col0+['pm-7','slope']\n",
    "data2=pd.DataFrame(columns=col1)\n",
    "data2[col0]=data1"
   ]
  },
  {
   "cell_type": "code",
   "execution_count": 8,
   "id": "0f3364b7",
   "metadata": {
    "execution": {
     "iopub.execute_input": "2022-01-28T12:27:15.175240Z",
     "iopub.status.busy": "2022-01-28T12:27:15.174265Z",
     "iopub.status.idle": "2022-01-28T12:27:15.179267Z",
     "shell.execute_reply": "2022-01-28T12:27:15.179722Z",
     "shell.execute_reply.started": "2022-01-28T12:24:08.902081Z"
    },
    "papermill": {
     "duration": 0.042361,
     "end_time": "2022-01-28T12:27:15.179918",
     "exception": false,
     "start_time": "2022-01-28T12:27:15.137557",
     "status": "completed"
    },
    "tags": []
   },
   "outputs": [],
   "source": [
    "data2['pm-7']=data2['positives mean 7-day'].shift(7)"
   ]
  },
  {
   "cell_type": "code",
   "execution_count": 9,
   "id": "70cd7211",
   "metadata": {
    "execution": {
     "iopub.execute_input": "2022-01-28T12:27:15.252188Z",
     "iopub.status.busy": "2022-01-28T12:27:15.251189Z",
     "iopub.status.idle": "2022-01-28T12:27:15.269037Z",
     "shell.execute_reply": "2022-01-28T12:27:15.269733Z",
     "shell.execute_reply.started": "2022-01-28T12:24:08.910313Z"
    },
    "papermill": {
     "duration": 0.05647,
     "end_time": "2022-01-28T12:27:15.270009",
     "exception": false,
     "start_time": "2022-01-28T12:27:15.213539",
     "status": "completed"
    },
    "tags": []
   },
   "outputs": [
    {
     "name": "stdout",
     "output_type": "stream",
     "text": [
      "the latest situation\n",
      "           date  pcr_positives  positives mean 7-day       slope        Rt\n",
      "695  2022-01-14           4055           1951.000000  230.346939  5.762447\n",
      "696  2022-01-15           4561           2427.714286  275.081633  4.834708\n",
      "697  2022-01-16           4172           2849.000000  312.020408  4.285131\n",
      "698  2022-01-17           3719           3255.857143  354.469388  4.203430\n",
      "699  2022-01-18           5185           3859.142857  424.102041  4.334029\n",
      "700  2022-01-19           7377           4599.000000  492.897959  4.003607\n",
      "701  2022-01-20           8638           5386.714286  554.755102  3.582953\n",
      "702  2022-01-21           9699           6193.000000  606.000000  3.174270\n",
      "703  2022-01-22          11227           7145.285714  673.938776  2.943215\n",
      "704  2022-01-23           9468           7901.857143  721.836735  2.773555\n",
      "705  2022-01-24           8503           8585.285714  761.346939  2.636874\n",
      "706  2022-01-25          12813           9675.000000  830.836735  2.507033\n",
      "707  2022-01-26          14086          10633.428571  862.061224  2.312118\n",
      "708  2022-01-27          16538          11762.000000  910.755102  2.183520\n",
      "709  2022-01-28          17631          12895.142857  957.448980  2.082213\n"
     ]
    }
   ],
   "source": [
    "# Slope value and Rt (simplified effective reproduction number) were defined as follows.\n",
    "# 'pm-7' means 'positives mean 7-day' value 7 days before.\n",
    "\n",
    "data2['slope']=(data2['positives mean 7-day']-data2['pm-7'])/7\n",
    "data２['Rt']=data2['positives mean 7-day']/data2['pm-7']  \n",
    "data3=data2[['date','pcr_positives','positives mean 7-day','slope','Rt']]\n",
    "data4=data3[14:]\n",
    "\n",
    "print('the latest situation')\n",
    "print(data4[-15:])    ### latest"
   ]
  },
  {
   "cell_type": "markdown",
   "id": "95982a1a",
   "metadata": {
    "papermill": {
     "duration": 0.034087,
     "end_time": "2022-01-28T12:27:15.338510",
     "exception": false,
     "start_time": "2022-01-28T12:27:15.304423",
     "status": "completed"
    },
    "tags": []
   },
   "source": [
    "# 4 Set daily decay rate and convergence value of Rt"
   ]
  },
  {
   "cell_type": "code",
   "execution_count": 10,
   "id": "dceb8b1f",
   "metadata": {
    "execution": {
     "iopub.execute_input": "2022-01-28T12:27:15.419315Z",
     "iopub.status.busy": "2022-01-28T12:27:15.418296Z",
     "iopub.status.idle": "2022-01-28T12:27:15.422385Z",
     "shell.execute_reply": "2022-01-28T12:27:15.422883Z",
     "shell.execute_reply.started": "2022-01-28T12:24:08.930759Z"
    },
    "papermill": {
     "duration": 0.045856,
     "end_time": "2022-01-28T12:27:15.423114",
     "exception": false,
     "start_time": "2022-01-28T12:27:15.377258",
     "status": "completed"
    },
    "tags": []
   },
   "outputs": [],
   "source": [
    "# define prediction period\n",
    "from datetime import datetime\n",
    "from datetime import date\n",
    "from datetime import timedelta\n",
    "# latest date in data4\n",
    "latest0 = datetime.strptime(data4['date'].max(),'%Y-%m-%d').date()\n",
    "end0   = datetime.strptime('2022-05-01','%Y-%m-%d').date()"
   ]
  },
  {
   "cell_type": "code",
   "execution_count": 11,
   "id": "e201446b",
   "metadata": {
    "execution": {
     "iopub.execute_input": "2022-01-28T12:27:15.496446Z",
     "iopub.status.busy": "2022-01-28T12:27:15.495724Z",
     "iopub.status.idle": "2022-01-28T12:27:15.502230Z",
     "shell.execute_reply": "2022-01-28T12:27:15.502723Z",
     "shell.execute_reply.started": "2022-01-28T12:24:08.937592Z"
    },
    "papermill": {
     "duration": 0.044142,
     "end_time": "2022-01-28T12:27:15.502945",
     "exception": false,
     "start_time": "2022-01-28T12:27:15.458803",
     "status": "completed"
    },
    "tags": []
   },
   "outputs": [
    {
     "name": "stdout",
     "output_type": "stream",
     "text": [
      "['2022-01-29', '2022-01-30', '2022-01-31', '2022-02-01', '2022-02-02']\n",
      "['2022-04-26', '2022-04-27', '2022-04-28', '2022-04-29', '2022-04-30']\n"
     ]
    }
   ],
   "source": [
    "dates0=[]\n",
    "for i in range(1,(end0-latest0).days):\n",
    "    dates0+=[(latest0+timedelta(i)).strftime('%Y-%m-%d') ]\n",
    "print(dates0[0:5])\n",
    "print(dates0[-5:])"
   ]
  },
  {
   "cell_type": "code",
   "execution_count": 12,
   "id": "479b6a1f",
   "metadata": {
    "execution": {
     "iopub.execute_input": "2022-01-28T12:27:15.576603Z",
     "iopub.status.busy": "2022-01-28T12:27:15.575612Z",
     "iopub.status.idle": "2022-01-28T12:27:15.581733Z",
     "shell.execute_reply": "2022-01-28T12:27:15.582495Z",
     "shell.execute_reply.started": "2022-01-28T12:24:08.948750Z"
    },
    "papermill": {
     "duration": 0.044802,
     "end_time": "2022-01-28T12:27:15.582767",
     "exception": false,
     "start_time": "2022-01-28T12:27:15.537965",
     "status": "completed"
    },
    "tags": []
   },
   "outputs": [
    {
     "name": "stdout",
     "output_type": "stream",
     "text": [
      "2022-01-21 2022-01-28\n"
     ]
    }
   ],
   "source": [
    "rt1_date=(latest0-timedelta(days=7)).strftime('%Y-%m-%d')\n",
    "rt2_date=latest0.strftime('%Y-%m-%d')\n",
    "print(rt1_date,rt2_date)"
   ]
  },
  {
   "cell_type": "code",
   "execution_count": 13,
   "id": "fddfd4d8",
   "metadata": {
    "execution": {
     "iopub.execute_input": "2022-01-28T12:27:15.657265Z",
     "iopub.status.busy": "2022-01-28T12:27:15.656224Z",
     "iopub.status.idle": "2022-01-28T12:27:15.663959Z",
     "shell.execute_reply": "2022-01-28T12:27:15.664440Z",
     "shell.execute_reply.started": "2022-01-28T12:24:08.962844Z"
    },
    "papermill": {
     "duration": 0.046347,
     "end_time": "2022-01-28T12:27:15.664648",
     "exception": false,
     "start_time": "2022-01-28T12:27:15.618301",
     "status": "completed"
    },
    "tags": []
   },
   "outputs": [
    {
     "name": "stdout",
     "output_type": "stream",
     "text": [
      "3.1742696053305997 2.082212636386704\n"
     ]
    }
   ],
   "source": [
    "rt1=data4['Rt'][data4['date']==rt1_date].tolist()[0]\n",
    "rt2=data4['Rt'][data4['date']==rt2_date].tolist()[0]\n",
    "print(rt1,rt2)"
   ]
  },
  {
   "cell_type": "code",
   "execution_count": 14,
   "id": "4a11318c",
   "metadata": {
    "execution": {
     "iopub.execute_input": "2022-01-28T12:27:15.742357Z",
     "iopub.status.busy": "2022-01-28T12:27:15.741386Z",
     "iopub.status.idle": "2022-01-28T12:27:15.744988Z",
     "shell.execute_reply": "2022-01-28T12:27:15.745471Z",
     "shell.execute_reply.started": "2022-01-28T12:24:08.973692Z"
    },
    "papermill": {
     "duration": 0.045788,
     "end_time": "2022-01-28T12:27:15.745669",
     "exception": false,
     "start_time": "2022-01-28T12:27:15.699881",
     "status": "completed"
    },
    "tags": []
   },
   "outputs": [
    {
     "name": "stdout",
     "output_type": "stream",
     "text": [
      "0.5757798768697155\n",
      "0.9241679987139932\n"
     ]
    }
   ],
   "source": [
    "# Empirically, Rt converges to about 0.6 (not 0) when the wave converges.\n",
    "# use latest Rt values of 7 days' interval to decide factor value\n",
    "rt_conv=0.6 ### convergence value\n",
    "ratio=(rt2-rt_conv)/(rt1-rt_conv)\n",
    "print(ratio)\n",
    "#factor**days=ratio\n",
    "factor=10**(np.log10(ratio)/7)\n",
    "print(factor) ### daily decay rate "
   ]
  },
  {
   "cell_type": "code",
   "execution_count": 15,
   "id": "b9705ade",
   "metadata": {
    "execution": {
     "iopub.execute_input": "2022-01-28T12:27:15.821217Z",
     "iopub.status.busy": "2022-01-28T12:27:15.820183Z",
     "iopub.status.idle": "2022-01-28T12:27:15.839340Z",
     "shell.execute_reply": "2022-01-28T12:27:15.839852Z",
     "shell.execute_reply.started": "2022-01-28T12:24:08.983704Z"
    },
    "papermill": {
     "duration": 0.059129,
     "end_time": "2022-01-28T12:27:15.840075",
     "exception": false,
     "start_time": "2022-01-28T12:27:15.780946",
     "status": "completed"
    },
    "tags": []
   },
   "outputs": [
    {
     "data": {
      "text/html": [
       "<div>\n",
       "<style scoped>\n",
       "    .dataframe tbody tr th:only-of-type {\n",
       "        vertical-align: middle;\n",
       "    }\n",
       "\n",
       "    .dataframe tbody tr th {\n",
       "        vertical-align: top;\n",
       "    }\n",
       "\n",
       "    .dataframe thead th {\n",
       "        text-align: right;\n",
       "    }\n",
       "</style>\n",
       "<table border=\"1\" class=\"dataframe\">\n",
       "  <thead>\n",
       "    <tr style=\"text-align: right;\">\n",
       "      <th></th>\n",
       "      <th>date</th>\n",
       "      <th>positives mean 7-day</th>\n",
       "      <th>pm-7</th>\n",
       "      <th>slope</th>\n",
       "      <th>Rt</th>\n",
       "    </tr>\n",
       "  </thead>\n",
       "  <tbody>\n",
       "    <tr>\n",
       "      <th>682</th>\n",
       "      <td>2022-01-01</td>\n",
       "      <td>60.142857</td>\n",
       "      <td>33.714286</td>\n",
       "      <td>3.775510</td>\n",
       "      <td>1.783898</td>\n",
       "    </tr>\n",
       "    <tr>\n",
       "      <th>683</th>\n",
       "      <td>2022-01-02</td>\n",
       "      <td>66.000000</td>\n",
       "      <td>35.142857</td>\n",
       "      <td>4.408163</td>\n",
       "      <td>1.878049</td>\n",
       "    </tr>\n",
       "    <tr>\n",
       "      <th>684</th>\n",
       "      <td>2022-01-03</td>\n",
       "      <td>75.714286</td>\n",
       "      <td>38.571429</td>\n",
       "      <td>5.306122</td>\n",
       "      <td>1.962963</td>\n",
       "    </tr>\n",
       "    <tr>\n",
       "      <th>685</th>\n",
       "      <td>2022-01-04</td>\n",
       "      <td>90.714286</td>\n",
       "      <td>39.714286</td>\n",
       "      <td>7.285714</td>\n",
       "      <td>2.284173</td>\n",
       "    </tr>\n",
       "    <tr>\n",
       "      <th>686</th>\n",
       "      <td>2022-01-05</td>\n",
       "      <td>135.571429</td>\n",
       "      <td>44.857143</td>\n",
       "      <td>12.959184</td>\n",
       "      <td>3.022293</td>\n",
       "    </tr>\n",
       "    <tr>\n",
       "      <th>687</th>\n",
       "      <td>2022-01-06</td>\n",
       "      <td>218.000000</td>\n",
       "      <td>48.714286</td>\n",
       "      <td>24.183673</td>\n",
       "      <td>4.475073</td>\n",
       "    </tr>\n",
       "    <tr>\n",
       "      <th>688</th>\n",
       "      <td>2022-01-07</td>\n",
       "      <td>338.571429</td>\n",
       "      <td>54.285714</td>\n",
       "      <td>40.612245</td>\n",
       "      <td>6.236842</td>\n",
       "    </tr>\n",
       "    <tr>\n",
       "      <th>689</th>\n",
       "      <td>2022-01-08</td>\n",
       "      <td>502.142857</td>\n",
       "      <td>60.142857</td>\n",
       "      <td>63.142857</td>\n",
       "      <td>8.349169</td>\n",
       "    </tr>\n",
       "    <tr>\n",
       "      <th>690</th>\n",
       "      <td>2022-01-09</td>\n",
       "      <td>664.857143</td>\n",
       "      <td>66.000000</td>\n",
       "      <td>85.551020</td>\n",
       "      <td>10.073593</td>\n",
       "    </tr>\n",
       "    <tr>\n",
       "      <th>691</th>\n",
       "      <td>2022-01-10</td>\n",
       "      <td>774.571429</td>\n",
       "      <td>75.714286</td>\n",
       "      <td>99.836735</td>\n",
       "      <td>10.230189</td>\n",
       "    </tr>\n",
       "    <tr>\n",
       "      <th>692</th>\n",
       "      <td>2022-01-11</td>\n",
       "      <td>890.428571</td>\n",
       "      <td>90.714286</td>\n",
       "      <td>114.244898</td>\n",
       "      <td>9.815748</td>\n",
       "    </tr>\n",
       "    <tr>\n",
       "      <th>693</th>\n",
       "      <td>2022-01-12</td>\n",
       "      <td>1148.714286</td>\n",
       "      <td>135.571429</td>\n",
       "      <td>144.734694</td>\n",
       "      <td>8.473130</td>\n",
       "    </tr>\n",
       "    <tr>\n",
       "      <th>694</th>\n",
       "      <td>2022-01-13</td>\n",
       "      <td>1503.428571</td>\n",
       "      <td>218.000000</td>\n",
       "      <td>183.632653</td>\n",
       "      <td>6.896461</td>\n",
       "    </tr>\n",
       "    <tr>\n",
       "      <th>695</th>\n",
       "      <td>2022-01-14</td>\n",
       "      <td>1951.000000</td>\n",
       "      <td>338.571429</td>\n",
       "      <td>230.346939</td>\n",
       "      <td>5.762447</td>\n",
       "    </tr>\n",
       "    <tr>\n",
       "      <th>696</th>\n",
       "      <td>2022-01-15</td>\n",
       "      <td>2427.714286</td>\n",
       "      <td>502.142857</td>\n",
       "      <td>275.081633</td>\n",
       "      <td>4.834708</td>\n",
       "    </tr>\n",
       "    <tr>\n",
       "      <th>697</th>\n",
       "      <td>2022-01-16</td>\n",
       "      <td>2849.000000</td>\n",
       "      <td>664.857143</td>\n",
       "      <td>312.020408</td>\n",
       "      <td>4.285131</td>\n",
       "    </tr>\n",
       "    <tr>\n",
       "      <th>698</th>\n",
       "      <td>2022-01-17</td>\n",
       "      <td>3255.857143</td>\n",
       "      <td>774.571429</td>\n",
       "      <td>354.469388</td>\n",
       "      <td>4.203430</td>\n",
       "    </tr>\n",
       "    <tr>\n",
       "      <th>699</th>\n",
       "      <td>2022-01-18</td>\n",
       "      <td>3859.142857</td>\n",
       "      <td>890.428571</td>\n",
       "      <td>424.102041</td>\n",
       "      <td>4.334029</td>\n",
       "    </tr>\n",
       "    <tr>\n",
       "      <th>700</th>\n",
       "      <td>2022-01-19</td>\n",
       "      <td>4599.000000</td>\n",
       "      <td>1148.714286</td>\n",
       "      <td>492.897959</td>\n",
       "      <td>4.003607</td>\n",
       "    </tr>\n",
       "    <tr>\n",
       "      <th>701</th>\n",
       "      <td>2022-01-20</td>\n",
       "      <td>5386.714286</td>\n",
       "      <td>1503.428571</td>\n",
       "      <td>554.755102</td>\n",
       "      <td>3.582953</td>\n",
       "    </tr>\n",
       "    <tr>\n",
       "      <th>702</th>\n",
       "      <td>2022-01-21</td>\n",
       "      <td>6193.000000</td>\n",
       "      <td>1951.000000</td>\n",
       "      <td>606.000000</td>\n",
       "      <td>3.174270</td>\n",
       "    </tr>\n",
       "    <tr>\n",
       "      <th>703</th>\n",
       "      <td>2022-01-22</td>\n",
       "      <td>7145.285714</td>\n",
       "      <td>2427.714286</td>\n",
       "      <td>673.938776</td>\n",
       "      <td>2.943215</td>\n",
       "    </tr>\n",
       "    <tr>\n",
       "      <th>704</th>\n",
       "      <td>2022-01-23</td>\n",
       "      <td>7901.857143</td>\n",
       "      <td>2849.000000</td>\n",
       "      <td>721.836735</td>\n",
       "      <td>2.773555</td>\n",
       "    </tr>\n",
       "    <tr>\n",
       "      <th>705</th>\n",
       "      <td>2022-01-24</td>\n",
       "      <td>8585.285714</td>\n",
       "      <td>3255.857143</td>\n",
       "      <td>761.346939</td>\n",
       "      <td>2.636874</td>\n",
       "    </tr>\n",
       "    <tr>\n",
       "      <th>706</th>\n",
       "      <td>2022-01-25</td>\n",
       "      <td>9675.000000</td>\n",
       "      <td>3859.142857</td>\n",
       "      <td>830.836735</td>\n",
       "      <td>2.507033</td>\n",
       "    </tr>\n",
       "    <tr>\n",
       "      <th>707</th>\n",
       "      <td>2022-01-26</td>\n",
       "      <td>10633.428571</td>\n",
       "      <td>4599.000000</td>\n",
       "      <td>862.061224</td>\n",
       "      <td>2.312118</td>\n",
       "    </tr>\n",
       "    <tr>\n",
       "      <th>708</th>\n",
       "      <td>2022-01-27</td>\n",
       "      <td>11762.000000</td>\n",
       "      <td>5386.714286</td>\n",
       "      <td>910.755102</td>\n",
       "      <td>2.183520</td>\n",
       "    </tr>\n",
       "    <tr>\n",
       "      <th>709</th>\n",
       "      <td>2022-01-28</td>\n",
       "      <td>12895.142857</td>\n",
       "      <td>6193.000000</td>\n",
       "      <td>957.448980</td>\n",
       "      <td>2.082213</td>\n",
       "    </tr>\n",
       "  </tbody>\n",
       "</table>\n",
       "</div>"
      ],
      "text/plain": [
       "           date  positives mean 7-day         pm-7       slope         Rt\n",
       "682  2022-01-01             60.142857    33.714286    3.775510   1.783898\n",
       "683  2022-01-02             66.000000    35.142857    4.408163   1.878049\n",
       "684  2022-01-03             75.714286    38.571429    5.306122   1.962963\n",
       "685  2022-01-04             90.714286    39.714286    7.285714   2.284173\n",
       "686  2022-01-05            135.571429    44.857143   12.959184   3.022293\n",
       "687  2022-01-06            218.000000    48.714286   24.183673   4.475073\n",
       "688  2022-01-07            338.571429    54.285714   40.612245   6.236842\n",
       "689  2022-01-08            502.142857    60.142857   63.142857   8.349169\n",
       "690  2022-01-09            664.857143    66.000000   85.551020  10.073593\n",
       "691  2022-01-10            774.571429    75.714286   99.836735  10.230189\n",
       "692  2022-01-11            890.428571    90.714286  114.244898   9.815748\n",
       "693  2022-01-12           1148.714286   135.571429  144.734694   8.473130\n",
       "694  2022-01-13           1503.428571   218.000000  183.632653   6.896461\n",
       "695  2022-01-14           1951.000000   338.571429  230.346939   5.762447\n",
       "696  2022-01-15           2427.714286   502.142857  275.081633   4.834708\n",
       "697  2022-01-16           2849.000000   664.857143  312.020408   4.285131\n",
       "698  2022-01-17           3255.857143   774.571429  354.469388   4.203430\n",
       "699  2022-01-18           3859.142857   890.428571  424.102041   4.334029\n",
       "700  2022-01-19           4599.000000  1148.714286  492.897959   4.003607\n",
       "701  2022-01-20           5386.714286  1503.428571  554.755102   3.582953\n",
       "702  2022-01-21           6193.000000  1951.000000  606.000000   3.174270\n",
       "703  2022-01-22           7145.285714  2427.714286  673.938776   2.943215\n",
       "704  2022-01-23           7901.857143  2849.000000  721.836735   2.773555\n",
       "705  2022-01-24           8585.285714  3255.857143  761.346939   2.636874\n",
       "706  2022-01-25           9675.000000  3859.142857  830.836735   2.507033\n",
       "707  2022-01-26          10633.428571  4599.000000  862.061224   2.312118\n",
       "708  2022-01-27          11762.000000  5386.714286  910.755102   2.183520\n",
       "709  2022-01-28          12895.142857  6193.000000  957.448980   2.082213"
      ]
     },
     "execution_count": 15,
     "metadata": {},
     "output_type": "execute_result"
    }
   ],
   "source": [
    "# existing recent data\n",
    "data5=data2[['date','positives mean 7-day', 'pm-7','slope','Rt']][682:].copy()\n",
    "data5"
   ]
  },
  {
   "cell_type": "code",
   "execution_count": 16,
   "id": "cc3e7df6",
   "metadata": {
    "execution": {
     "iopub.execute_input": "2022-01-28T12:27:15.919126Z",
     "iopub.status.busy": "2022-01-28T12:27:15.918111Z",
     "iopub.status.idle": "2022-01-28T12:27:15.937569Z",
     "shell.execute_reply": "2022-01-28T12:27:15.938082Z",
     "shell.execute_reply.started": "2022-01-28T12:24:09.004322Z"
    },
    "papermill": {
     "duration": 0.06075,
     "end_time": "2022-01-28T12:27:15.938287",
     "exception": false,
     "start_time": "2022-01-28T12:27:15.877537",
     "status": "completed"
    },
    "tags": []
   },
   "outputs": [
    {
     "data": {
      "text/html": [
       "<div>\n",
       "<style scoped>\n",
       "    .dataframe tbody tr th:only-of-type {\n",
       "        vertical-align: middle;\n",
       "    }\n",
       "\n",
       "    .dataframe tbody tr th {\n",
       "        vertical-align: top;\n",
       "    }\n",
       "\n",
       "    .dataframe thead th {\n",
       "        text-align: right;\n",
       "    }\n",
       "</style>\n",
       "<table border=\"1\" class=\"dataframe\">\n",
       "  <thead>\n",
       "    <tr style=\"text-align: right;\">\n",
       "      <th></th>\n",
       "      <th>date</th>\n",
       "      <th>positives mean 7-day</th>\n",
       "      <th>pm-7</th>\n",
       "      <th>slope</th>\n",
       "      <th>Rt</th>\n",
       "    </tr>\n",
       "  </thead>\n",
       "  <tbody>\n",
       "    <tr>\n",
       "      <th>0</th>\n",
       "      <td>2022-01-29</td>\n",
       "      <td>NaN</td>\n",
       "      <td>7145.285714</td>\n",
       "      <td>NaN</td>\n",
       "      <td>NaN</td>\n",
       "    </tr>\n",
       "    <tr>\n",
       "      <th>1</th>\n",
       "      <td>2022-01-30</td>\n",
       "      <td>NaN</td>\n",
       "      <td>7901.857143</td>\n",
       "      <td>NaN</td>\n",
       "      <td>NaN</td>\n",
       "    </tr>\n",
       "    <tr>\n",
       "      <th>2</th>\n",
       "      <td>2022-01-31</td>\n",
       "      <td>NaN</td>\n",
       "      <td>8585.285714</td>\n",
       "      <td>NaN</td>\n",
       "      <td>NaN</td>\n",
       "    </tr>\n",
       "    <tr>\n",
       "      <th>3</th>\n",
       "      <td>2022-02-01</td>\n",
       "      <td>NaN</td>\n",
       "      <td>9675.0</td>\n",
       "      <td>NaN</td>\n",
       "      <td>NaN</td>\n",
       "    </tr>\n",
       "    <tr>\n",
       "      <th>4</th>\n",
       "      <td>2022-02-02</td>\n",
       "      <td>NaN</td>\n",
       "      <td>10633.428571</td>\n",
       "      <td>NaN</td>\n",
       "      <td>NaN</td>\n",
       "    </tr>\n",
       "    <tr>\n",
       "      <th>...</th>\n",
       "      <td>...</td>\n",
       "      <td>...</td>\n",
       "      <td>...</td>\n",
       "      <td>...</td>\n",
       "      <td>...</td>\n",
       "    </tr>\n",
       "    <tr>\n",
       "      <th>87</th>\n",
       "      <td>2022-04-26</td>\n",
       "      <td>NaN</td>\n",
       "      <td>NaN</td>\n",
       "      <td>NaN</td>\n",
       "      <td>NaN</td>\n",
       "    </tr>\n",
       "    <tr>\n",
       "      <th>88</th>\n",
       "      <td>2022-04-27</td>\n",
       "      <td>NaN</td>\n",
       "      <td>NaN</td>\n",
       "      <td>NaN</td>\n",
       "      <td>NaN</td>\n",
       "    </tr>\n",
       "    <tr>\n",
       "      <th>89</th>\n",
       "      <td>2022-04-28</td>\n",
       "      <td>NaN</td>\n",
       "      <td>NaN</td>\n",
       "      <td>NaN</td>\n",
       "      <td>NaN</td>\n",
       "    </tr>\n",
       "    <tr>\n",
       "      <th>90</th>\n",
       "      <td>2022-04-29</td>\n",
       "      <td>NaN</td>\n",
       "      <td>NaN</td>\n",
       "      <td>NaN</td>\n",
       "      <td>NaN</td>\n",
       "    </tr>\n",
       "    <tr>\n",
       "      <th>91</th>\n",
       "      <td>2022-04-30</td>\n",
       "      <td>NaN</td>\n",
       "      <td>NaN</td>\n",
       "      <td>NaN</td>\n",
       "      <td>NaN</td>\n",
       "    </tr>\n",
       "  </tbody>\n",
       "</table>\n",
       "<p>92 rows × 5 columns</p>\n",
       "</div>"
      ],
      "text/plain": [
       "          date positives mean 7-day          pm-7 slope   Rt\n",
       "0   2022-01-29                  NaN   7145.285714   NaN  NaN\n",
       "1   2022-01-30                  NaN   7901.857143   NaN  NaN\n",
       "2   2022-01-31                  NaN   8585.285714   NaN  NaN\n",
       "3   2022-02-01                  NaN        9675.0   NaN  NaN\n",
       "4   2022-02-02                  NaN  10633.428571   NaN  NaN\n",
       "..         ...                  ...           ...   ...  ...\n",
       "87  2022-04-26                  NaN           NaN   NaN  NaN\n",
       "88  2022-04-27                  NaN           NaN   NaN  NaN\n",
       "89  2022-04-28                  NaN           NaN   NaN  NaN\n",
       "90  2022-04-29                  NaN           NaN   NaN  NaN\n",
       "91  2022-04-30                  NaN           NaN   NaN  NaN\n",
       "\n",
       "[92 rows x 5 columns]"
      ]
     },
     "execution_count": 16,
     "metadata": {},
     "output_type": "execute_result"
    }
   ],
   "source": [
    "data5p=pd.DataFrame(columns=data5.columns)\n",
    "data5p['date']=dates0\n",
    "data5p.iloc[0:7,2]=data5.iloc[-7:,1]\n",
    "data5p"
   ]
  },
  {
   "cell_type": "code",
   "execution_count": 17,
   "id": "926f32fd",
   "metadata": {
    "execution": {
     "iopub.execute_input": "2022-01-28T12:27:16.020476Z",
     "iopub.status.busy": "2022-01-28T12:27:16.019622Z",
     "iopub.status.idle": "2022-01-28T12:27:16.035731Z",
     "shell.execute_reply": "2022-01-28T12:27:16.036299Z",
     "shell.execute_reply.started": "2022-01-28T12:24:09.027473Z"
    },
    "papermill": {
     "duration": 0.060444,
     "end_time": "2022-01-28T12:27:16.036515",
     "exception": false,
     "start_time": "2022-01-28T12:27:15.976071",
     "status": "completed"
    },
    "tags": []
   },
   "outputs": [
    {
     "data": {
      "text/html": [
       "<div>\n",
       "<style scoped>\n",
       "    .dataframe tbody tr th:only-of-type {\n",
       "        vertical-align: middle;\n",
       "    }\n",
       "\n",
       "    .dataframe tbody tr th {\n",
       "        vertical-align: top;\n",
       "    }\n",
       "\n",
       "    .dataframe thead th {\n",
       "        text-align: right;\n",
       "    }\n",
       "</style>\n",
       "<table border=\"1\" class=\"dataframe\">\n",
       "  <thead>\n",
       "    <tr style=\"text-align: right;\">\n",
       "      <th></th>\n",
       "      <th>date</th>\n",
       "      <th>positives mean 7-day</th>\n",
       "      <th>pm-7</th>\n",
       "      <th>slope</th>\n",
       "      <th>Rt</th>\n",
       "    </tr>\n",
       "  </thead>\n",
       "  <tbody>\n",
       "    <tr>\n",
       "      <th>0</th>\n",
       "      <td>2022-01-01</td>\n",
       "      <td>60.142857</td>\n",
       "      <td>33.714286</td>\n",
       "      <td>3.77551</td>\n",
       "      <td>1.783898</td>\n",
       "    </tr>\n",
       "    <tr>\n",
       "      <th>1</th>\n",
       "      <td>2022-01-02</td>\n",
       "      <td>66.0</td>\n",
       "      <td>35.142857</td>\n",
       "      <td>4.408163</td>\n",
       "      <td>1.878049</td>\n",
       "    </tr>\n",
       "    <tr>\n",
       "      <th>2</th>\n",
       "      <td>2022-01-03</td>\n",
       "      <td>75.714286</td>\n",
       "      <td>38.571429</td>\n",
       "      <td>5.306122</td>\n",
       "      <td>1.962963</td>\n",
       "    </tr>\n",
       "    <tr>\n",
       "      <th>3</th>\n",
       "      <td>2022-01-04</td>\n",
       "      <td>90.714286</td>\n",
       "      <td>39.714286</td>\n",
       "      <td>7.285714</td>\n",
       "      <td>2.284173</td>\n",
       "    </tr>\n",
       "    <tr>\n",
       "      <th>4</th>\n",
       "      <td>2022-01-05</td>\n",
       "      <td>135.571429</td>\n",
       "      <td>44.857143</td>\n",
       "      <td>12.959184</td>\n",
       "      <td>3.022293</td>\n",
       "    </tr>\n",
       "    <tr>\n",
       "      <th>5</th>\n",
       "      <td>2022-01-06</td>\n",
       "      <td>218.0</td>\n",
       "      <td>48.714286</td>\n",
       "      <td>24.183673</td>\n",
       "      <td>4.475073</td>\n",
       "    </tr>\n",
       "    <tr>\n",
       "      <th>6</th>\n",
       "      <td>2022-01-07</td>\n",
       "      <td>338.571429</td>\n",
       "      <td>54.285714</td>\n",
       "      <td>40.612245</td>\n",
       "      <td>6.236842</td>\n",
       "    </tr>\n",
       "    <tr>\n",
       "      <th>7</th>\n",
       "      <td>2022-01-08</td>\n",
       "      <td>502.142857</td>\n",
       "      <td>60.142857</td>\n",
       "      <td>63.142857</td>\n",
       "      <td>8.349169</td>\n",
       "    </tr>\n",
       "    <tr>\n",
       "      <th>8</th>\n",
       "      <td>2022-01-09</td>\n",
       "      <td>664.857143</td>\n",
       "      <td>66.0</td>\n",
       "      <td>85.55102</td>\n",
       "      <td>10.073593</td>\n",
       "    </tr>\n",
       "    <tr>\n",
       "      <th>9</th>\n",
       "      <td>2022-01-10</td>\n",
       "      <td>774.571429</td>\n",
       "      <td>75.714286</td>\n",
       "      <td>99.836735</td>\n",
       "      <td>10.230189</td>\n",
       "    </tr>\n",
       "    <tr>\n",
       "      <th>10</th>\n",
       "      <td>2022-01-11</td>\n",
       "      <td>890.428571</td>\n",
       "      <td>90.714286</td>\n",
       "      <td>114.244898</td>\n",
       "      <td>9.815748</td>\n",
       "    </tr>\n",
       "    <tr>\n",
       "      <th>11</th>\n",
       "      <td>2022-01-12</td>\n",
       "      <td>1148.714286</td>\n",
       "      <td>135.571429</td>\n",
       "      <td>144.734694</td>\n",
       "      <td>8.47313</td>\n",
       "    </tr>\n",
       "    <tr>\n",
       "      <th>12</th>\n",
       "      <td>2022-01-13</td>\n",
       "      <td>1503.428571</td>\n",
       "      <td>218.0</td>\n",
       "      <td>183.632653</td>\n",
       "      <td>6.896461</td>\n",
       "    </tr>\n",
       "    <tr>\n",
       "      <th>13</th>\n",
       "      <td>2022-01-14</td>\n",
       "      <td>1951.0</td>\n",
       "      <td>338.571429</td>\n",
       "      <td>230.346939</td>\n",
       "      <td>5.762447</td>\n",
       "    </tr>\n",
       "    <tr>\n",
       "      <th>14</th>\n",
       "      <td>2022-01-15</td>\n",
       "      <td>2427.714286</td>\n",
       "      <td>502.142857</td>\n",
       "      <td>275.081633</td>\n",
       "      <td>4.834708</td>\n",
       "    </tr>\n",
       "    <tr>\n",
       "      <th>15</th>\n",
       "      <td>2022-01-16</td>\n",
       "      <td>2849.0</td>\n",
       "      <td>664.857143</td>\n",
       "      <td>312.020408</td>\n",
       "      <td>4.285131</td>\n",
       "    </tr>\n",
       "    <tr>\n",
       "      <th>16</th>\n",
       "      <td>2022-01-17</td>\n",
       "      <td>3255.857143</td>\n",
       "      <td>774.571429</td>\n",
       "      <td>354.469388</td>\n",
       "      <td>4.20343</td>\n",
       "    </tr>\n",
       "    <tr>\n",
       "      <th>17</th>\n",
       "      <td>2022-01-18</td>\n",
       "      <td>3859.142857</td>\n",
       "      <td>890.428571</td>\n",
       "      <td>424.102041</td>\n",
       "      <td>4.334029</td>\n",
       "    </tr>\n",
       "    <tr>\n",
       "      <th>18</th>\n",
       "      <td>2022-01-19</td>\n",
       "      <td>4599.0</td>\n",
       "      <td>1148.714286</td>\n",
       "      <td>492.897959</td>\n",
       "      <td>4.003607</td>\n",
       "    </tr>\n",
       "    <tr>\n",
       "      <th>19</th>\n",
       "      <td>2022-01-20</td>\n",
       "      <td>5386.714286</td>\n",
       "      <td>1503.428571</td>\n",
       "      <td>554.755102</td>\n",
       "      <td>3.582953</td>\n",
       "    </tr>\n",
       "    <tr>\n",
       "      <th>20</th>\n",
       "      <td>2022-01-21</td>\n",
       "      <td>6193.0</td>\n",
       "      <td>1951.0</td>\n",
       "      <td>606.0</td>\n",
       "      <td>3.17427</td>\n",
       "    </tr>\n",
       "    <tr>\n",
       "      <th>21</th>\n",
       "      <td>2022-01-22</td>\n",
       "      <td>7145.285714</td>\n",
       "      <td>2427.714286</td>\n",
       "      <td>673.938776</td>\n",
       "      <td>2.943215</td>\n",
       "    </tr>\n",
       "    <tr>\n",
       "      <th>22</th>\n",
       "      <td>2022-01-23</td>\n",
       "      <td>7901.857143</td>\n",
       "      <td>2849.0</td>\n",
       "      <td>721.836735</td>\n",
       "      <td>2.773555</td>\n",
       "    </tr>\n",
       "    <tr>\n",
       "      <th>23</th>\n",
       "      <td>2022-01-24</td>\n",
       "      <td>8585.285714</td>\n",
       "      <td>3255.857143</td>\n",
       "      <td>761.346939</td>\n",
       "      <td>2.636874</td>\n",
       "    </tr>\n",
       "    <tr>\n",
       "      <th>24</th>\n",
       "      <td>2022-01-25</td>\n",
       "      <td>9675.0</td>\n",
       "      <td>3859.142857</td>\n",
       "      <td>830.836735</td>\n",
       "      <td>2.507033</td>\n",
       "    </tr>\n",
       "    <tr>\n",
       "      <th>25</th>\n",
       "      <td>2022-01-26</td>\n",
       "      <td>10633.428571</td>\n",
       "      <td>4599.0</td>\n",
       "      <td>862.061224</td>\n",
       "      <td>2.312118</td>\n",
       "    </tr>\n",
       "    <tr>\n",
       "      <th>26</th>\n",
       "      <td>2022-01-27</td>\n",
       "      <td>11762.0</td>\n",
       "      <td>5386.714286</td>\n",
       "      <td>910.755102</td>\n",
       "      <td>2.18352</td>\n",
       "    </tr>\n",
       "    <tr>\n",
       "      <th>27</th>\n",
       "      <td>2022-01-28</td>\n",
       "      <td>12895.142857</td>\n",
       "      <td>6193.0</td>\n",
       "      <td>957.44898</td>\n",
       "      <td>2.082213</td>\n",
       "    </tr>\n",
       "    <tr>\n",
       "      <th>28</th>\n",
       "      <td>2022-01-29</td>\n",
       "      <td>NaN</td>\n",
       "      <td>7145.285714</td>\n",
       "      <td>NaN</td>\n",
       "      <td>NaN</td>\n",
       "    </tr>\n",
       "    <tr>\n",
       "      <th>29</th>\n",
       "      <td>2022-01-30</td>\n",
       "      <td>NaN</td>\n",
       "      <td>7901.857143</td>\n",
       "      <td>NaN</td>\n",
       "      <td>NaN</td>\n",
       "    </tr>\n",
       "  </tbody>\n",
       "</table>\n",
       "</div>"
      ],
      "text/plain": [
       "          date positives mean 7-day         pm-7       slope         Rt\n",
       "0   2022-01-01            60.142857    33.714286     3.77551   1.783898\n",
       "1   2022-01-02                 66.0    35.142857    4.408163   1.878049\n",
       "2   2022-01-03            75.714286    38.571429    5.306122   1.962963\n",
       "3   2022-01-04            90.714286    39.714286    7.285714   2.284173\n",
       "4   2022-01-05           135.571429    44.857143   12.959184   3.022293\n",
       "5   2022-01-06                218.0    48.714286   24.183673   4.475073\n",
       "6   2022-01-07           338.571429    54.285714   40.612245   6.236842\n",
       "7   2022-01-08           502.142857    60.142857   63.142857   8.349169\n",
       "8   2022-01-09           664.857143         66.0    85.55102  10.073593\n",
       "9   2022-01-10           774.571429    75.714286   99.836735  10.230189\n",
       "10  2022-01-11           890.428571    90.714286  114.244898   9.815748\n",
       "11  2022-01-12          1148.714286   135.571429  144.734694    8.47313\n",
       "12  2022-01-13          1503.428571        218.0  183.632653   6.896461\n",
       "13  2022-01-14               1951.0   338.571429  230.346939   5.762447\n",
       "14  2022-01-15          2427.714286   502.142857  275.081633   4.834708\n",
       "15  2022-01-16               2849.0   664.857143  312.020408   4.285131\n",
       "16  2022-01-17          3255.857143   774.571429  354.469388    4.20343\n",
       "17  2022-01-18          3859.142857   890.428571  424.102041   4.334029\n",
       "18  2022-01-19               4599.0  1148.714286  492.897959   4.003607\n",
       "19  2022-01-20          5386.714286  1503.428571  554.755102   3.582953\n",
       "20  2022-01-21               6193.0       1951.0       606.0    3.17427\n",
       "21  2022-01-22          7145.285714  2427.714286  673.938776   2.943215\n",
       "22  2022-01-23          7901.857143       2849.0  721.836735   2.773555\n",
       "23  2022-01-24          8585.285714  3255.857143  761.346939   2.636874\n",
       "24  2022-01-25               9675.0  3859.142857  830.836735   2.507033\n",
       "25  2022-01-26         10633.428571       4599.0  862.061224   2.312118\n",
       "26  2022-01-27              11762.0  5386.714286  910.755102    2.18352\n",
       "27  2022-01-28         12895.142857       6193.0   957.44898   2.082213\n",
       "28  2022-01-29                  NaN  7145.285714         NaN        NaN\n",
       "29  2022-01-30                  NaN  7901.857143         NaN        NaN"
      ]
     },
     "execution_count": 17,
     "metadata": {},
     "output_type": "execute_result"
    }
   ],
   "source": [
    "data5p2=pd.concat([data5,data5p],axis=0).reset_index(drop=True)\n",
    "data5p2[0:30]"
   ]
  },
  {
   "cell_type": "code",
   "execution_count": 18,
   "id": "3d246eeb",
   "metadata": {
    "execution": {
     "iopub.execute_input": "2022-01-28T12:27:16.115747Z",
     "iopub.status.busy": "2022-01-28T12:27:16.115096Z",
     "iopub.status.idle": "2022-01-28T12:27:16.119301Z",
     "shell.execute_reply": "2022-01-28T12:27:16.119831Z",
     "shell.execute_reply.started": "2022-01-28T12:24:09.045016Z"
    },
    "papermill": {
     "duration": 0.04593,
     "end_time": "2022-01-28T12:27:16.120059",
     "exception": false,
     "start_time": "2022-01-28T12:27:16.074129",
     "status": "completed"
    },
    "tags": []
   },
   "outputs": [
    {
     "name": "stdout",
     "output_type": "stream",
     "text": [
      "28\n"
     ]
    }
   ],
   "source": [
    "length0=len(data5)\n",
    "print(length0)"
   ]
  },
  {
   "cell_type": "code",
   "execution_count": 19,
   "id": "75d24956",
   "metadata": {
    "execution": {
     "iopub.execute_input": "2022-01-28T12:27:16.201945Z",
     "iopub.status.busy": "2022-01-28T12:27:16.201234Z",
     "iopub.status.idle": "2022-01-28T12:27:16.204195Z",
     "shell.execute_reply": "2022-01-28T12:27:16.204693Z",
     "shell.execute_reply.started": "2022-01-28T12:24:09.052415Z"
    },
    "papermill": {
     "duration": 0.047172,
     "end_time": "2022-01-28T12:27:16.204910",
     "exception": false,
     "start_time": "2022-01-28T12:27:16.157738",
     "status": "completed"
    },
    "tags": []
   },
   "outputs": [
    {
     "name": "stdout",
     "output_type": "stream",
     "text": [
      "120\n"
     ]
    }
   ],
   "source": [
    "length2=len(data5p2)\n",
    "print(length2)"
   ]
  },
  {
   "cell_type": "code",
   "execution_count": 20,
   "id": "4dd3841b",
   "metadata": {
    "execution": {
     "iopub.execute_input": "2022-01-28T12:27:16.292928Z",
     "iopub.status.busy": "2022-01-28T12:27:16.292076Z",
     "iopub.status.idle": "2022-01-28T12:27:17.861968Z",
     "shell.execute_reply": "2022-01-28T12:27:17.861306Z",
     "shell.execute_reply.started": "2022-01-28T12:24:09.062470Z"
    },
    "papermill": {
     "duration": 1.617787,
     "end_time": "2022-01-28T12:27:17.862135",
     "exception": false,
     "start_time": "2022-01-28T12:27:16.244348",
     "status": "completed"
    },
    "tags": []
   },
   "outputs": [
    {
     "data": {
      "text/html": [
       "<div>\n",
       "<style scoped>\n",
       "    .dataframe tbody tr th:only-of-type {\n",
       "        vertical-align: middle;\n",
       "    }\n",
       "\n",
       "    .dataframe tbody tr th {\n",
       "        vertical-align: top;\n",
       "    }\n",
       "\n",
       "    .dataframe thead th {\n",
       "        text-align: right;\n",
       "    }\n",
       "</style>\n",
       "<table border=\"1\" class=\"dataframe\">\n",
       "  <thead>\n",
       "    <tr style=\"text-align: right;\">\n",
       "      <th></th>\n",
       "      <th>date</th>\n",
       "      <th>positives mean 7-day</th>\n",
       "      <th>pm-7</th>\n",
       "      <th>slope</th>\n",
       "      <th>Rt</th>\n",
       "    </tr>\n",
       "  </thead>\n",
       "  <tbody>\n",
       "    <tr>\n",
       "      <th>0</th>\n",
       "      <td>2022-01-01</td>\n",
       "      <td>60.142857</td>\n",
       "      <td>33.714286</td>\n",
       "      <td>3.77551</td>\n",
       "      <td>1.783898</td>\n",
       "    </tr>\n",
       "    <tr>\n",
       "      <th>1</th>\n",
       "      <td>2022-01-02</td>\n",
       "      <td>66.0</td>\n",
       "      <td>35.142857</td>\n",
       "      <td>4.408163</td>\n",
       "      <td>1.878049</td>\n",
       "    </tr>\n",
       "    <tr>\n",
       "      <th>2</th>\n",
       "      <td>2022-01-03</td>\n",
       "      <td>75.714286</td>\n",
       "      <td>38.571429</td>\n",
       "      <td>5.306122</td>\n",
       "      <td>1.962963</td>\n",
       "    </tr>\n",
       "    <tr>\n",
       "      <th>3</th>\n",
       "      <td>2022-01-04</td>\n",
       "      <td>90.714286</td>\n",
       "      <td>39.714286</td>\n",
       "      <td>7.285714</td>\n",
       "      <td>2.284173</td>\n",
       "    </tr>\n",
       "    <tr>\n",
       "      <th>4</th>\n",
       "      <td>2022-01-05</td>\n",
       "      <td>135.571429</td>\n",
       "      <td>44.857143</td>\n",
       "      <td>12.959184</td>\n",
       "      <td>3.022293</td>\n",
       "    </tr>\n",
       "    <tr>\n",
       "      <th>...</th>\n",
       "      <td>...</td>\n",
       "      <td>...</td>\n",
       "      <td>...</td>\n",
       "      <td>...</td>\n",
       "      <td>...</td>\n",
       "    </tr>\n",
       "    <tr>\n",
       "      <th>115</th>\n",
       "      <td>2022-04-26</td>\n",
       "      <td>239.800002</td>\n",
       "      <td>398.712774</td>\n",
       "      <td>-22.701825</td>\n",
       "      <td>0.601435</td>\n",
       "    </tr>\n",
       "    <tr>\n",
       "      <th>116</th>\n",
       "      <td>2022-04-27</td>\n",
       "      <td>222.530128</td>\n",
       "      <td>370.065327</td>\n",
       "      <td>-21.076457</td>\n",
       "      <td>0.601327</td>\n",
       "    </tr>\n",
       "    <tr>\n",
       "      <th>117</th>\n",
       "      <td>2022-04-28</td>\n",
       "      <td>209.44595</td>\n",
       "      <td>348.364753</td>\n",
       "      <td>-19.845543</td>\n",
       "      <td>0.601226</td>\n",
       "    </tr>\n",
       "    <tr>\n",
       "      <th>118</th>\n",
       "      <td>2022-04-29</td>\n",
       "      <td>196.864029</td>\n",
       "      <td>327.488287</td>\n",
       "      <td>-18.660608</td>\n",
       "      <td>0.601133</td>\n",
       "    </tr>\n",
       "    <tr>\n",
       "      <th>119</th>\n",
       "      <td>2022-04-30</td>\n",
       "      <td>185.576173</td>\n",
       "      <td>308.754783</td>\n",
       "      <td>-17.596944</td>\n",
       "      <td>0.601047</td>\n",
       "    </tr>\n",
       "  </tbody>\n",
       "</table>\n",
       "<p>120 rows × 5 columns</p>\n",
       "</div>"
      ],
      "text/plain": [
       "           date positives mean 7-day        pm-7      slope        Rt\n",
       "0    2022-01-01            60.142857   33.714286    3.77551  1.783898\n",
       "1    2022-01-02                 66.0   35.142857   4.408163  1.878049\n",
       "2    2022-01-03            75.714286   38.571429   5.306122  1.962963\n",
       "3    2022-01-04            90.714286   39.714286   7.285714  2.284173\n",
       "4    2022-01-05           135.571429   44.857143  12.959184  3.022293\n",
       "..          ...                  ...         ...        ...       ...\n",
       "115  2022-04-26           239.800002  398.712774 -22.701825  0.601435\n",
       "116  2022-04-27           222.530128  370.065327 -21.076457  0.601327\n",
       "117  2022-04-28            209.44595  348.364753 -19.845543  0.601226\n",
       "118  2022-04-29           196.864029  327.488287 -18.660608  0.601133\n",
       "119  2022-04-30           185.576173  308.754783 -17.596944  0.601047\n",
       "\n",
       "[120 rows x 5 columns]"
      ]
     },
     "execution_count": 20,
     "metadata": {},
     "output_type": "execute_result"
    }
   ],
   "source": [
    "for j in range(16):\n",
    "    for i in range(length0,length2):\n",
    "        data5p2.loc[i,'Rt']=(data5p2.loc[i-1,'Rt']-rt_conv)*factor+rt_conv\n",
    "        data5p2.loc[i,'positives mean 7-day']=data5p2.loc[i,'pm-7']*data5p2.loc[i,'Rt']\n",
    "        data5p2['slope']=(data5p2['positives mean 7-day']-data5p2['pm-7'])/7\n",
    "        data5p2.loc[i+7,'pm-7']=data5p2.loc[i,'positives mean 7-day']\n",
    "\n",
    "data5p2[:length2]"
   ]
  },
  {
   "cell_type": "code",
   "execution_count": 21,
   "id": "ef779566",
   "metadata": {
    "execution": {
     "iopub.execute_input": "2022-01-28T12:27:17.948137Z",
     "iopub.status.busy": "2022-01-28T12:27:17.947395Z",
     "iopub.status.idle": "2022-01-28T12:27:17.957048Z",
     "shell.execute_reply": "2022-01-28T12:27:17.956240Z",
     "shell.execute_reply.started": "2022-01-28T12:24:10.506908Z"
    },
    "papermill": {
     "duration": 0.055376,
     "end_time": "2022-01-28T12:27:17.957216",
     "exception": false,
     "start_time": "2022-01-28T12:27:17.901840",
     "status": "completed"
    },
    "tags": []
   },
   "outputs": [
    {
     "data": {
      "text/html": [
       "<div>\n",
       "<style scoped>\n",
       "    .dataframe tbody tr th:only-of-type {\n",
       "        vertical-align: middle;\n",
       "    }\n",
       "\n",
       "    .dataframe tbody tr th {\n",
       "        vertical-align: top;\n",
       "    }\n",
       "\n",
       "    .dataframe thead th {\n",
       "        text-align: right;\n",
       "    }\n",
       "</style>\n",
       "<table border=\"1\" class=\"dataframe\">\n",
       "  <thead>\n",
       "    <tr style=\"text-align: right;\">\n",
       "      <th></th>\n",
       "      <th>date</th>\n",
       "      <th>positives mean 7-day</th>\n",
       "      <th>pm-7</th>\n",
       "      <th>slope</th>\n",
       "      <th>Rt</th>\n",
       "    </tr>\n",
       "  </thead>\n",
       "  <tbody>\n",
       "    <tr>\n",
       "      <th>23</th>\n",
       "      <td>2022-01-24</td>\n",
       "      <td>8585.285714</td>\n",
       "      <td>3255.857143</td>\n",
       "      <td>761.346939</td>\n",
       "      <td>2.636874</td>\n",
       "    </tr>\n",
       "    <tr>\n",
       "      <th>24</th>\n",
       "      <td>2022-01-25</td>\n",
       "      <td>9675.0</td>\n",
       "      <td>3859.142857</td>\n",
       "      <td>830.836735</td>\n",
       "      <td>2.507033</td>\n",
       "    </tr>\n",
       "    <tr>\n",
       "      <th>25</th>\n",
       "      <td>2022-01-26</td>\n",
       "      <td>10633.428571</td>\n",
       "      <td>4599.0</td>\n",
       "      <td>862.061224</td>\n",
       "      <td>2.312118</td>\n",
       "    </tr>\n",
       "    <tr>\n",
       "      <th>26</th>\n",
       "      <td>2022-01-27</td>\n",
       "      <td>11762.0</td>\n",
       "      <td>5386.714286</td>\n",
       "      <td>910.755102</td>\n",
       "      <td>2.18352</td>\n",
       "    </tr>\n",
       "    <tr>\n",
       "      <th>27</th>\n",
       "      <td>2022-01-28</td>\n",
       "      <td>12895.142857</td>\n",
       "      <td>6193.0</td>\n",
       "      <td>957.44898</td>\n",
       "      <td>2.082213</td>\n",
       "    </tr>\n",
       "    <tr>\n",
       "      <th>28</th>\n",
       "      <td>2022-01-29</td>\n",
       "      <td>14074.88016</td>\n",
       "      <td>7145.285714</td>\n",
       "      <td>989.942064</td>\n",
       "      <td>1.969813</td>\n",
       "    </tr>\n",
       "    <tr>\n",
       "      <th>29</th>\n",
       "      <td>2022-01-30</td>\n",
       "      <td>14744.373837</td>\n",
       "      <td>7901.857143</td>\n",
       "      <td>977.502385</td>\n",
       "      <td>1.865938</td>\n",
       "    </tr>\n",
       "    <tr>\n",
       "      <th>30</th>\n",
       "      <td>2022-01-31</td>\n",
       "      <td>15195.433659</td>\n",
       "      <td>8585.285714</td>\n",
       "      <td>944.306849</td>\n",
       "      <td>1.769939</td>\n",
       "    </tr>\n",
       "    <tr>\n",
       "      <th>31</th>\n",
       "      <td>2022-02-01</td>\n",
       "      <td>16265.806998</td>\n",
       "      <td>9675.0</td>\n",
       "      <td>941.543857</td>\n",
       "      <td>1.68122</td>\n",
       "    </tr>\n",
       "    <tr>\n",
       "      <th>32</th>\n",
       "      <td>2022-02-02</td>\n",
       "      <td>17005.290081</td>\n",
       "      <td>10633.428571</td>\n",
       "      <td>910.26593</td>\n",
       "      <td>1.599229</td>\n",
       "    </tr>\n",
       "  </tbody>\n",
       "</table>\n",
       "</div>"
      ],
      "text/plain": [
       "          date positives mean 7-day          pm-7       slope        Rt\n",
       "23  2022-01-24          8585.285714   3255.857143  761.346939  2.636874\n",
       "24  2022-01-25               9675.0   3859.142857  830.836735  2.507033\n",
       "25  2022-01-26         10633.428571        4599.0  862.061224  2.312118\n",
       "26  2022-01-27              11762.0   5386.714286  910.755102   2.18352\n",
       "27  2022-01-28         12895.142857        6193.0   957.44898  2.082213\n",
       "28  2022-01-29          14074.88016   7145.285714  989.942064  1.969813\n",
       "29  2022-01-30         14744.373837   7901.857143  977.502385  1.865938\n",
       "30  2022-01-31         15195.433659   8585.285714  944.306849  1.769939\n",
       "31  2022-02-01         16265.806998        9675.0  941.543857   1.68122\n",
       "32  2022-02-02         17005.290081  10633.428571   910.26593  1.599229"
      ]
     },
     "execution_count": 21,
     "metadata": {},
     "output_type": "execute_result"
    }
   ],
   "source": [
    "data5p2[length0-5:length0+5]"
   ]
  },
  {
   "cell_type": "code",
   "execution_count": 22,
   "id": "271d6470",
   "metadata": {
    "execution": {
     "iopub.execute_input": "2022-01-28T12:27:18.050935Z",
     "iopub.status.busy": "2022-01-28T12:27:18.050245Z",
     "iopub.status.idle": "2022-01-28T12:27:18.054657Z",
     "shell.execute_reply": "2022-01-28T12:27:18.054103Z",
     "shell.execute_reply.started": "2022-01-28T12:24:10.519418Z"
    },
    "papermill": {
     "duration": 0.057475,
     "end_time": "2022-01-28T12:27:18.054816",
     "exception": false,
     "start_time": "2022-01-28T12:27:17.997341",
     "status": "completed"
    },
    "tags": []
   },
   "outputs": [
    {
     "name": "stdout",
     "output_type": "stream",
     "text": [
      "Decay_Rate 0.9242 on 2022-01-28 , Slope_Max 990 on 2022-01-29 , Positives_Max 20604 on 2022-02-12\n"
     ]
    }
   ],
   "source": [
    "pred_date=latest0\n",
    "decay_rate=factor\n",
    "slope_max_date=data5p2['date'][data5p2['slope']==data5p2['slope'].max()].tolist()[0]\n",
    "slope_max_num=data5p2['slope'][data5p2['slope']==data5p2['slope'].max()].tolist()[0]\n",
    "posi_max_date=data5p2['date'][data5p2['positives mean 7-day']==data5p2['positives mean 7-day'].max()].tolist()[0]\n",
    "posi_max_num=data5p2['positives mean 7-day'][data5p2['positives mean 7-day']==data5p2['positives mean 7-day'].max()].tolist()[0]\n",
    "\n",
    "print('Decay_Rate',round(decay_rate,4),'on',pred_date,', Slope_Max',round(slope_max_num),'on',slope_max_date,', Positives_Max',round(posi_max_num),'on',posi_max_date)"
   ]
  },
  {
   "cell_type": "markdown",
   "id": "3c6142a3",
   "metadata": {
    "papermill": {
     "duration": 0.039642,
     "end_time": "2022-01-28T12:27:18.134390",
     "exception": false,
     "start_time": "2022-01-28T12:27:18.094748",
     "status": "completed"
    },
    "tags": []
   },
   "source": [
    "## Record of prediction result\n",
    "* Decay_Rate 0.9242 on 2022-01-28 , Slope_Max 990 on 2022-01-29 , Positives_Max 20604 on 2022-02-12\n",
    "* Decay_Rate 0.9135 on 2022-01-27 , Slope_Max 941 on 2022-01-29 , Positives_Max 17876 on 2022-02-05\n",
    "* Decay_Rate 0.9065 on 2022-01-26 , Slope_Max 894 on 2022-01-29 , Positives_Max 16646 on 2022-02-05\n",
    "* Decay_Rate 0.9085 on 2022-01-25 , Slope_Max 918 on 2022-01-29 , Positives_Max 17155 on 2022-02-05\n",
    "* Decay_Rate 0.9218 on 2022-01-24 , Slope_Max 976 on 2022-01-29 , Positives_Max 19743 on 2022-02-12\n",
    "* Decay_Rate 0.9274 on 2022-01-23 , Slope_Max 1004 on 2022-01-29 , Positives_Max 21712 on 2022-02-12\n",
    "* Decay_Rate 0.9190 on 2022-01-22 , Slope_Max 916 on 2022-01-29 , Positives_Max 17879 on 2022-02-10\n",
    "* Decay_Rate 0.9055 on 2022-01-21 , Slope_Max 784 on 2022-01-27 , Positives_Max 14815 on 2022-02-05\n",
    "* Decay_Rate 0.8988 on 2022-01-20 , Slope_Max 795 on 2022-01-28 , Positives_Max 14505 on 2022-02-05\n",
    "* Decay_Rate 0.8871 on 2022-01-19 , Slope_Max 704 on 2022-01-26 , Positives_Max 12364 on 2022-02-04\n",
    "* Decay_Rate 0.8789 on 2022-01-18 , Slope_Max 634 on 2022-01-23 , Positives_Max 10312 on 2022-01-29"
   ]
  },
  {
   "cell_type": "code",
   "execution_count": null,
   "id": "bdc84b75",
   "metadata": {
    "papermill": {
     "duration": 0.040399,
     "end_time": "2022-01-28T12:27:18.214694",
     "exception": false,
     "start_time": "2022-01-28T12:27:18.174295",
     "status": "completed"
    },
    "tags": []
   },
   "outputs": [],
   "source": []
  },
  {
   "cell_type": "markdown",
   "id": "39eb9063",
   "metadata": {
    "papermill": {
     "duration": 0.039237,
     "end_time": "2022-01-28T12:27:18.293810",
     "exception": false,
     "start_time": "2022-01-28T12:27:18.254573",
     "status": "completed"
    },
    "tags": []
   },
   "source": [
    "# 5-1 Rt prediction"
   ]
  },
  {
   "cell_type": "code",
   "execution_count": 23,
   "id": "a9864766",
   "metadata": {
    "execution": {
     "iopub.execute_input": "2022-01-28T12:27:18.376720Z",
     "iopub.status.busy": "2022-01-28T12:27:18.376034Z",
     "iopub.status.idle": "2022-01-28T12:27:18.406631Z",
     "shell.execute_reply": "2022-01-28T12:27:18.407237Z",
     "shell.execute_reply.started": "2022-01-28T12:24:10.532688Z"
    },
    "papermill": {
     "duration": 0.073971,
     "end_time": "2022-01-28T12:27:18.407449",
     "exception": false,
     "start_time": "2022-01-28T12:27:18.333478",
     "status": "completed"
    },
    "tags": []
   },
   "outputs": [
    {
     "data": {
      "text/html": [
       "<div>                            <div id=\"7194a31d-60d5-476b-9a1f-896c1c2c6e81\" class=\"plotly-graph-div\" style=\"height:500px; width:700px;\"></div>            <script type=\"text/javascript\">                require([\"plotly\"], function(Plotly) {                    window.PLOTLYENV=window.PLOTLYENV || {};                                    if (document.getElementById(\"7194a31d-60d5-476b-9a1f-896c1c2c6e81\")) {                    Plotly.newPlot(                        \"7194a31d-60d5-476b-9a1f-896c1c2c6e81\",                        [{\"name\":\"actual\",\"x\":[\"2022-01-01\",\"2022-01-02\",\"2022-01-03\",\"2022-01-04\",\"2022-01-05\",\"2022-01-06\",\"2022-01-07\",\"2022-01-08\",\"2022-01-09\",\"2022-01-10\",\"2022-01-11\",\"2022-01-12\",\"2022-01-13\",\"2022-01-14\",\"2022-01-15\",\"2022-01-16\",\"2022-01-17\",\"2022-01-18\",\"2022-01-19\",\"2022-01-20\",\"2022-01-21\",\"2022-01-22\",\"2022-01-23\",\"2022-01-24\",\"2022-01-25\",\"2022-01-26\",\"2022-01-27\",\"2022-01-28\"],\"y\":[1.783898305084746,1.8780487804878048,1.9629629629629628,2.2841726618705036,3.0222929936305736,4.475073313782991,6.2368421052631575,8.34916864608076,10.073593073593074,10.230188679245284,9.815748031496064,8.473129610115912,6.896461336828309,5.7624472573839665,4.83470839260313,4.285131070047271,4.203430468461822,4.3340285576768816,4.003606516602413,3.5829532497149374,3.1742696053305997,2.9432152524420383,2.773554630697488,2.636874204729937,2.5070333900940254,2.312117541080359,2.1835203012703213,2.082212636386704],\"type\":\"scatter\",\"xaxis\":\"x\",\"yaxis\":\"y\"},{\"name\":\"predicted\",\"x\":[\"2022-01-28\",\"2022-01-29\",\"2022-01-30\",\"2022-01-31\",\"2022-02-01\",\"2022-02-02\",\"2022-02-03\",\"2022-02-04\",\"2022-02-05\",\"2022-02-06\",\"2022-02-07\",\"2022-02-08\",\"2022-02-09\",\"2022-02-10\",\"2022-02-11\",\"2022-02-12\",\"2022-02-13\",\"2022-02-14\",\"2022-02-15\",\"2022-02-16\",\"2022-02-17\",\"2022-02-18\",\"2022-02-19\",\"2022-02-20\",\"2022-02-21\",\"2022-02-22\",\"2022-02-23\",\"2022-02-24\",\"2022-02-25\",\"2022-02-26\",\"2022-02-27\",\"2022-02-28\",\"2022-03-01\",\"2022-03-02\",\"2022-03-03\",\"2022-03-04\",\"2022-03-05\",\"2022-03-06\",\"2022-03-07\",\"2022-03-08\",\"2022-03-09\",\"2022-03-10\",\"2022-03-11\",\"2022-03-12\",\"2022-03-13\",\"2022-03-14\",\"2022-03-15\",\"2022-03-16\",\"2022-03-17\",\"2022-03-18\",\"2022-03-19\",\"2022-03-20\",\"2022-03-21\",\"2022-03-22\",\"2022-03-23\",\"2022-03-24\",\"2022-03-25\",\"2022-03-26\",\"2022-03-27\",\"2022-03-28\",\"2022-03-29\",\"2022-03-30\",\"2022-03-31\",\"2022-04-01\",\"2022-04-02\",\"2022-04-03\",\"2022-04-04\",\"2022-04-05\",\"2022-04-06\",\"2022-04-07\",\"2022-04-08\",\"2022-04-09\",\"2022-04-10\",\"2022-04-11\",\"2022-04-12\",\"2022-04-13\",\"2022-04-14\",\"2022-04-15\",\"2022-04-16\",\"2022-04-17\",\"2022-04-18\",\"2022-04-19\",\"2022-04-20\",\"2022-04-21\",\"2022-04-22\",\"2022-04-23\",\"2022-04-24\",\"2022-04-25\",\"2022-04-26\",\"2022-04-27\",\"2022-04-28\",\"2022-04-29\",\"2022-04-30\",null,null,null,null,null,null,null],\"y\":[2.082212636386704,1.9698134858380918,1.865937787818428,1.7699391918645762,1.6812203615625516,1.5992292577140834,1.5234557033580933,1.453428209273472,1.3887110402103318,1.3289015035948142,1.27362744383684,1.2225449266495154,1.1753360989712323,1.1317072111741595,1.0913867892526214,1.05412394561809,1.0196868179899725,0.9878611266684368,0.9584488412121239,0.9312669482243585,0.9061463125805974,0.8829306250112794,0.8614754294915734,0.8416472243861093,0.8233226317557019,0.806387629657209,0.7907368426596276,0.7762728861617738,0.762905760431666,0.750552290597114,0.7391356091029424,0.7285846774145187,0.7188338439914601,0.7098224357810786,0.7014943806896955,0.693797858682712,0.68668497934246,0.6801114838774851,0.6740364697290637,0.6684221360613579,0.6632335485515617,0.658438422016481,0.654006919522975,0.6499114667322554,0.6461265803228285,0.6426287094244687,0.6393960890765715,0.6364086047990534,0.6336476674331099,0.6310960974730512,0.6287380181694849,0.6265587567386993,0.6245447530635355,0.6226834753176568,0.6209633419881971,0.6193736498115892,0.6179045071741621,0.6165467725631057,0.615291997684821,0.61413237489672,0.6130606886253777,0.6120702704687419,0.6111549577030337,0.610309054936152,0.6095272986689761,0.6088048245440582,0.6081371370779101,0.6075200816885535,0.6069498188442762,0.6064228001727395,0.6059357463817806,0.605485626854524,0.6050696407918372,0.6046851997847911,0.6043299117086856,0.6040015658384242,0.6036981190926188,0.6034176833208316,0.6031585135548511,0.6029189971508977,0.602697643755197,0.6024930760304836,0.6023040210857339,0.6021293025557976,0.601967833281648,0.6018186085457035,0.601680699820127,0.6015532489892057,0.6014354630098587,0.6013266089770491,0.6012260095633956,0.6011330388046074,0.6010471182045194,null,null,null,null,null,null,null],\"type\":\"scatter\",\"xaxis\":\"x\",\"yaxis\":\"y\"}],                        {\"template\":{\"data\":{\"bar\":[{\"error_x\":{\"color\":\"#2a3f5f\"},\"error_y\":{\"color\":\"#2a3f5f\"},\"marker\":{\"line\":{\"color\":\"#E5ECF6\",\"width\":0.5},\"pattern\":{\"fillmode\":\"overlay\",\"size\":10,\"solidity\":0.2}},\"type\":\"bar\"}],\"barpolar\":[{\"marker\":{\"line\":{\"color\":\"#E5ECF6\",\"width\":0.5},\"pattern\":{\"fillmode\":\"overlay\",\"size\":10,\"solidity\":0.2}},\"type\":\"barpolar\"}],\"carpet\":[{\"aaxis\":{\"endlinecolor\":\"#2a3f5f\",\"gridcolor\":\"white\",\"linecolor\":\"white\",\"minorgridcolor\":\"white\",\"startlinecolor\":\"#2a3f5f\"},\"baxis\":{\"endlinecolor\":\"#2a3f5f\",\"gridcolor\":\"white\",\"linecolor\":\"white\",\"minorgridcolor\":\"white\",\"startlinecolor\":\"#2a3f5f\"},\"type\":\"carpet\"}],\"choropleth\":[{\"colorbar\":{\"outlinewidth\":0,\"ticks\":\"\"},\"type\":\"choropleth\"}],\"contour\":[{\"colorbar\":{\"outlinewidth\":0,\"ticks\":\"\"},\"colorscale\":[[0.0,\"#0d0887\"],[0.1111111111111111,\"#46039f\"],[0.2222222222222222,\"#7201a8\"],[0.3333333333333333,\"#9c179e\"],[0.4444444444444444,\"#bd3786\"],[0.5555555555555556,\"#d8576b\"],[0.6666666666666666,\"#ed7953\"],[0.7777777777777778,\"#fb9f3a\"],[0.8888888888888888,\"#fdca26\"],[1.0,\"#f0f921\"]],\"type\":\"contour\"}],\"contourcarpet\":[{\"colorbar\":{\"outlinewidth\":0,\"ticks\":\"\"},\"type\":\"contourcarpet\"}],\"heatmap\":[{\"colorbar\":{\"outlinewidth\":0,\"ticks\":\"\"},\"colorscale\":[[0.0,\"#0d0887\"],[0.1111111111111111,\"#46039f\"],[0.2222222222222222,\"#7201a8\"],[0.3333333333333333,\"#9c179e\"],[0.4444444444444444,\"#bd3786\"],[0.5555555555555556,\"#d8576b\"],[0.6666666666666666,\"#ed7953\"],[0.7777777777777778,\"#fb9f3a\"],[0.8888888888888888,\"#fdca26\"],[1.0,\"#f0f921\"]],\"type\":\"heatmap\"}],\"heatmapgl\":[{\"colorbar\":{\"outlinewidth\":0,\"ticks\":\"\"},\"colorscale\":[[0.0,\"#0d0887\"],[0.1111111111111111,\"#46039f\"],[0.2222222222222222,\"#7201a8\"],[0.3333333333333333,\"#9c179e\"],[0.4444444444444444,\"#bd3786\"],[0.5555555555555556,\"#d8576b\"],[0.6666666666666666,\"#ed7953\"],[0.7777777777777778,\"#fb9f3a\"],[0.8888888888888888,\"#fdca26\"],[1.0,\"#f0f921\"]],\"type\":\"heatmapgl\"}],\"histogram\":[{\"marker\":{\"pattern\":{\"fillmode\":\"overlay\",\"size\":10,\"solidity\":0.2}},\"type\":\"histogram\"}],\"histogram2d\":[{\"colorbar\":{\"outlinewidth\":0,\"ticks\":\"\"},\"colorscale\":[[0.0,\"#0d0887\"],[0.1111111111111111,\"#46039f\"],[0.2222222222222222,\"#7201a8\"],[0.3333333333333333,\"#9c179e\"],[0.4444444444444444,\"#bd3786\"],[0.5555555555555556,\"#d8576b\"],[0.6666666666666666,\"#ed7953\"],[0.7777777777777778,\"#fb9f3a\"],[0.8888888888888888,\"#fdca26\"],[1.0,\"#f0f921\"]],\"type\":\"histogram2d\"}],\"histogram2dcontour\":[{\"colorbar\":{\"outlinewidth\":0,\"ticks\":\"\"},\"colorscale\":[[0.0,\"#0d0887\"],[0.1111111111111111,\"#46039f\"],[0.2222222222222222,\"#7201a8\"],[0.3333333333333333,\"#9c179e\"],[0.4444444444444444,\"#bd3786\"],[0.5555555555555556,\"#d8576b\"],[0.6666666666666666,\"#ed7953\"],[0.7777777777777778,\"#fb9f3a\"],[0.8888888888888888,\"#fdca26\"],[1.0,\"#f0f921\"]],\"type\":\"histogram2dcontour\"}],\"mesh3d\":[{\"colorbar\":{\"outlinewidth\":0,\"ticks\":\"\"},\"type\":\"mesh3d\"}],\"parcoords\":[{\"line\":{\"colorbar\":{\"outlinewidth\":0,\"ticks\":\"\"}},\"type\":\"parcoords\"}],\"pie\":[{\"automargin\":true,\"type\":\"pie\"}],\"scatter\":[{\"marker\":{\"colorbar\":{\"outlinewidth\":0,\"ticks\":\"\"}},\"type\":\"scatter\"}],\"scatter3d\":[{\"line\":{\"colorbar\":{\"outlinewidth\":0,\"ticks\":\"\"}},\"marker\":{\"colorbar\":{\"outlinewidth\":0,\"ticks\":\"\"}},\"type\":\"scatter3d\"}],\"scattercarpet\":[{\"marker\":{\"colorbar\":{\"outlinewidth\":0,\"ticks\":\"\"}},\"type\":\"scattercarpet\"}],\"scattergeo\":[{\"marker\":{\"colorbar\":{\"outlinewidth\":0,\"ticks\":\"\"}},\"type\":\"scattergeo\"}],\"scattergl\":[{\"marker\":{\"colorbar\":{\"outlinewidth\":0,\"ticks\":\"\"}},\"type\":\"scattergl\"}],\"scattermapbox\":[{\"marker\":{\"colorbar\":{\"outlinewidth\":0,\"ticks\":\"\"}},\"type\":\"scattermapbox\"}],\"scatterpolar\":[{\"marker\":{\"colorbar\":{\"outlinewidth\":0,\"ticks\":\"\"}},\"type\":\"scatterpolar\"}],\"scatterpolargl\":[{\"marker\":{\"colorbar\":{\"outlinewidth\":0,\"ticks\":\"\"}},\"type\":\"scatterpolargl\"}],\"scatterternary\":[{\"marker\":{\"colorbar\":{\"outlinewidth\":0,\"ticks\":\"\"}},\"type\":\"scatterternary\"}],\"surface\":[{\"colorbar\":{\"outlinewidth\":0,\"ticks\":\"\"},\"colorscale\":[[0.0,\"#0d0887\"],[0.1111111111111111,\"#46039f\"],[0.2222222222222222,\"#7201a8\"],[0.3333333333333333,\"#9c179e\"],[0.4444444444444444,\"#bd3786\"],[0.5555555555555556,\"#d8576b\"],[0.6666666666666666,\"#ed7953\"],[0.7777777777777778,\"#fb9f3a\"],[0.8888888888888888,\"#fdca26\"],[1.0,\"#f0f921\"]],\"type\":\"surface\"}],\"table\":[{\"cells\":{\"fill\":{\"color\":\"#EBF0F8\"},\"line\":{\"color\":\"white\"}},\"header\":{\"fill\":{\"color\":\"#C8D4E3\"},\"line\":{\"color\":\"white\"}},\"type\":\"table\"}]},\"layout\":{\"annotationdefaults\":{\"arrowcolor\":\"#2a3f5f\",\"arrowhead\":0,\"arrowwidth\":1},\"autotypenumbers\":\"strict\",\"coloraxis\":{\"colorbar\":{\"outlinewidth\":0,\"ticks\":\"\"}},\"colorscale\":{\"diverging\":[[0,\"#8e0152\"],[0.1,\"#c51b7d\"],[0.2,\"#de77ae\"],[0.3,\"#f1b6da\"],[0.4,\"#fde0ef\"],[0.5,\"#f7f7f7\"],[0.6,\"#e6f5d0\"],[0.7,\"#b8e186\"],[0.8,\"#7fbc41\"],[0.9,\"#4d9221\"],[1,\"#276419\"]],\"sequential\":[[0.0,\"#0d0887\"],[0.1111111111111111,\"#46039f\"],[0.2222222222222222,\"#7201a8\"],[0.3333333333333333,\"#9c179e\"],[0.4444444444444444,\"#bd3786\"],[0.5555555555555556,\"#d8576b\"],[0.6666666666666666,\"#ed7953\"],[0.7777777777777778,\"#fb9f3a\"],[0.8888888888888888,\"#fdca26\"],[1.0,\"#f0f921\"]],\"sequentialminus\":[[0.0,\"#0d0887\"],[0.1111111111111111,\"#46039f\"],[0.2222222222222222,\"#7201a8\"],[0.3333333333333333,\"#9c179e\"],[0.4444444444444444,\"#bd3786\"],[0.5555555555555556,\"#d8576b\"],[0.6666666666666666,\"#ed7953\"],[0.7777777777777778,\"#fb9f3a\"],[0.8888888888888888,\"#fdca26\"],[1.0,\"#f0f921\"]]},\"colorway\":[\"#636efa\",\"#EF553B\",\"#00cc96\",\"#ab63fa\",\"#FFA15A\",\"#19d3f3\",\"#FF6692\",\"#B6E880\",\"#FF97FF\",\"#FECB52\"],\"font\":{\"color\":\"#2a3f5f\"},\"geo\":{\"bgcolor\":\"white\",\"lakecolor\":\"white\",\"landcolor\":\"#E5ECF6\",\"showlakes\":true,\"showland\":true,\"subunitcolor\":\"white\"},\"hoverlabel\":{\"align\":\"left\"},\"hovermode\":\"closest\",\"mapbox\":{\"style\":\"light\"},\"paper_bgcolor\":\"white\",\"plot_bgcolor\":\"#E5ECF6\",\"polar\":{\"angularaxis\":{\"gridcolor\":\"white\",\"linecolor\":\"white\",\"ticks\":\"\"},\"bgcolor\":\"#E5ECF6\",\"radialaxis\":{\"gridcolor\":\"white\",\"linecolor\":\"white\",\"ticks\":\"\"}},\"scene\":{\"xaxis\":{\"backgroundcolor\":\"#E5ECF6\",\"gridcolor\":\"white\",\"gridwidth\":2,\"linecolor\":\"white\",\"showbackground\":true,\"ticks\":\"\",\"zerolinecolor\":\"white\"},\"yaxis\":{\"backgroundcolor\":\"#E5ECF6\",\"gridcolor\":\"white\",\"gridwidth\":2,\"linecolor\":\"white\",\"showbackground\":true,\"ticks\":\"\",\"zerolinecolor\":\"white\"},\"zaxis\":{\"backgroundcolor\":\"#E5ECF6\",\"gridcolor\":\"white\",\"gridwidth\":2,\"linecolor\":\"white\",\"showbackground\":true,\"ticks\":\"\",\"zerolinecolor\":\"white\"}},\"shapedefaults\":{\"line\":{\"color\":\"#2a3f5f\"}},\"ternary\":{\"aaxis\":{\"gridcolor\":\"white\",\"linecolor\":\"white\",\"ticks\":\"\"},\"baxis\":{\"gridcolor\":\"white\",\"linecolor\":\"white\",\"ticks\":\"\"},\"bgcolor\":\"#E5ECF6\",\"caxis\":{\"gridcolor\":\"white\",\"linecolor\":\"white\",\"ticks\":\"\"}},\"title\":{\"x\":0.05},\"xaxis\":{\"automargin\":true,\"gridcolor\":\"white\",\"linecolor\":\"white\",\"ticks\":\"\",\"title\":{\"standoff\":15},\"zerolinecolor\":\"white\",\"zerolinewidth\":2},\"yaxis\":{\"automargin\":true,\"gridcolor\":\"white\",\"linecolor\":\"white\",\"ticks\":\"\",\"title\":{\"standoff\":15},\"zerolinecolor\":\"white\",\"zerolinewidth\":2}}},\"xaxis\":{\"anchor\":\"y\",\"domain\":[0.0,1.0],\"title\":{\"text\":\"Date\"}},\"yaxis\":{\"anchor\":\"x\",\"domain\":[0.0,1.0],\"title\":{\"text\":\"Rt\"}},\"title\":{\"text\":\"Rt change in Tokyo\"},\"autosize\":false,\"width\":700,\"height\":500},                        {\"responsive\": true}                    ).then(function(){\n",
       "                            \n",
       "var gd = document.getElementById('7194a31d-60d5-476b-9a1f-896c1c2c6e81');\n",
       "var x = new MutationObserver(function (mutations, observer) {{\n",
       "        var display = window.getComputedStyle(gd).display;\n",
       "        if (!display || display === 'none') {{\n",
       "            console.log([gd, 'removed!']);\n",
       "            Plotly.purge(gd);\n",
       "            observer.disconnect();\n",
       "        }}\n",
       "}});\n",
       "\n",
       "// Listen for the removal of the full notebook cells\n",
       "var notebookContainer = gd.closest('#notebook-container');\n",
       "if (notebookContainer) {{\n",
       "    x.observe(notebookContainer, {childList: true});\n",
       "}}\n",
       "\n",
       "// Listen for the clearing of the current output cell\n",
       "var outputEl = gd.closest('.output');\n",
       "if (outputEl) {{\n",
       "    x.observe(outputEl, {childList: true});\n",
       "}}\n",
       "\n",
       "                        })                };                });            </script>        </div>"
      ]
     },
     "metadata": {},
     "output_type": "display_data"
    }
   ],
   "source": [
    "fig=make_subplots(specs=[[{\"secondary_y\":False}]])\n",
    "fig.add_trace(go.Scatter(x=data5p2['date'][0:length0],y=data5p2['Rt'][0:length0],name='actual'),secondary_y=False,)\n",
    "fig.add_trace(go.Scatter(x=data5p2['date'][length0-1:],y=data5p2['Rt'][length0-1:],name='predicted'),secondary_y=False,)\n",
    "fig.update_layout(autosize=False,width=700,height=500,title_text=\"Rt change in Tokyo\")\n",
    "fig.update_xaxes(title_text=\"Date\")\n",
    "fig.update_yaxes(title_text=\"Rt\",secondary_y=False)\n",
    "fig.show()"
   ]
  },
  {
   "cell_type": "markdown",
   "id": "f4ee7b95",
   "metadata": {
    "papermill": {
     "duration": 0.041005,
     "end_time": "2022-01-28T12:27:18.489801",
     "exception": false,
     "start_time": "2022-01-28T12:27:18.448796",
     "status": "completed"
    },
    "tags": []
   },
   "source": [
    "# 5-2 Slope prediction"
   ]
  },
  {
   "cell_type": "code",
   "execution_count": 24,
   "id": "b8c9361d",
   "metadata": {
    "execution": {
     "iopub.execute_input": "2022-01-28T12:27:18.751832Z",
     "iopub.status.busy": "2022-01-28T12:27:18.751122Z",
     "iopub.status.idle": "2022-01-28T12:27:18.755351Z",
     "shell.execute_reply": "2022-01-28T12:27:18.754769Z",
     "shell.execute_reply.started": "2022-01-28T12:24:10.562670Z"
    },
    "papermill": {
     "duration": 0.225112,
     "end_time": "2022-01-28T12:27:18.755523",
     "exception": false,
     "start_time": "2022-01-28T12:27:18.530411",
     "status": "completed"
    },
    "tags": []
   },
   "outputs": [
    {
     "data": {
      "text/html": [
       "<div>                            <div id=\"ef877c3b-3d27-4afe-af8d-d7613d4deb7f\" class=\"plotly-graph-div\" style=\"height:500px; width:700px;\"></div>            <script type=\"text/javascript\">                require([\"plotly\"], function(Plotly) {                    window.PLOTLYENV=window.PLOTLYENV || {};                                    if (document.getElementById(\"ef877c3b-3d27-4afe-af8d-d7613d4deb7f\")) {                    Plotly.newPlot(                        \"ef877c3b-3d27-4afe-af8d-d7613d4deb7f\",                        [{\"name\":\"actual\",\"x\":[\"2022-01-01\",\"2022-01-02\",\"2022-01-03\",\"2022-01-04\",\"2022-01-05\",\"2022-01-06\",\"2022-01-07\",\"2022-01-08\",\"2022-01-09\",\"2022-01-10\",\"2022-01-11\",\"2022-01-12\",\"2022-01-13\",\"2022-01-14\",\"2022-01-15\",\"2022-01-16\",\"2022-01-17\",\"2022-01-18\",\"2022-01-19\",\"2022-01-20\",\"2022-01-21\",\"2022-01-22\",\"2022-01-23\",\"2022-01-24\",\"2022-01-25\",\"2022-01-26\",\"2022-01-27\",\"2022-01-28\"],\"y\":[3.775510204081633,4.408163265306122,5.3061224489795915,7.285714285714285,12.959183673469388,24.183673469387752,40.61224489795918,63.142857142857146,85.55102040816327,99.83673469387756,114.24489795918369,144.73469387755102,183.6326530612245,230.3469387755102,275.08163265306126,312.02040816326524,354.46938775510205,424.10204081632656,492.89795918367344,554.7551020408163,606.0,673.9387755102042,721.8367346938776,761.3469387755101,830.8367346938776,862.0612244897958,910.7551020408164,957.4489795918367],\"type\":\"scatter\",\"xaxis\":\"x\",\"yaxis\":\"y\"},{\"name\":\"predicted\",\"x\":[\"2022-01-28\",\"2022-01-29\",\"2022-01-30\",\"2022-01-31\",\"2022-02-01\",\"2022-02-02\",\"2022-02-03\",\"2022-02-04\",\"2022-02-05\",\"2022-02-06\",\"2022-02-07\",\"2022-02-08\",\"2022-02-09\",\"2022-02-10\",\"2022-02-11\",\"2022-02-12\",\"2022-02-13\",\"2022-02-14\",\"2022-02-15\",\"2022-02-16\",\"2022-02-17\",\"2022-02-18\",\"2022-02-19\",\"2022-02-20\",\"2022-02-21\",\"2022-02-22\",\"2022-02-23\",\"2022-02-24\",\"2022-02-25\",\"2022-02-26\",\"2022-02-27\",\"2022-02-28\",\"2022-03-01\",\"2022-03-02\",\"2022-03-03\",\"2022-03-04\",\"2022-03-05\",\"2022-03-06\",\"2022-03-07\",\"2022-03-08\",\"2022-03-09\",\"2022-03-10\",\"2022-03-11\",\"2022-03-12\",\"2022-03-13\",\"2022-03-14\",\"2022-03-15\",\"2022-03-16\",\"2022-03-17\",\"2022-03-18\",\"2022-03-19\",\"2022-03-20\",\"2022-03-21\",\"2022-03-22\",\"2022-03-23\",\"2022-03-24\",\"2022-03-25\",\"2022-03-26\",\"2022-03-27\",\"2022-03-28\",\"2022-03-29\",\"2022-03-30\",\"2022-03-31\",\"2022-04-01\",\"2022-04-02\",\"2022-04-03\",\"2022-04-04\",\"2022-04-05\",\"2022-04-06\",\"2022-04-07\",\"2022-04-08\",\"2022-04-09\",\"2022-04-10\",\"2022-04-11\",\"2022-04-12\",\"2022-04-13\",\"2022-04-14\",\"2022-04-15\",\"2022-04-16\",\"2022-04-17\",\"2022-04-18\",\"2022-04-19\",\"2022-04-20\",\"2022-04-21\",\"2022-04-22\",\"2022-04-23\",\"2022-04-24\",\"2022-04-25\",\"2022-04-26\",\"2022-04-27\",\"2022-04-28\",\"2022-04-29\",\"2022-04-30\",null,null,null,null,null,null,null],\"y\":[957.4489795918367,989.9420636972212,977.502384848994,944.3068492548048,941.5438568739553,910.2659299732671,879.5551404139848,835.2887905771269,781.5801868419985,692.7781034982278,593.9839528747754,517.124689327325,425.94874638843766,337.14950002217404,244.68374676500076,151.12906758166613,55.10571130260723,-33.56107373715869,-118.03900570676134,-196.25182632696774,-271.8932272090907,-342.0926120481942,-407.7341101846453,-451.9741238741496,-482.5410719920975,-527.1624178104965,-556.4357732790655,-587.3054038834528,-611.7133783287783,-632.5176495201015,-626.661172726322,-610.3202484388823,-617.3312181219117,-610.1239518106094,-608.2922804873859,-602.7068033361205,-596.2869417555646,-567.990094683165,-534.0383716680686,-523.3223005058583,-502.6119228724792,-488.262085526124,-472.4961116317788,-457.51940281513333,-427.3366721564172,-394.6449103540194,-380.421425762339,-359.901824816858,-344.82450146165166,-329.47799786700165,-315.3307390203423,-291.38158969840526,-266.4435106787285,-254.5132153474835,-238.77437079814646,-227.01044864340662,-215.36770401088344,-204.77076335726497,-188.07577164575136,-171.0207771533213,-162.52295382766422,-151.74888947047197,-143.64029477312314,-135.72202819332713,-128.5618926753545,-117.67288169989014,-106.66124116585264,-101.0631339956518,-94.10695994112987,-88.85482015836592,-83.76196958505375,-79.17308574229716,-72.32384464261054,-65.4360575151443,-61.896939997593186,-57.54664353992872,-54.25661755910274,-51.078691024676495,-48.22093725818969,-43.9992686022876,-39.76715581261324,-37.579824510395966,-34.90726265522146,-32.884281714508965,-30.93446558504267,-29.183071680002538,-26.610722468087033,-24.03660760411662,-22.701824611896427,-21.076456995477166,-19.845543248135776,-18.660608281025503,-17.596944353396168,null,null,null,null,null,null,null],\"type\":\"scatter\",\"xaxis\":\"x\",\"yaxis\":\"y\"}],                        {\"template\":{\"data\":{\"bar\":[{\"error_x\":{\"color\":\"#2a3f5f\"},\"error_y\":{\"color\":\"#2a3f5f\"},\"marker\":{\"line\":{\"color\":\"#E5ECF6\",\"width\":0.5},\"pattern\":{\"fillmode\":\"overlay\",\"size\":10,\"solidity\":0.2}},\"type\":\"bar\"}],\"barpolar\":[{\"marker\":{\"line\":{\"color\":\"#E5ECF6\",\"width\":0.5},\"pattern\":{\"fillmode\":\"overlay\",\"size\":10,\"solidity\":0.2}},\"type\":\"barpolar\"}],\"carpet\":[{\"aaxis\":{\"endlinecolor\":\"#2a3f5f\",\"gridcolor\":\"white\",\"linecolor\":\"white\",\"minorgridcolor\":\"white\",\"startlinecolor\":\"#2a3f5f\"},\"baxis\":{\"endlinecolor\":\"#2a3f5f\",\"gridcolor\":\"white\",\"linecolor\":\"white\",\"minorgridcolor\":\"white\",\"startlinecolor\":\"#2a3f5f\"},\"type\":\"carpet\"}],\"choropleth\":[{\"colorbar\":{\"outlinewidth\":0,\"ticks\":\"\"},\"type\":\"choropleth\"}],\"contour\":[{\"colorbar\":{\"outlinewidth\":0,\"ticks\":\"\"},\"colorscale\":[[0.0,\"#0d0887\"],[0.1111111111111111,\"#46039f\"],[0.2222222222222222,\"#7201a8\"],[0.3333333333333333,\"#9c179e\"],[0.4444444444444444,\"#bd3786\"],[0.5555555555555556,\"#d8576b\"],[0.6666666666666666,\"#ed7953\"],[0.7777777777777778,\"#fb9f3a\"],[0.8888888888888888,\"#fdca26\"],[1.0,\"#f0f921\"]],\"type\":\"contour\"}],\"contourcarpet\":[{\"colorbar\":{\"outlinewidth\":0,\"ticks\":\"\"},\"type\":\"contourcarpet\"}],\"heatmap\":[{\"colorbar\":{\"outlinewidth\":0,\"ticks\":\"\"},\"colorscale\":[[0.0,\"#0d0887\"],[0.1111111111111111,\"#46039f\"],[0.2222222222222222,\"#7201a8\"],[0.3333333333333333,\"#9c179e\"],[0.4444444444444444,\"#bd3786\"],[0.5555555555555556,\"#d8576b\"],[0.6666666666666666,\"#ed7953\"],[0.7777777777777778,\"#fb9f3a\"],[0.8888888888888888,\"#fdca26\"],[1.0,\"#f0f921\"]],\"type\":\"heatmap\"}],\"heatmapgl\":[{\"colorbar\":{\"outlinewidth\":0,\"ticks\":\"\"},\"colorscale\":[[0.0,\"#0d0887\"],[0.1111111111111111,\"#46039f\"],[0.2222222222222222,\"#7201a8\"],[0.3333333333333333,\"#9c179e\"],[0.4444444444444444,\"#bd3786\"],[0.5555555555555556,\"#d8576b\"],[0.6666666666666666,\"#ed7953\"],[0.7777777777777778,\"#fb9f3a\"],[0.8888888888888888,\"#fdca26\"],[1.0,\"#f0f921\"]],\"type\":\"heatmapgl\"}],\"histogram\":[{\"marker\":{\"pattern\":{\"fillmode\":\"overlay\",\"size\":10,\"solidity\":0.2}},\"type\":\"histogram\"}],\"histogram2d\":[{\"colorbar\":{\"outlinewidth\":0,\"ticks\":\"\"},\"colorscale\":[[0.0,\"#0d0887\"],[0.1111111111111111,\"#46039f\"],[0.2222222222222222,\"#7201a8\"],[0.3333333333333333,\"#9c179e\"],[0.4444444444444444,\"#bd3786\"],[0.5555555555555556,\"#d8576b\"],[0.6666666666666666,\"#ed7953\"],[0.7777777777777778,\"#fb9f3a\"],[0.8888888888888888,\"#fdca26\"],[1.0,\"#f0f921\"]],\"type\":\"histogram2d\"}],\"histogram2dcontour\":[{\"colorbar\":{\"outlinewidth\":0,\"ticks\":\"\"},\"colorscale\":[[0.0,\"#0d0887\"],[0.1111111111111111,\"#46039f\"],[0.2222222222222222,\"#7201a8\"],[0.3333333333333333,\"#9c179e\"],[0.4444444444444444,\"#bd3786\"],[0.5555555555555556,\"#d8576b\"],[0.6666666666666666,\"#ed7953\"],[0.7777777777777778,\"#fb9f3a\"],[0.8888888888888888,\"#fdca26\"],[1.0,\"#f0f921\"]],\"type\":\"histogram2dcontour\"}],\"mesh3d\":[{\"colorbar\":{\"outlinewidth\":0,\"ticks\":\"\"},\"type\":\"mesh3d\"}],\"parcoords\":[{\"line\":{\"colorbar\":{\"outlinewidth\":0,\"ticks\":\"\"}},\"type\":\"parcoords\"}],\"pie\":[{\"automargin\":true,\"type\":\"pie\"}],\"scatter\":[{\"marker\":{\"colorbar\":{\"outlinewidth\":0,\"ticks\":\"\"}},\"type\":\"scatter\"}],\"scatter3d\":[{\"line\":{\"colorbar\":{\"outlinewidth\":0,\"ticks\":\"\"}},\"marker\":{\"colorbar\":{\"outlinewidth\":0,\"ticks\":\"\"}},\"type\":\"scatter3d\"}],\"scattercarpet\":[{\"marker\":{\"colorbar\":{\"outlinewidth\":0,\"ticks\":\"\"}},\"type\":\"scattercarpet\"}],\"scattergeo\":[{\"marker\":{\"colorbar\":{\"outlinewidth\":0,\"ticks\":\"\"}},\"type\":\"scattergeo\"}],\"scattergl\":[{\"marker\":{\"colorbar\":{\"outlinewidth\":0,\"ticks\":\"\"}},\"type\":\"scattergl\"}],\"scattermapbox\":[{\"marker\":{\"colorbar\":{\"outlinewidth\":0,\"ticks\":\"\"}},\"type\":\"scattermapbox\"}],\"scatterpolar\":[{\"marker\":{\"colorbar\":{\"outlinewidth\":0,\"ticks\":\"\"}},\"type\":\"scatterpolar\"}],\"scatterpolargl\":[{\"marker\":{\"colorbar\":{\"outlinewidth\":0,\"ticks\":\"\"}},\"type\":\"scatterpolargl\"}],\"scatterternary\":[{\"marker\":{\"colorbar\":{\"outlinewidth\":0,\"ticks\":\"\"}},\"type\":\"scatterternary\"}],\"surface\":[{\"colorbar\":{\"outlinewidth\":0,\"ticks\":\"\"},\"colorscale\":[[0.0,\"#0d0887\"],[0.1111111111111111,\"#46039f\"],[0.2222222222222222,\"#7201a8\"],[0.3333333333333333,\"#9c179e\"],[0.4444444444444444,\"#bd3786\"],[0.5555555555555556,\"#d8576b\"],[0.6666666666666666,\"#ed7953\"],[0.7777777777777778,\"#fb9f3a\"],[0.8888888888888888,\"#fdca26\"],[1.0,\"#f0f921\"]],\"type\":\"surface\"}],\"table\":[{\"cells\":{\"fill\":{\"color\":\"#EBF0F8\"},\"line\":{\"color\":\"white\"}},\"header\":{\"fill\":{\"color\":\"#C8D4E3\"},\"line\":{\"color\":\"white\"}},\"type\":\"table\"}]},\"layout\":{\"annotationdefaults\":{\"arrowcolor\":\"#2a3f5f\",\"arrowhead\":0,\"arrowwidth\":1},\"autotypenumbers\":\"strict\",\"coloraxis\":{\"colorbar\":{\"outlinewidth\":0,\"ticks\":\"\"}},\"colorscale\":{\"diverging\":[[0,\"#8e0152\"],[0.1,\"#c51b7d\"],[0.2,\"#de77ae\"],[0.3,\"#f1b6da\"],[0.4,\"#fde0ef\"],[0.5,\"#f7f7f7\"],[0.6,\"#e6f5d0\"],[0.7,\"#b8e186\"],[0.8,\"#7fbc41\"],[0.9,\"#4d9221\"],[1,\"#276419\"]],\"sequential\":[[0.0,\"#0d0887\"],[0.1111111111111111,\"#46039f\"],[0.2222222222222222,\"#7201a8\"],[0.3333333333333333,\"#9c179e\"],[0.4444444444444444,\"#bd3786\"],[0.5555555555555556,\"#d8576b\"],[0.6666666666666666,\"#ed7953\"],[0.7777777777777778,\"#fb9f3a\"],[0.8888888888888888,\"#fdca26\"],[1.0,\"#f0f921\"]],\"sequentialminus\":[[0.0,\"#0d0887\"],[0.1111111111111111,\"#46039f\"],[0.2222222222222222,\"#7201a8\"],[0.3333333333333333,\"#9c179e\"],[0.4444444444444444,\"#bd3786\"],[0.5555555555555556,\"#d8576b\"],[0.6666666666666666,\"#ed7953\"],[0.7777777777777778,\"#fb9f3a\"],[0.8888888888888888,\"#fdca26\"],[1.0,\"#f0f921\"]]},\"colorway\":[\"#636efa\",\"#EF553B\",\"#00cc96\",\"#ab63fa\",\"#FFA15A\",\"#19d3f3\",\"#FF6692\",\"#B6E880\",\"#FF97FF\",\"#FECB52\"],\"font\":{\"color\":\"#2a3f5f\"},\"geo\":{\"bgcolor\":\"white\",\"lakecolor\":\"white\",\"landcolor\":\"#E5ECF6\",\"showlakes\":true,\"showland\":true,\"subunitcolor\":\"white\"},\"hoverlabel\":{\"align\":\"left\"},\"hovermode\":\"closest\",\"mapbox\":{\"style\":\"light\"},\"paper_bgcolor\":\"white\",\"plot_bgcolor\":\"#E5ECF6\",\"polar\":{\"angularaxis\":{\"gridcolor\":\"white\",\"linecolor\":\"white\",\"ticks\":\"\"},\"bgcolor\":\"#E5ECF6\",\"radialaxis\":{\"gridcolor\":\"white\",\"linecolor\":\"white\",\"ticks\":\"\"}},\"scene\":{\"xaxis\":{\"backgroundcolor\":\"#E5ECF6\",\"gridcolor\":\"white\",\"gridwidth\":2,\"linecolor\":\"white\",\"showbackground\":true,\"ticks\":\"\",\"zerolinecolor\":\"white\"},\"yaxis\":{\"backgroundcolor\":\"#E5ECF6\",\"gridcolor\":\"white\",\"gridwidth\":2,\"linecolor\":\"white\",\"showbackground\":true,\"ticks\":\"\",\"zerolinecolor\":\"white\"},\"zaxis\":{\"backgroundcolor\":\"#E5ECF6\",\"gridcolor\":\"white\",\"gridwidth\":2,\"linecolor\":\"white\",\"showbackground\":true,\"ticks\":\"\",\"zerolinecolor\":\"white\"}},\"shapedefaults\":{\"line\":{\"color\":\"#2a3f5f\"}},\"ternary\":{\"aaxis\":{\"gridcolor\":\"white\",\"linecolor\":\"white\",\"ticks\":\"\"},\"baxis\":{\"gridcolor\":\"white\",\"linecolor\":\"white\",\"ticks\":\"\"},\"bgcolor\":\"#E5ECF6\",\"caxis\":{\"gridcolor\":\"white\",\"linecolor\":\"white\",\"ticks\":\"\"}},\"title\":{\"x\":0.05},\"xaxis\":{\"automargin\":true,\"gridcolor\":\"white\",\"linecolor\":\"white\",\"ticks\":\"\",\"title\":{\"standoff\":15},\"zerolinecolor\":\"white\",\"zerolinewidth\":2},\"yaxis\":{\"automargin\":true,\"gridcolor\":\"white\",\"linecolor\":\"white\",\"ticks\":\"\",\"title\":{\"standoff\":15},\"zerolinecolor\":\"white\",\"zerolinewidth\":2}}},\"xaxis\":{\"anchor\":\"y\",\"domain\":[0.0,1.0],\"title\":{\"text\":\"Date\"}},\"yaxis\":{\"anchor\":\"x\",\"domain\":[0.0,1.0],\"title\":{\"text\":\"Slope\"}},\"title\":{\"text\":\"Slope change in Tokyo\"},\"autosize\":false,\"width\":700,\"height\":500},                        {\"responsive\": true}                    ).then(function(){\n",
       "                            \n",
       "var gd = document.getElementById('ef877c3b-3d27-4afe-af8d-d7613d4deb7f');\n",
       "var x = new MutationObserver(function (mutations, observer) {{\n",
       "        var display = window.getComputedStyle(gd).display;\n",
       "        if (!display || display === 'none') {{\n",
       "            console.log([gd, 'removed!']);\n",
       "            Plotly.purge(gd);\n",
       "            observer.disconnect();\n",
       "        }}\n",
       "}});\n",
       "\n",
       "// Listen for the removal of the full notebook cells\n",
       "var notebookContainer = gd.closest('#notebook-container');\n",
       "if (notebookContainer) {{\n",
       "    x.observe(notebookContainer, {childList: true});\n",
       "}}\n",
       "\n",
       "// Listen for the clearing of the current output cell\n",
       "var outputEl = gd.closest('.output');\n",
       "if (outputEl) {{\n",
       "    x.observe(outputEl, {childList: true});\n",
       "}}\n",
       "\n",
       "                        })                };                });            </script>        </div>"
      ]
     },
     "metadata": {},
     "output_type": "display_data"
    }
   ],
   "source": [
    "fig=make_subplots(specs=[[{\"secondary_y\":False}]])\n",
    "fig.add_trace(go.Scatter(x=data5p2['date'][0:length0],y=data5p2['slope'][0:length0],name='actual'),secondary_y=False,)\n",
    "fig.add_trace(go.Scatter(x=data5p2['date'][length0-1:],y=data5p2['slope'][length0-1:],name='predicted'),secondary_y=False,)\n",
    "fig.update_layout(autosize=False,width=700,height=500,title_text=\"Slope change in Tokyo\")\n",
    "fig.update_xaxes(title_text=\"Date\")\n",
    "fig.update_yaxes(title_text=\"Slope\",secondary_y=False)\n",
    "fig.show()"
   ]
  },
  {
   "cell_type": "markdown",
   "id": "f98b97ee",
   "metadata": {
    "papermill": {
     "duration": 0.040915,
     "end_time": "2022-01-28T12:27:18.838103",
     "exception": false,
     "start_time": "2022-01-28T12:27:18.797188",
     "status": "completed"
    },
    "tags": []
   },
   "source": [
    "# 5-3 Positives prediciton"
   ]
  },
  {
   "cell_type": "code",
   "execution_count": 25,
   "id": "d61ad84e",
   "metadata": {
    "execution": {
     "iopub.execute_input": "2022-01-28T12:27:18.931227Z",
     "iopub.status.busy": "2022-01-28T12:27:18.930500Z",
     "iopub.status.idle": "2022-01-28T12:27:18.955061Z",
     "shell.execute_reply": "2022-01-28T12:27:18.955574Z",
     "shell.execute_reply.started": "2022-01-28T12:24:10.709430Z"
    },
    "papermill": {
     "duration": 0.07524,
     "end_time": "2022-01-28T12:27:18.955778",
     "exception": false,
     "start_time": "2022-01-28T12:27:18.880538",
     "status": "completed"
    },
    "tags": []
   },
   "outputs": [
    {
     "data": {
      "text/html": [
       "<div>                            <div id=\"76718ee1-36b9-46ee-ab98-54d2e0fd0cd0\" class=\"plotly-graph-div\" style=\"height:500px; width:700px;\"></div>            <script type=\"text/javascript\">                require([\"plotly\"], function(Plotly) {                    window.PLOTLYENV=window.PLOTLYENV || {};                                    if (document.getElementById(\"76718ee1-36b9-46ee-ab98-54d2e0fd0cd0\")) {                    Plotly.newPlot(                        \"76718ee1-36b9-46ee-ab98-54d2e0fd0cd0\",                        [{\"name\":\"actual\",\"x\":[\"2022-01-01\",\"2022-01-02\",\"2022-01-03\",\"2022-01-04\",\"2022-01-05\",\"2022-01-06\",\"2022-01-07\",\"2022-01-08\",\"2022-01-09\",\"2022-01-10\",\"2022-01-11\",\"2022-01-12\",\"2022-01-13\",\"2022-01-14\",\"2022-01-15\",\"2022-01-16\",\"2022-01-17\",\"2022-01-18\",\"2022-01-19\",\"2022-01-20\",\"2022-01-21\",\"2022-01-22\",\"2022-01-23\",\"2022-01-24\",\"2022-01-25\",\"2022-01-26\",\"2022-01-27\",\"2022-01-28\"],\"y\":[60.142857142857146,66.0,75.71428571428571,90.71428571428571,135.57142857142858,218.0,338.57142857142856,502.14285714285717,664.8571428571429,774.5714285714286,890.4285714285714,1148.7142857142858,1503.4285714285713,1951.0,2427.714285714286,2849.0,3255.8571428571427,3859.1428571428573,4599.0,5386.714285714285,6193.0,7145.285714285715,7901.857142857143,8585.285714285714,9675.0,10633.42857142857,11762.0,12895.142857142857],\"type\":\"scatter\",\"xaxis\":\"x\",\"yaxis\":\"y\"},{\"name\":\"predicted\",\"x\":[\"2022-01-28\",\"2022-01-29\",\"2022-01-30\",\"2022-01-31\",\"2022-02-01\",\"2022-02-02\",\"2022-02-03\",\"2022-02-04\",\"2022-02-05\",\"2022-02-06\",\"2022-02-07\",\"2022-02-08\",\"2022-02-09\",\"2022-02-10\",\"2022-02-11\",\"2022-02-12\",\"2022-02-13\",\"2022-02-14\",\"2022-02-15\",\"2022-02-16\",\"2022-02-17\",\"2022-02-18\",\"2022-02-19\",\"2022-02-20\",\"2022-02-21\",\"2022-02-22\",\"2022-02-23\",\"2022-02-24\",\"2022-02-25\",\"2022-02-26\",\"2022-02-27\",\"2022-02-28\",\"2022-03-01\",\"2022-03-02\",\"2022-03-03\",\"2022-03-04\",\"2022-03-05\",\"2022-03-06\",\"2022-03-07\",\"2022-03-08\",\"2022-03-09\",\"2022-03-10\",\"2022-03-11\",\"2022-03-12\",\"2022-03-13\",\"2022-03-14\",\"2022-03-15\",\"2022-03-16\",\"2022-03-17\",\"2022-03-18\",\"2022-03-19\",\"2022-03-20\",\"2022-03-21\",\"2022-03-22\",\"2022-03-23\",\"2022-03-24\",\"2022-03-25\",\"2022-03-26\",\"2022-03-27\",\"2022-03-28\",\"2022-03-29\",\"2022-03-30\",\"2022-03-31\",\"2022-04-01\",\"2022-04-02\",\"2022-04-03\",\"2022-04-04\",\"2022-04-05\",\"2022-04-06\",\"2022-04-07\",\"2022-04-08\",\"2022-04-09\",\"2022-04-10\",\"2022-04-11\",\"2022-04-12\",\"2022-04-13\",\"2022-04-14\",\"2022-04-15\",\"2022-04-16\",\"2022-04-17\",\"2022-04-18\",\"2022-04-19\",\"2022-04-20\",\"2022-04-21\",\"2022-04-22\",\"2022-04-23\",\"2022-04-24\",\"2022-04-25\",\"2022-04-26\",\"2022-04-27\",\"2022-04-28\",\"2022-04-29\",\"2022-04-30\",null,null,null,null,null,null,null],\"y\":[12895.142857142857,14074.880160166264,14744.373836800101,15195.433659069347,16265.806998117687,17005.29008124144,17918.885982897893,18742.164391182745,19545.941468060253,19593.820561287695,19353.321329192775,19885.679823408962,19986.931305960505,20278.93248305311,20454.95061853775,20603.844941131916,19979.560540405946,19118.393813032664,19059.406783461633,18613.16852167173,18375.679892589476,18060.30233420039,17749.7061698394,16815.7416732869,15740.606309087982,15369.269858788157,14718.118108718272,14264.542065405307,13778.308685898943,13322.082623198688,12429.113464202645,11468.364570015805,11047.951331934775,10447.250446044007,10006.496101993605,9559.361062546099,9148.074030909736,8453.18280142049,7730.095968339325,7384.695228393767,6928.966985936652,6588.661503310737,6251.888281123647,5945.438211203803,5461.826096325569,4967.581595861189,4721.745248057394,4409.6542122186465,4174.889993079176,3945.5422960546357,3738.1230380614065,3422.154968436732,3102.47702111009,2940.1527406250093,2738.2336166316213,2585.8168525753294,2437.9683679784516,2304.7276945605518,2105.6245669164723,1905.3315810368408,1802.4920638313597,1675.9913903383176,1580.3347891634673,1487.9141706251617,1404.7944458330703,1281.9143950172413,1158.7028928758723,1095.0501258617971,1017.2426707504085,958.3510480549058,901.5803835297854,850.5828456369902,775.6474825189675,700.6504902698622,661.7715458786448,614.4161659709074,578.5547251411866,544.02954635705,513.0362848296623,467.65260230295434,422.2803995815695,398.71277430587304,370.0653273843572,348.3647531396239,327.4882872617513,308.7547830696446,281.3775450263451,254.02414635275315,239.80000202259805,222.53012841601705,209.44595040267345,196.86402929457276,185.5761725958714,null,null,null,null,null,null,null],\"type\":\"scatter\",\"xaxis\":\"x\",\"yaxis\":\"y\"}],                        {\"template\":{\"data\":{\"bar\":[{\"error_x\":{\"color\":\"#2a3f5f\"},\"error_y\":{\"color\":\"#2a3f5f\"},\"marker\":{\"line\":{\"color\":\"#E5ECF6\",\"width\":0.5},\"pattern\":{\"fillmode\":\"overlay\",\"size\":10,\"solidity\":0.2}},\"type\":\"bar\"}],\"barpolar\":[{\"marker\":{\"line\":{\"color\":\"#E5ECF6\",\"width\":0.5},\"pattern\":{\"fillmode\":\"overlay\",\"size\":10,\"solidity\":0.2}},\"type\":\"barpolar\"}],\"carpet\":[{\"aaxis\":{\"endlinecolor\":\"#2a3f5f\",\"gridcolor\":\"white\",\"linecolor\":\"white\",\"minorgridcolor\":\"white\",\"startlinecolor\":\"#2a3f5f\"},\"baxis\":{\"endlinecolor\":\"#2a3f5f\",\"gridcolor\":\"white\",\"linecolor\":\"white\",\"minorgridcolor\":\"white\",\"startlinecolor\":\"#2a3f5f\"},\"type\":\"carpet\"}],\"choropleth\":[{\"colorbar\":{\"outlinewidth\":0,\"ticks\":\"\"},\"type\":\"choropleth\"}],\"contour\":[{\"colorbar\":{\"outlinewidth\":0,\"ticks\":\"\"},\"colorscale\":[[0.0,\"#0d0887\"],[0.1111111111111111,\"#46039f\"],[0.2222222222222222,\"#7201a8\"],[0.3333333333333333,\"#9c179e\"],[0.4444444444444444,\"#bd3786\"],[0.5555555555555556,\"#d8576b\"],[0.6666666666666666,\"#ed7953\"],[0.7777777777777778,\"#fb9f3a\"],[0.8888888888888888,\"#fdca26\"],[1.0,\"#f0f921\"]],\"type\":\"contour\"}],\"contourcarpet\":[{\"colorbar\":{\"outlinewidth\":0,\"ticks\":\"\"},\"type\":\"contourcarpet\"}],\"heatmap\":[{\"colorbar\":{\"outlinewidth\":0,\"ticks\":\"\"},\"colorscale\":[[0.0,\"#0d0887\"],[0.1111111111111111,\"#46039f\"],[0.2222222222222222,\"#7201a8\"],[0.3333333333333333,\"#9c179e\"],[0.4444444444444444,\"#bd3786\"],[0.5555555555555556,\"#d8576b\"],[0.6666666666666666,\"#ed7953\"],[0.7777777777777778,\"#fb9f3a\"],[0.8888888888888888,\"#fdca26\"],[1.0,\"#f0f921\"]],\"type\":\"heatmap\"}],\"heatmapgl\":[{\"colorbar\":{\"outlinewidth\":0,\"ticks\":\"\"},\"colorscale\":[[0.0,\"#0d0887\"],[0.1111111111111111,\"#46039f\"],[0.2222222222222222,\"#7201a8\"],[0.3333333333333333,\"#9c179e\"],[0.4444444444444444,\"#bd3786\"],[0.5555555555555556,\"#d8576b\"],[0.6666666666666666,\"#ed7953\"],[0.7777777777777778,\"#fb9f3a\"],[0.8888888888888888,\"#fdca26\"],[1.0,\"#f0f921\"]],\"type\":\"heatmapgl\"}],\"histogram\":[{\"marker\":{\"pattern\":{\"fillmode\":\"overlay\",\"size\":10,\"solidity\":0.2}},\"type\":\"histogram\"}],\"histogram2d\":[{\"colorbar\":{\"outlinewidth\":0,\"ticks\":\"\"},\"colorscale\":[[0.0,\"#0d0887\"],[0.1111111111111111,\"#46039f\"],[0.2222222222222222,\"#7201a8\"],[0.3333333333333333,\"#9c179e\"],[0.4444444444444444,\"#bd3786\"],[0.5555555555555556,\"#d8576b\"],[0.6666666666666666,\"#ed7953\"],[0.7777777777777778,\"#fb9f3a\"],[0.8888888888888888,\"#fdca26\"],[1.0,\"#f0f921\"]],\"type\":\"histogram2d\"}],\"histogram2dcontour\":[{\"colorbar\":{\"outlinewidth\":0,\"ticks\":\"\"},\"colorscale\":[[0.0,\"#0d0887\"],[0.1111111111111111,\"#46039f\"],[0.2222222222222222,\"#7201a8\"],[0.3333333333333333,\"#9c179e\"],[0.4444444444444444,\"#bd3786\"],[0.5555555555555556,\"#d8576b\"],[0.6666666666666666,\"#ed7953\"],[0.7777777777777778,\"#fb9f3a\"],[0.8888888888888888,\"#fdca26\"],[1.0,\"#f0f921\"]],\"type\":\"histogram2dcontour\"}],\"mesh3d\":[{\"colorbar\":{\"outlinewidth\":0,\"ticks\":\"\"},\"type\":\"mesh3d\"}],\"parcoords\":[{\"line\":{\"colorbar\":{\"outlinewidth\":0,\"ticks\":\"\"}},\"type\":\"parcoords\"}],\"pie\":[{\"automargin\":true,\"type\":\"pie\"}],\"scatter\":[{\"marker\":{\"colorbar\":{\"outlinewidth\":0,\"ticks\":\"\"}},\"type\":\"scatter\"}],\"scatter3d\":[{\"line\":{\"colorbar\":{\"outlinewidth\":0,\"ticks\":\"\"}},\"marker\":{\"colorbar\":{\"outlinewidth\":0,\"ticks\":\"\"}},\"type\":\"scatter3d\"}],\"scattercarpet\":[{\"marker\":{\"colorbar\":{\"outlinewidth\":0,\"ticks\":\"\"}},\"type\":\"scattercarpet\"}],\"scattergeo\":[{\"marker\":{\"colorbar\":{\"outlinewidth\":0,\"ticks\":\"\"}},\"type\":\"scattergeo\"}],\"scattergl\":[{\"marker\":{\"colorbar\":{\"outlinewidth\":0,\"ticks\":\"\"}},\"type\":\"scattergl\"}],\"scattermapbox\":[{\"marker\":{\"colorbar\":{\"outlinewidth\":0,\"ticks\":\"\"}},\"type\":\"scattermapbox\"}],\"scatterpolar\":[{\"marker\":{\"colorbar\":{\"outlinewidth\":0,\"ticks\":\"\"}},\"type\":\"scatterpolar\"}],\"scatterpolargl\":[{\"marker\":{\"colorbar\":{\"outlinewidth\":0,\"ticks\":\"\"}},\"type\":\"scatterpolargl\"}],\"scatterternary\":[{\"marker\":{\"colorbar\":{\"outlinewidth\":0,\"ticks\":\"\"}},\"type\":\"scatterternary\"}],\"surface\":[{\"colorbar\":{\"outlinewidth\":0,\"ticks\":\"\"},\"colorscale\":[[0.0,\"#0d0887\"],[0.1111111111111111,\"#46039f\"],[0.2222222222222222,\"#7201a8\"],[0.3333333333333333,\"#9c179e\"],[0.4444444444444444,\"#bd3786\"],[0.5555555555555556,\"#d8576b\"],[0.6666666666666666,\"#ed7953\"],[0.7777777777777778,\"#fb9f3a\"],[0.8888888888888888,\"#fdca26\"],[1.0,\"#f0f921\"]],\"type\":\"surface\"}],\"table\":[{\"cells\":{\"fill\":{\"color\":\"#EBF0F8\"},\"line\":{\"color\":\"white\"}},\"header\":{\"fill\":{\"color\":\"#C8D4E3\"},\"line\":{\"color\":\"white\"}},\"type\":\"table\"}]},\"layout\":{\"annotationdefaults\":{\"arrowcolor\":\"#2a3f5f\",\"arrowhead\":0,\"arrowwidth\":1},\"autotypenumbers\":\"strict\",\"coloraxis\":{\"colorbar\":{\"outlinewidth\":0,\"ticks\":\"\"}},\"colorscale\":{\"diverging\":[[0,\"#8e0152\"],[0.1,\"#c51b7d\"],[0.2,\"#de77ae\"],[0.3,\"#f1b6da\"],[0.4,\"#fde0ef\"],[0.5,\"#f7f7f7\"],[0.6,\"#e6f5d0\"],[0.7,\"#b8e186\"],[0.8,\"#7fbc41\"],[0.9,\"#4d9221\"],[1,\"#276419\"]],\"sequential\":[[0.0,\"#0d0887\"],[0.1111111111111111,\"#46039f\"],[0.2222222222222222,\"#7201a8\"],[0.3333333333333333,\"#9c179e\"],[0.4444444444444444,\"#bd3786\"],[0.5555555555555556,\"#d8576b\"],[0.6666666666666666,\"#ed7953\"],[0.7777777777777778,\"#fb9f3a\"],[0.8888888888888888,\"#fdca26\"],[1.0,\"#f0f921\"]],\"sequentialminus\":[[0.0,\"#0d0887\"],[0.1111111111111111,\"#46039f\"],[0.2222222222222222,\"#7201a8\"],[0.3333333333333333,\"#9c179e\"],[0.4444444444444444,\"#bd3786\"],[0.5555555555555556,\"#d8576b\"],[0.6666666666666666,\"#ed7953\"],[0.7777777777777778,\"#fb9f3a\"],[0.8888888888888888,\"#fdca26\"],[1.0,\"#f0f921\"]]},\"colorway\":[\"#636efa\",\"#EF553B\",\"#00cc96\",\"#ab63fa\",\"#FFA15A\",\"#19d3f3\",\"#FF6692\",\"#B6E880\",\"#FF97FF\",\"#FECB52\"],\"font\":{\"color\":\"#2a3f5f\"},\"geo\":{\"bgcolor\":\"white\",\"lakecolor\":\"white\",\"landcolor\":\"#E5ECF6\",\"showlakes\":true,\"showland\":true,\"subunitcolor\":\"white\"},\"hoverlabel\":{\"align\":\"left\"},\"hovermode\":\"closest\",\"mapbox\":{\"style\":\"light\"},\"paper_bgcolor\":\"white\",\"plot_bgcolor\":\"#E5ECF6\",\"polar\":{\"angularaxis\":{\"gridcolor\":\"white\",\"linecolor\":\"white\",\"ticks\":\"\"},\"bgcolor\":\"#E5ECF6\",\"radialaxis\":{\"gridcolor\":\"white\",\"linecolor\":\"white\",\"ticks\":\"\"}},\"scene\":{\"xaxis\":{\"backgroundcolor\":\"#E5ECF6\",\"gridcolor\":\"white\",\"gridwidth\":2,\"linecolor\":\"white\",\"showbackground\":true,\"ticks\":\"\",\"zerolinecolor\":\"white\"},\"yaxis\":{\"backgroundcolor\":\"#E5ECF6\",\"gridcolor\":\"white\",\"gridwidth\":2,\"linecolor\":\"white\",\"showbackground\":true,\"ticks\":\"\",\"zerolinecolor\":\"white\"},\"zaxis\":{\"backgroundcolor\":\"#E5ECF6\",\"gridcolor\":\"white\",\"gridwidth\":2,\"linecolor\":\"white\",\"showbackground\":true,\"ticks\":\"\",\"zerolinecolor\":\"white\"}},\"shapedefaults\":{\"line\":{\"color\":\"#2a3f5f\"}},\"ternary\":{\"aaxis\":{\"gridcolor\":\"white\",\"linecolor\":\"white\",\"ticks\":\"\"},\"baxis\":{\"gridcolor\":\"white\",\"linecolor\":\"white\",\"ticks\":\"\"},\"bgcolor\":\"#E5ECF6\",\"caxis\":{\"gridcolor\":\"white\",\"linecolor\":\"white\",\"ticks\":\"\"}},\"title\":{\"x\":0.05},\"xaxis\":{\"automargin\":true,\"gridcolor\":\"white\",\"linecolor\":\"white\",\"ticks\":\"\",\"title\":{\"standoff\":15},\"zerolinecolor\":\"white\",\"zerolinewidth\":2},\"yaxis\":{\"automargin\":true,\"gridcolor\":\"white\",\"linecolor\":\"white\",\"ticks\":\"\",\"title\":{\"standoff\":15},\"zerolinecolor\":\"white\",\"zerolinewidth\":2}}},\"xaxis\":{\"anchor\":\"y\",\"domain\":[0.0,1.0],\"title\":{\"text\":\"Date\"}},\"yaxis\":{\"anchor\":\"x\",\"domain\":[0.0,1.0],\"title\":{\"text\":\"positives mean 7-day\"}},\"title\":{\"text\":\"positives mean 7-day change in Tokyo\"},\"autosize\":false,\"width\":700,\"height\":500},                        {\"responsive\": true}                    ).then(function(){\n",
       "                            \n",
       "var gd = document.getElementById('76718ee1-36b9-46ee-ab98-54d2e0fd0cd0');\n",
       "var x = new MutationObserver(function (mutations, observer) {{\n",
       "        var display = window.getComputedStyle(gd).display;\n",
       "        if (!display || display === 'none') {{\n",
       "            console.log([gd, 'removed!']);\n",
       "            Plotly.purge(gd);\n",
       "            observer.disconnect();\n",
       "        }}\n",
       "}});\n",
       "\n",
       "// Listen for the removal of the full notebook cells\n",
       "var notebookContainer = gd.closest('#notebook-container');\n",
       "if (notebookContainer) {{\n",
       "    x.observe(notebookContainer, {childList: true});\n",
       "}}\n",
       "\n",
       "// Listen for the clearing of the current output cell\n",
       "var outputEl = gd.closest('.output');\n",
       "if (outputEl) {{\n",
       "    x.observe(outputEl, {childList: true});\n",
       "}}\n",
       "\n",
       "                        })                };                });            </script>        </div>"
      ]
     },
     "metadata": {},
     "output_type": "display_data"
    }
   ],
   "source": [
    "fig=make_subplots(specs=[[{\"secondary_y\":False}]])\n",
    "fig.add_trace(go.Scatter(x=data5p2['date'][0:length0],y=data5p2['positives mean 7-day'][0:length0],name='actual'),secondary_y=False,)\n",
    "fig.add_trace(go.Scatter(x=data5p2['date'][length0-1:],y=data5p2['positives mean 7-day'][length0-1:],name='predicted'),secondary_y=False,)\n",
    "fig.update_layout(autosize=False,width=700,height=500,title_text=\"positives mean 7-day change in Tokyo\")\n",
    "fig.update_xaxes(title_text=\"Date\")\n",
    "fig.update_yaxes(title_text=\"positives mean 7-day\",secondary_y=False)\n",
    "fig.show()"
   ]
  },
  {
   "cell_type": "code",
   "execution_count": null,
   "id": "733bf6d3",
   "metadata": {
    "papermill": {
     "duration": 0.042744,
     "end_time": "2022-01-28T12:27:19.042478",
     "exception": false,
     "start_time": "2022-01-28T12:27:18.999734",
     "status": "completed"
    },
    "tags": []
   },
   "outputs": [],
   "source": []
  },
  {
   "cell_type": "markdown",
   "id": "9b74cfed",
   "metadata": {
    "papermill": {
     "duration": 0.043008,
     "end_time": "2022-01-28T12:27:19.128017",
     "exception": false,
     "start_time": "2022-01-28T12:27:19.085009",
     "status": "completed"
    },
    "tags": []
   },
   "source": [
    "# 6-1 Rt change and Slope change prediciton"
   ]
  },
  {
   "cell_type": "code",
   "execution_count": 26,
   "id": "2eb8d10d",
   "metadata": {
    "execution": {
     "iopub.execute_input": "2022-01-28T12:27:19.224840Z",
     "iopub.status.busy": "2022-01-28T12:27:19.223871Z",
     "iopub.status.idle": "2022-01-28T12:27:19.263024Z",
     "shell.execute_reply": "2022-01-28T12:27:19.263622Z",
     "shell.execute_reply.started": "2022-01-28T12:24:10.738404Z"
    },
    "papermill": {
     "duration": 0.090985,
     "end_time": "2022-01-28T12:27:19.263838",
     "exception": false,
     "start_time": "2022-01-28T12:27:19.172853",
     "status": "completed"
    },
    "tags": []
   },
   "outputs": [
    {
     "data": {
      "text/html": [
       "<div>                            <div id=\"f34d499b-1897-4cd5-9b46-c9f367e636bb\" class=\"plotly-graph-div\" style=\"height:500px; width:700px;\"></div>            <script type=\"text/javascript\">                require([\"plotly\"], function(Plotly) {                    window.PLOTLYENV=window.PLOTLYENV || {};                                    if (document.getElementById(\"f34d499b-1897-4cd5-9b46-c9f367e636bb\")) {                    Plotly.newPlot(                        \"f34d499b-1897-4cd5-9b46-c9f367e636bb\",                        [{\"name\":\"Rt\",\"x\":[\"2022-01-01\",\"2022-01-02\",\"2022-01-03\",\"2022-01-04\",\"2022-01-05\",\"2022-01-06\",\"2022-01-07\",\"2022-01-08\",\"2022-01-09\",\"2022-01-10\",\"2022-01-11\",\"2022-01-12\",\"2022-01-13\",\"2022-01-14\",\"2022-01-15\",\"2022-01-16\",\"2022-01-17\",\"2022-01-18\",\"2022-01-19\",\"2022-01-20\",\"2022-01-21\",\"2022-01-22\",\"2022-01-23\",\"2022-01-24\",\"2022-01-25\",\"2022-01-26\",\"2022-01-27\",\"2022-01-28\",\"2022-01-29\",\"2022-01-30\",\"2022-01-31\",\"2022-02-01\",\"2022-02-02\",\"2022-02-03\",\"2022-02-04\",\"2022-02-05\",\"2022-02-06\",\"2022-02-07\",\"2022-02-08\",\"2022-02-09\",\"2022-02-10\",\"2022-02-11\",\"2022-02-12\",\"2022-02-13\",\"2022-02-14\",\"2022-02-15\",\"2022-02-16\",\"2022-02-17\",\"2022-02-18\",\"2022-02-19\",\"2022-02-20\",\"2022-02-21\",\"2022-02-22\",\"2022-02-23\",\"2022-02-24\",\"2022-02-25\",\"2022-02-26\",\"2022-02-27\",\"2022-02-28\",\"2022-03-01\",\"2022-03-02\",\"2022-03-03\",\"2022-03-04\",\"2022-03-05\",\"2022-03-06\",\"2022-03-07\",\"2022-03-08\",\"2022-03-09\",\"2022-03-10\",\"2022-03-11\",\"2022-03-12\",\"2022-03-13\",\"2022-03-14\",\"2022-03-15\",\"2022-03-16\",\"2022-03-17\",\"2022-03-18\",\"2022-03-19\",\"2022-03-20\",\"2022-03-21\",\"2022-03-22\",\"2022-03-23\",\"2022-03-24\",\"2022-03-25\",\"2022-03-26\",\"2022-03-27\",\"2022-03-28\",\"2022-03-29\",\"2022-03-30\",\"2022-03-31\",\"2022-04-01\",\"2022-04-02\",\"2022-04-03\",\"2022-04-04\",\"2022-04-05\",\"2022-04-06\",\"2022-04-07\",\"2022-04-08\",\"2022-04-09\",\"2022-04-10\",\"2022-04-11\",\"2022-04-12\",\"2022-04-13\",\"2022-04-14\",\"2022-04-15\",\"2022-04-16\",\"2022-04-17\",\"2022-04-18\",\"2022-04-19\",\"2022-04-20\",\"2022-04-21\",\"2022-04-22\",\"2022-04-23\",\"2022-04-24\",\"2022-04-25\",\"2022-04-26\",\"2022-04-27\",\"2022-04-28\",\"2022-04-29\",\"2022-04-30\",null,null,null,null,null,null,null],\"y\":[1.783898305084746,1.8780487804878048,1.9629629629629628,2.2841726618705036,3.0222929936305736,4.475073313782991,6.2368421052631575,8.34916864608076,10.073593073593074,10.230188679245284,9.815748031496064,8.473129610115912,6.896461336828309,5.7624472573839665,4.83470839260313,4.285131070047271,4.203430468461822,4.3340285576768816,4.003606516602413,3.5829532497149374,3.1742696053305997,2.9432152524420383,2.773554630697488,2.636874204729937,2.5070333900940254,2.312117541080359,2.1835203012703213,2.082212636386704,1.9698134858380918,1.865937787818428,1.7699391918645762,1.6812203615625516,1.5992292577140834,1.5234557033580933,1.453428209273472,1.3887110402103318,1.3289015035948142,1.27362744383684,1.2225449266495154,1.1753360989712323,1.1317072111741595,1.0913867892526214,1.05412394561809,1.0196868179899725,0.9878611266684368,0.9584488412121239,0.9312669482243585,0.9061463125805974,0.8829306250112794,0.8614754294915734,0.8416472243861093,0.8233226317557019,0.806387629657209,0.7907368426596276,0.7762728861617738,0.762905760431666,0.750552290597114,0.7391356091029424,0.7285846774145187,0.7188338439914601,0.7098224357810786,0.7014943806896955,0.693797858682712,0.68668497934246,0.6801114838774851,0.6740364697290637,0.6684221360613579,0.6632335485515617,0.658438422016481,0.654006919522975,0.6499114667322554,0.6461265803228285,0.6426287094244687,0.6393960890765715,0.6364086047990534,0.6336476674331099,0.6310960974730512,0.6287380181694849,0.6265587567386993,0.6245447530635355,0.6226834753176568,0.6209633419881971,0.6193736498115892,0.6179045071741621,0.6165467725631057,0.615291997684821,0.61413237489672,0.6130606886253777,0.6120702704687419,0.6111549577030337,0.610309054936152,0.6095272986689761,0.6088048245440582,0.6081371370779101,0.6075200816885535,0.6069498188442762,0.6064228001727395,0.6059357463817806,0.605485626854524,0.6050696407918372,0.6046851997847911,0.6043299117086856,0.6040015658384242,0.6036981190926188,0.6034176833208316,0.6031585135548511,0.6029189971508977,0.602697643755197,0.6024930760304836,0.6023040210857339,0.6021293025557976,0.601967833281648,0.6018186085457035,0.601680699820127,0.6015532489892057,0.6014354630098587,0.6013266089770491,0.6012260095633956,0.6011330388046074,0.6010471182045194,null,null,null,null,null,null,null],\"type\":\"scatter\",\"xaxis\":\"x\",\"yaxis\":\"y\"},{\"name\":\"slope\",\"x\":[\"2022-01-01\",\"2022-01-02\",\"2022-01-03\",\"2022-01-04\",\"2022-01-05\",\"2022-01-06\",\"2022-01-07\",\"2022-01-08\",\"2022-01-09\",\"2022-01-10\",\"2022-01-11\",\"2022-01-12\",\"2022-01-13\",\"2022-01-14\",\"2022-01-15\",\"2022-01-16\",\"2022-01-17\",\"2022-01-18\",\"2022-01-19\",\"2022-01-20\",\"2022-01-21\",\"2022-01-22\",\"2022-01-23\",\"2022-01-24\",\"2022-01-25\",\"2022-01-26\",\"2022-01-27\",\"2022-01-28\",\"2022-01-29\",\"2022-01-30\",\"2022-01-31\",\"2022-02-01\",\"2022-02-02\",\"2022-02-03\",\"2022-02-04\",\"2022-02-05\",\"2022-02-06\",\"2022-02-07\",\"2022-02-08\",\"2022-02-09\",\"2022-02-10\",\"2022-02-11\",\"2022-02-12\",\"2022-02-13\",\"2022-02-14\",\"2022-02-15\",\"2022-02-16\",\"2022-02-17\",\"2022-02-18\",\"2022-02-19\",\"2022-02-20\",\"2022-02-21\",\"2022-02-22\",\"2022-02-23\",\"2022-02-24\",\"2022-02-25\",\"2022-02-26\",\"2022-02-27\",\"2022-02-28\",\"2022-03-01\",\"2022-03-02\",\"2022-03-03\",\"2022-03-04\",\"2022-03-05\",\"2022-03-06\",\"2022-03-07\",\"2022-03-08\",\"2022-03-09\",\"2022-03-10\",\"2022-03-11\",\"2022-03-12\",\"2022-03-13\",\"2022-03-14\",\"2022-03-15\",\"2022-03-16\",\"2022-03-17\",\"2022-03-18\",\"2022-03-19\",\"2022-03-20\",\"2022-03-21\",\"2022-03-22\",\"2022-03-23\",\"2022-03-24\",\"2022-03-25\",\"2022-03-26\",\"2022-03-27\",\"2022-03-28\",\"2022-03-29\",\"2022-03-30\",\"2022-03-31\",\"2022-04-01\",\"2022-04-02\",\"2022-04-03\",\"2022-04-04\",\"2022-04-05\",\"2022-04-06\",\"2022-04-07\",\"2022-04-08\",\"2022-04-09\",\"2022-04-10\",\"2022-04-11\",\"2022-04-12\",\"2022-04-13\",\"2022-04-14\",\"2022-04-15\",\"2022-04-16\",\"2022-04-17\",\"2022-04-18\",\"2022-04-19\",\"2022-04-20\",\"2022-04-21\",\"2022-04-22\",\"2022-04-23\",\"2022-04-24\",\"2022-04-25\",\"2022-04-26\",\"2022-04-27\",\"2022-04-28\",\"2022-04-29\",\"2022-04-30\",null,null,null,null,null,null,null],\"y\":[3.775510204081633,4.408163265306122,5.3061224489795915,7.285714285714285,12.959183673469388,24.183673469387752,40.61224489795918,63.142857142857146,85.55102040816327,99.83673469387756,114.24489795918369,144.73469387755102,183.6326530612245,230.3469387755102,275.08163265306126,312.02040816326524,354.46938775510205,424.10204081632656,492.89795918367344,554.7551020408163,606.0,673.9387755102042,721.8367346938776,761.3469387755101,830.8367346938776,862.0612244897958,910.7551020408164,957.4489795918367,989.9420636972212,977.502384848994,944.3068492548048,941.5438568739553,910.2659299732671,879.5551404139848,835.2887905771269,781.5801868419985,692.7781034982278,593.9839528747754,517.124689327325,425.94874638843766,337.14950002217404,244.68374676500076,151.12906758166613,55.10571130260723,-33.56107373715869,-118.03900570676134,-196.25182632696774,-271.8932272090907,-342.0926120481942,-407.7341101846453,-451.9741238741496,-482.5410719920975,-527.1624178104965,-556.4357732790655,-587.3054038834528,-611.7133783287783,-632.5176495201015,-626.661172726322,-610.3202484388823,-617.3312181219117,-610.1239518106094,-608.2922804873859,-602.7068033361205,-596.2869417555646,-567.990094683165,-534.0383716680686,-523.3223005058583,-502.6119228724792,-488.262085526124,-472.4961116317788,-457.51940281513333,-427.3366721564172,-394.6449103540194,-380.421425762339,-359.901824816858,-344.82450146165166,-329.47799786700165,-315.3307390203423,-291.38158969840526,-266.4435106787285,-254.5132153474835,-238.77437079814646,-227.01044864340662,-215.36770401088344,-204.77076335726497,-188.07577164575136,-171.0207771533213,-162.52295382766422,-151.74888947047197,-143.64029477312314,-135.72202819332713,-128.5618926753545,-117.67288169989014,-106.66124116585264,-101.0631339956518,-94.10695994112987,-88.85482015836592,-83.76196958505375,-79.17308574229716,-72.32384464261054,-65.4360575151443,-61.896939997593186,-57.54664353992872,-54.25661755910274,-51.078691024676495,-48.22093725818969,-43.9992686022876,-39.76715581261324,-37.579824510395966,-34.90726265522146,-32.884281714508965,-30.93446558504267,-29.183071680002538,-26.610722468087033,-24.03660760411662,-22.701824611896427,-21.076456995477166,-19.845543248135776,-18.660608281025503,-17.596944353396168,null,null,null,null,null,null,null],\"type\":\"scatter\",\"xaxis\":\"x\",\"yaxis\":\"y2\"}],                        {\"template\":{\"data\":{\"bar\":[{\"error_x\":{\"color\":\"#2a3f5f\"},\"error_y\":{\"color\":\"#2a3f5f\"},\"marker\":{\"line\":{\"color\":\"#E5ECF6\",\"width\":0.5},\"pattern\":{\"fillmode\":\"overlay\",\"size\":10,\"solidity\":0.2}},\"type\":\"bar\"}],\"barpolar\":[{\"marker\":{\"line\":{\"color\":\"#E5ECF6\",\"width\":0.5},\"pattern\":{\"fillmode\":\"overlay\",\"size\":10,\"solidity\":0.2}},\"type\":\"barpolar\"}],\"carpet\":[{\"aaxis\":{\"endlinecolor\":\"#2a3f5f\",\"gridcolor\":\"white\",\"linecolor\":\"white\",\"minorgridcolor\":\"white\",\"startlinecolor\":\"#2a3f5f\"},\"baxis\":{\"endlinecolor\":\"#2a3f5f\",\"gridcolor\":\"white\",\"linecolor\":\"white\",\"minorgridcolor\":\"white\",\"startlinecolor\":\"#2a3f5f\"},\"type\":\"carpet\"}],\"choropleth\":[{\"colorbar\":{\"outlinewidth\":0,\"ticks\":\"\"},\"type\":\"choropleth\"}],\"contour\":[{\"colorbar\":{\"outlinewidth\":0,\"ticks\":\"\"},\"colorscale\":[[0.0,\"#0d0887\"],[0.1111111111111111,\"#46039f\"],[0.2222222222222222,\"#7201a8\"],[0.3333333333333333,\"#9c179e\"],[0.4444444444444444,\"#bd3786\"],[0.5555555555555556,\"#d8576b\"],[0.6666666666666666,\"#ed7953\"],[0.7777777777777778,\"#fb9f3a\"],[0.8888888888888888,\"#fdca26\"],[1.0,\"#f0f921\"]],\"type\":\"contour\"}],\"contourcarpet\":[{\"colorbar\":{\"outlinewidth\":0,\"ticks\":\"\"},\"type\":\"contourcarpet\"}],\"heatmap\":[{\"colorbar\":{\"outlinewidth\":0,\"ticks\":\"\"},\"colorscale\":[[0.0,\"#0d0887\"],[0.1111111111111111,\"#46039f\"],[0.2222222222222222,\"#7201a8\"],[0.3333333333333333,\"#9c179e\"],[0.4444444444444444,\"#bd3786\"],[0.5555555555555556,\"#d8576b\"],[0.6666666666666666,\"#ed7953\"],[0.7777777777777778,\"#fb9f3a\"],[0.8888888888888888,\"#fdca26\"],[1.0,\"#f0f921\"]],\"type\":\"heatmap\"}],\"heatmapgl\":[{\"colorbar\":{\"outlinewidth\":0,\"ticks\":\"\"},\"colorscale\":[[0.0,\"#0d0887\"],[0.1111111111111111,\"#46039f\"],[0.2222222222222222,\"#7201a8\"],[0.3333333333333333,\"#9c179e\"],[0.4444444444444444,\"#bd3786\"],[0.5555555555555556,\"#d8576b\"],[0.6666666666666666,\"#ed7953\"],[0.7777777777777778,\"#fb9f3a\"],[0.8888888888888888,\"#fdca26\"],[1.0,\"#f0f921\"]],\"type\":\"heatmapgl\"}],\"histogram\":[{\"marker\":{\"pattern\":{\"fillmode\":\"overlay\",\"size\":10,\"solidity\":0.2}},\"type\":\"histogram\"}],\"histogram2d\":[{\"colorbar\":{\"outlinewidth\":0,\"ticks\":\"\"},\"colorscale\":[[0.0,\"#0d0887\"],[0.1111111111111111,\"#46039f\"],[0.2222222222222222,\"#7201a8\"],[0.3333333333333333,\"#9c179e\"],[0.4444444444444444,\"#bd3786\"],[0.5555555555555556,\"#d8576b\"],[0.6666666666666666,\"#ed7953\"],[0.7777777777777778,\"#fb9f3a\"],[0.8888888888888888,\"#fdca26\"],[1.0,\"#f0f921\"]],\"type\":\"histogram2d\"}],\"histogram2dcontour\":[{\"colorbar\":{\"outlinewidth\":0,\"ticks\":\"\"},\"colorscale\":[[0.0,\"#0d0887\"],[0.1111111111111111,\"#46039f\"],[0.2222222222222222,\"#7201a8\"],[0.3333333333333333,\"#9c179e\"],[0.4444444444444444,\"#bd3786\"],[0.5555555555555556,\"#d8576b\"],[0.6666666666666666,\"#ed7953\"],[0.7777777777777778,\"#fb9f3a\"],[0.8888888888888888,\"#fdca26\"],[1.0,\"#f0f921\"]],\"type\":\"histogram2dcontour\"}],\"mesh3d\":[{\"colorbar\":{\"outlinewidth\":0,\"ticks\":\"\"},\"type\":\"mesh3d\"}],\"parcoords\":[{\"line\":{\"colorbar\":{\"outlinewidth\":0,\"ticks\":\"\"}},\"type\":\"parcoords\"}],\"pie\":[{\"automargin\":true,\"type\":\"pie\"}],\"scatter\":[{\"marker\":{\"colorbar\":{\"outlinewidth\":0,\"ticks\":\"\"}},\"type\":\"scatter\"}],\"scatter3d\":[{\"line\":{\"colorbar\":{\"outlinewidth\":0,\"ticks\":\"\"}},\"marker\":{\"colorbar\":{\"outlinewidth\":0,\"ticks\":\"\"}},\"type\":\"scatter3d\"}],\"scattercarpet\":[{\"marker\":{\"colorbar\":{\"outlinewidth\":0,\"ticks\":\"\"}},\"type\":\"scattercarpet\"}],\"scattergeo\":[{\"marker\":{\"colorbar\":{\"outlinewidth\":0,\"ticks\":\"\"}},\"type\":\"scattergeo\"}],\"scattergl\":[{\"marker\":{\"colorbar\":{\"outlinewidth\":0,\"ticks\":\"\"}},\"type\":\"scattergl\"}],\"scattermapbox\":[{\"marker\":{\"colorbar\":{\"outlinewidth\":0,\"ticks\":\"\"}},\"type\":\"scattermapbox\"}],\"scatterpolar\":[{\"marker\":{\"colorbar\":{\"outlinewidth\":0,\"ticks\":\"\"}},\"type\":\"scatterpolar\"}],\"scatterpolargl\":[{\"marker\":{\"colorbar\":{\"outlinewidth\":0,\"ticks\":\"\"}},\"type\":\"scatterpolargl\"}],\"scatterternary\":[{\"marker\":{\"colorbar\":{\"outlinewidth\":0,\"ticks\":\"\"}},\"type\":\"scatterternary\"}],\"surface\":[{\"colorbar\":{\"outlinewidth\":0,\"ticks\":\"\"},\"colorscale\":[[0.0,\"#0d0887\"],[0.1111111111111111,\"#46039f\"],[0.2222222222222222,\"#7201a8\"],[0.3333333333333333,\"#9c179e\"],[0.4444444444444444,\"#bd3786\"],[0.5555555555555556,\"#d8576b\"],[0.6666666666666666,\"#ed7953\"],[0.7777777777777778,\"#fb9f3a\"],[0.8888888888888888,\"#fdca26\"],[1.0,\"#f0f921\"]],\"type\":\"surface\"}],\"table\":[{\"cells\":{\"fill\":{\"color\":\"#EBF0F8\"},\"line\":{\"color\":\"white\"}},\"header\":{\"fill\":{\"color\":\"#C8D4E3\"},\"line\":{\"color\":\"white\"}},\"type\":\"table\"}]},\"layout\":{\"annotationdefaults\":{\"arrowcolor\":\"#2a3f5f\",\"arrowhead\":0,\"arrowwidth\":1},\"autotypenumbers\":\"strict\",\"coloraxis\":{\"colorbar\":{\"outlinewidth\":0,\"ticks\":\"\"}},\"colorscale\":{\"diverging\":[[0,\"#8e0152\"],[0.1,\"#c51b7d\"],[0.2,\"#de77ae\"],[0.3,\"#f1b6da\"],[0.4,\"#fde0ef\"],[0.5,\"#f7f7f7\"],[0.6,\"#e6f5d0\"],[0.7,\"#b8e186\"],[0.8,\"#7fbc41\"],[0.9,\"#4d9221\"],[1,\"#276419\"]],\"sequential\":[[0.0,\"#0d0887\"],[0.1111111111111111,\"#46039f\"],[0.2222222222222222,\"#7201a8\"],[0.3333333333333333,\"#9c179e\"],[0.4444444444444444,\"#bd3786\"],[0.5555555555555556,\"#d8576b\"],[0.6666666666666666,\"#ed7953\"],[0.7777777777777778,\"#fb9f3a\"],[0.8888888888888888,\"#fdca26\"],[1.0,\"#f0f921\"]],\"sequentialminus\":[[0.0,\"#0d0887\"],[0.1111111111111111,\"#46039f\"],[0.2222222222222222,\"#7201a8\"],[0.3333333333333333,\"#9c179e\"],[0.4444444444444444,\"#bd3786\"],[0.5555555555555556,\"#d8576b\"],[0.6666666666666666,\"#ed7953\"],[0.7777777777777778,\"#fb9f3a\"],[0.8888888888888888,\"#fdca26\"],[1.0,\"#f0f921\"]]},\"colorway\":[\"#636efa\",\"#EF553B\",\"#00cc96\",\"#ab63fa\",\"#FFA15A\",\"#19d3f3\",\"#FF6692\",\"#B6E880\",\"#FF97FF\",\"#FECB52\"],\"font\":{\"color\":\"#2a3f5f\"},\"geo\":{\"bgcolor\":\"white\",\"lakecolor\":\"white\",\"landcolor\":\"#E5ECF6\",\"showlakes\":true,\"showland\":true,\"subunitcolor\":\"white\"},\"hoverlabel\":{\"align\":\"left\"},\"hovermode\":\"closest\",\"mapbox\":{\"style\":\"light\"},\"paper_bgcolor\":\"white\",\"plot_bgcolor\":\"#E5ECF6\",\"polar\":{\"angularaxis\":{\"gridcolor\":\"white\",\"linecolor\":\"white\",\"ticks\":\"\"},\"bgcolor\":\"#E5ECF6\",\"radialaxis\":{\"gridcolor\":\"white\",\"linecolor\":\"white\",\"ticks\":\"\"}},\"scene\":{\"xaxis\":{\"backgroundcolor\":\"#E5ECF6\",\"gridcolor\":\"white\",\"gridwidth\":2,\"linecolor\":\"white\",\"showbackground\":true,\"ticks\":\"\",\"zerolinecolor\":\"white\"},\"yaxis\":{\"backgroundcolor\":\"#E5ECF6\",\"gridcolor\":\"white\",\"gridwidth\":2,\"linecolor\":\"white\",\"showbackground\":true,\"ticks\":\"\",\"zerolinecolor\":\"white\"},\"zaxis\":{\"backgroundcolor\":\"#E5ECF6\",\"gridcolor\":\"white\",\"gridwidth\":2,\"linecolor\":\"white\",\"showbackground\":true,\"ticks\":\"\",\"zerolinecolor\":\"white\"}},\"shapedefaults\":{\"line\":{\"color\":\"#2a3f5f\"}},\"ternary\":{\"aaxis\":{\"gridcolor\":\"white\",\"linecolor\":\"white\",\"ticks\":\"\"},\"baxis\":{\"gridcolor\":\"white\",\"linecolor\":\"white\",\"ticks\":\"\"},\"bgcolor\":\"#E5ECF6\",\"caxis\":{\"gridcolor\":\"white\",\"linecolor\":\"white\",\"ticks\":\"\"}},\"title\":{\"x\":0.05},\"xaxis\":{\"automargin\":true,\"gridcolor\":\"white\",\"linecolor\":\"white\",\"ticks\":\"\",\"title\":{\"standoff\":15},\"zerolinecolor\":\"white\",\"zerolinewidth\":2},\"yaxis\":{\"automargin\":true,\"gridcolor\":\"white\",\"linecolor\":\"white\",\"ticks\":\"\",\"title\":{\"standoff\":15},\"zerolinecolor\":\"white\",\"zerolinewidth\":2}}},\"xaxis\":{\"anchor\":\"y\",\"domain\":[0.0,0.94],\"title\":{\"text\":\"Date\"}},\"yaxis\":{\"anchor\":\"x\",\"domain\":[0.0,1.0],\"title\":{\"text\":\"Rt\"}},\"yaxis2\":{\"anchor\":\"x\",\"overlaying\":\"y\",\"side\":\"right\",\"title\":{\"text\":\"Slope\"}},\"title\":{\"text\":\"Rt and Slope change in Tokyo\"},\"autosize\":false,\"width\":700,\"height\":500},                        {\"responsive\": true}                    ).then(function(){\n",
       "                            \n",
       "var gd = document.getElementById('f34d499b-1897-4cd5-9b46-c9f367e636bb');\n",
       "var x = new MutationObserver(function (mutations, observer) {{\n",
       "        var display = window.getComputedStyle(gd).display;\n",
       "        if (!display || display === 'none') {{\n",
       "            console.log([gd, 'removed!']);\n",
       "            Plotly.purge(gd);\n",
       "            observer.disconnect();\n",
       "        }}\n",
       "}});\n",
       "\n",
       "// Listen for the removal of the full notebook cells\n",
       "var notebookContainer = gd.closest('#notebook-container');\n",
       "if (notebookContainer) {{\n",
       "    x.observe(notebookContainer, {childList: true});\n",
       "}}\n",
       "\n",
       "// Listen for the clearing of the current output cell\n",
       "var outputEl = gd.closest('.output');\n",
       "if (outputEl) {{\n",
       "    x.observe(outputEl, {childList: true});\n",
       "}}\n",
       "\n",
       "                        })                };                });            </script>        </div>"
      ]
     },
     "metadata": {},
     "output_type": "display_data"
    }
   ],
   "source": [
    "fig=make_subplots(specs=[[{\"secondary_y\":True}]])\n",
    "fig.add_trace(go.Scatter(x=data5p2['date'],y=data5p2['Rt'],name='Rt'),secondary_y=False)\n",
    "fig.add_trace(go.Scatter(x=data5p2['date'],y=data5p2['slope'],name='slope'),secondary_y=True,)\n",
    "fig.update_layout(autosize=False,width=700,height=500,title_text=\"Rt and Slope change in Tokyo\")\n",
    "fig.update_xaxes(title_text=\"Date\")\n",
    "fig.update_yaxes(title_text=\"Slope\",secondary_y=True)\n",
    "fig.update_yaxes(title_text=\"Rt\",secondary_y=False)\n",
    "fig.show()"
   ]
  },
  {
   "cell_type": "markdown",
   "id": "ce4892b7",
   "metadata": {
    "papermill": {
     "duration": 0.042763,
     "end_time": "2022-01-28T12:27:19.350002",
     "exception": false,
     "start_time": "2022-01-28T12:27:19.307239",
     "status": "completed"
    },
    "tags": []
   },
   "source": [
    "# 6-2 Slope change and Positives change prediciton"
   ]
  },
  {
   "cell_type": "code",
   "execution_count": 27,
   "id": "6b9859d4",
   "metadata": {
    "execution": {
     "iopub.execute_input": "2022-01-28T12:27:19.439514Z",
     "iopub.status.busy": "2022-01-28T12:27:19.438812Z",
     "iopub.status.idle": "2022-01-28T12:27:19.481486Z",
     "shell.execute_reply": "2022-01-28T12:27:19.480929Z",
     "shell.execute_reply.started": "2022-01-28T12:24:10.782421Z"
    },
    "papermill": {
     "duration": 0.088569,
     "end_time": "2022-01-28T12:27:19.481645",
     "exception": false,
     "start_time": "2022-01-28T12:27:19.393076",
     "status": "completed"
    },
    "tags": []
   },
   "outputs": [
    {
     "data": {
      "text/html": [
       "<div>                            <div id=\"3cb9a1f2-9695-4771-9453-3b8c6194e2dd\" class=\"plotly-graph-div\" style=\"height:500px; width:700px;\"></div>            <script type=\"text/javascript\">                require([\"plotly\"], function(Plotly) {                    window.PLOTLYENV=window.PLOTLYENV || {};                                    if (document.getElementById(\"3cb9a1f2-9695-4771-9453-3b8c6194e2dd\")) {                    Plotly.newPlot(                        \"3cb9a1f2-9695-4771-9453-3b8c6194e2dd\",                        [{\"name\":\"positives mean 7-day\",\"x\":[\"2022-01-01\",\"2022-01-02\",\"2022-01-03\",\"2022-01-04\",\"2022-01-05\",\"2022-01-06\",\"2022-01-07\",\"2022-01-08\",\"2022-01-09\",\"2022-01-10\",\"2022-01-11\",\"2022-01-12\",\"2022-01-13\",\"2022-01-14\",\"2022-01-15\",\"2022-01-16\",\"2022-01-17\",\"2022-01-18\",\"2022-01-19\",\"2022-01-20\",\"2022-01-21\",\"2022-01-22\",\"2022-01-23\",\"2022-01-24\",\"2022-01-25\",\"2022-01-26\",\"2022-01-27\",\"2022-01-28\",\"2022-01-29\",\"2022-01-30\",\"2022-01-31\",\"2022-02-01\",\"2022-02-02\",\"2022-02-03\",\"2022-02-04\",\"2022-02-05\",\"2022-02-06\",\"2022-02-07\",\"2022-02-08\",\"2022-02-09\",\"2022-02-10\",\"2022-02-11\",\"2022-02-12\",\"2022-02-13\",\"2022-02-14\",\"2022-02-15\",\"2022-02-16\",\"2022-02-17\",\"2022-02-18\",\"2022-02-19\",\"2022-02-20\",\"2022-02-21\",\"2022-02-22\",\"2022-02-23\",\"2022-02-24\",\"2022-02-25\",\"2022-02-26\",\"2022-02-27\",\"2022-02-28\",\"2022-03-01\",\"2022-03-02\",\"2022-03-03\",\"2022-03-04\",\"2022-03-05\",\"2022-03-06\",\"2022-03-07\",\"2022-03-08\",\"2022-03-09\",\"2022-03-10\",\"2022-03-11\",\"2022-03-12\",\"2022-03-13\",\"2022-03-14\",\"2022-03-15\",\"2022-03-16\",\"2022-03-17\",\"2022-03-18\",\"2022-03-19\",\"2022-03-20\",\"2022-03-21\",\"2022-03-22\",\"2022-03-23\",\"2022-03-24\",\"2022-03-25\",\"2022-03-26\",\"2022-03-27\",\"2022-03-28\",\"2022-03-29\",\"2022-03-30\",\"2022-03-31\",\"2022-04-01\",\"2022-04-02\",\"2022-04-03\",\"2022-04-04\",\"2022-04-05\",\"2022-04-06\",\"2022-04-07\",\"2022-04-08\",\"2022-04-09\",\"2022-04-10\",\"2022-04-11\",\"2022-04-12\",\"2022-04-13\",\"2022-04-14\",\"2022-04-15\",\"2022-04-16\",\"2022-04-17\",\"2022-04-18\",\"2022-04-19\",\"2022-04-20\",\"2022-04-21\",\"2022-04-22\",\"2022-04-23\",\"2022-04-24\",\"2022-04-25\",\"2022-04-26\",\"2022-04-27\",\"2022-04-28\",\"2022-04-29\",\"2022-04-30\",null,null,null,null,null,null,null],\"y\":[60.142857142857146,66.0,75.71428571428571,90.71428571428571,135.57142857142858,218.0,338.57142857142856,502.14285714285717,664.8571428571429,774.5714285714286,890.4285714285714,1148.7142857142858,1503.4285714285713,1951.0,2427.714285714286,2849.0,3255.8571428571427,3859.1428571428573,4599.0,5386.714285714285,6193.0,7145.285714285715,7901.857142857143,8585.285714285714,9675.0,10633.42857142857,11762.0,12895.142857142857,14074.880160166264,14744.373836800101,15195.433659069347,16265.806998117687,17005.29008124144,17918.885982897893,18742.164391182745,19545.941468060253,19593.820561287695,19353.321329192775,19885.679823408962,19986.931305960505,20278.93248305311,20454.95061853775,20603.844941131916,19979.560540405946,19118.393813032664,19059.406783461633,18613.16852167173,18375.679892589476,18060.30233420039,17749.7061698394,16815.7416732869,15740.606309087982,15369.269858788157,14718.118108718272,14264.542065405307,13778.308685898943,13322.082623198688,12429.113464202645,11468.364570015805,11047.951331934775,10447.250446044007,10006.496101993605,9559.361062546099,9148.074030909736,8453.18280142049,7730.095968339325,7384.695228393767,6928.966985936652,6588.661503310737,6251.888281123647,5945.438211203803,5461.826096325569,4967.581595861189,4721.745248057394,4409.6542122186465,4174.889993079176,3945.5422960546357,3738.1230380614065,3422.154968436732,3102.47702111009,2940.1527406250093,2738.2336166316213,2585.8168525753294,2437.9683679784516,2304.7276945605518,2105.6245669164723,1905.3315810368408,1802.4920638313597,1675.9913903383176,1580.3347891634673,1487.9141706251617,1404.7944458330703,1281.9143950172413,1158.7028928758723,1095.0501258617971,1017.2426707504085,958.3510480549058,901.5803835297854,850.5828456369902,775.6474825189675,700.6504902698622,661.7715458786448,614.4161659709074,578.5547251411866,544.02954635705,513.0362848296623,467.65260230295434,422.2803995815695,398.71277430587304,370.0653273843572,348.3647531396239,327.4882872617513,308.7547830696446,281.3775450263451,254.02414635275315,239.80000202259805,222.53012841601705,209.44595040267345,196.86402929457276,185.5761725958714,null,null,null,null,null,null,null],\"type\":\"scatter\",\"xaxis\":\"x\",\"yaxis\":\"y\"},{\"name\":\"slope\",\"x\":[\"2022-01-01\",\"2022-01-02\",\"2022-01-03\",\"2022-01-04\",\"2022-01-05\",\"2022-01-06\",\"2022-01-07\",\"2022-01-08\",\"2022-01-09\",\"2022-01-10\",\"2022-01-11\",\"2022-01-12\",\"2022-01-13\",\"2022-01-14\",\"2022-01-15\",\"2022-01-16\",\"2022-01-17\",\"2022-01-18\",\"2022-01-19\",\"2022-01-20\",\"2022-01-21\",\"2022-01-22\",\"2022-01-23\",\"2022-01-24\",\"2022-01-25\",\"2022-01-26\",\"2022-01-27\",\"2022-01-28\",\"2022-01-29\",\"2022-01-30\",\"2022-01-31\",\"2022-02-01\",\"2022-02-02\",\"2022-02-03\",\"2022-02-04\",\"2022-02-05\",\"2022-02-06\",\"2022-02-07\",\"2022-02-08\",\"2022-02-09\",\"2022-02-10\",\"2022-02-11\",\"2022-02-12\",\"2022-02-13\",\"2022-02-14\",\"2022-02-15\",\"2022-02-16\",\"2022-02-17\",\"2022-02-18\",\"2022-02-19\",\"2022-02-20\",\"2022-02-21\",\"2022-02-22\",\"2022-02-23\",\"2022-02-24\",\"2022-02-25\",\"2022-02-26\",\"2022-02-27\",\"2022-02-28\",\"2022-03-01\",\"2022-03-02\",\"2022-03-03\",\"2022-03-04\",\"2022-03-05\",\"2022-03-06\",\"2022-03-07\",\"2022-03-08\",\"2022-03-09\",\"2022-03-10\",\"2022-03-11\",\"2022-03-12\",\"2022-03-13\",\"2022-03-14\",\"2022-03-15\",\"2022-03-16\",\"2022-03-17\",\"2022-03-18\",\"2022-03-19\",\"2022-03-20\",\"2022-03-21\",\"2022-03-22\",\"2022-03-23\",\"2022-03-24\",\"2022-03-25\",\"2022-03-26\",\"2022-03-27\",\"2022-03-28\",\"2022-03-29\",\"2022-03-30\",\"2022-03-31\",\"2022-04-01\",\"2022-04-02\",\"2022-04-03\",\"2022-04-04\",\"2022-04-05\",\"2022-04-06\",\"2022-04-07\",\"2022-04-08\",\"2022-04-09\",\"2022-04-10\",\"2022-04-11\",\"2022-04-12\",\"2022-04-13\",\"2022-04-14\",\"2022-04-15\",\"2022-04-16\",\"2022-04-17\",\"2022-04-18\",\"2022-04-19\",\"2022-04-20\",\"2022-04-21\",\"2022-04-22\",\"2022-04-23\",\"2022-04-24\",\"2022-04-25\",\"2022-04-26\",\"2022-04-27\",\"2022-04-28\",\"2022-04-29\",\"2022-04-30\",null,null,null,null,null,null,null],\"y\":[3.775510204081633,4.408163265306122,5.3061224489795915,7.285714285714285,12.959183673469388,24.183673469387752,40.61224489795918,63.142857142857146,85.55102040816327,99.83673469387756,114.24489795918369,144.73469387755102,183.6326530612245,230.3469387755102,275.08163265306126,312.02040816326524,354.46938775510205,424.10204081632656,492.89795918367344,554.7551020408163,606.0,673.9387755102042,721.8367346938776,761.3469387755101,830.8367346938776,862.0612244897958,910.7551020408164,957.4489795918367,989.9420636972212,977.502384848994,944.3068492548048,941.5438568739553,910.2659299732671,879.5551404139848,835.2887905771269,781.5801868419985,692.7781034982278,593.9839528747754,517.124689327325,425.94874638843766,337.14950002217404,244.68374676500076,151.12906758166613,55.10571130260723,-33.56107373715869,-118.03900570676134,-196.25182632696774,-271.8932272090907,-342.0926120481942,-407.7341101846453,-451.9741238741496,-482.5410719920975,-527.1624178104965,-556.4357732790655,-587.3054038834528,-611.7133783287783,-632.5176495201015,-626.661172726322,-610.3202484388823,-617.3312181219117,-610.1239518106094,-608.2922804873859,-602.7068033361205,-596.2869417555646,-567.990094683165,-534.0383716680686,-523.3223005058583,-502.6119228724792,-488.262085526124,-472.4961116317788,-457.51940281513333,-427.3366721564172,-394.6449103540194,-380.421425762339,-359.901824816858,-344.82450146165166,-329.47799786700165,-315.3307390203423,-291.38158969840526,-266.4435106787285,-254.5132153474835,-238.77437079814646,-227.01044864340662,-215.36770401088344,-204.77076335726497,-188.07577164575136,-171.0207771533213,-162.52295382766422,-151.74888947047197,-143.64029477312314,-135.72202819332713,-128.5618926753545,-117.67288169989014,-106.66124116585264,-101.0631339956518,-94.10695994112987,-88.85482015836592,-83.76196958505375,-79.17308574229716,-72.32384464261054,-65.4360575151443,-61.896939997593186,-57.54664353992872,-54.25661755910274,-51.078691024676495,-48.22093725818969,-43.9992686022876,-39.76715581261324,-37.579824510395966,-34.90726265522146,-32.884281714508965,-30.93446558504267,-29.183071680002538,-26.610722468087033,-24.03660760411662,-22.701824611896427,-21.076456995477166,-19.845543248135776,-18.660608281025503,-17.596944353396168,null,null,null,null,null,null,null],\"type\":\"scatter\",\"xaxis\":\"x\",\"yaxis\":\"y2\"}],                        {\"template\":{\"data\":{\"bar\":[{\"error_x\":{\"color\":\"#2a3f5f\"},\"error_y\":{\"color\":\"#2a3f5f\"},\"marker\":{\"line\":{\"color\":\"#E5ECF6\",\"width\":0.5},\"pattern\":{\"fillmode\":\"overlay\",\"size\":10,\"solidity\":0.2}},\"type\":\"bar\"}],\"barpolar\":[{\"marker\":{\"line\":{\"color\":\"#E5ECF6\",\"width\":0.5},\"pattern\":{\"fillmode\":\"overlay\",\"size\":10,\"solidity\":0.2}},\"type\":\"barpolar\"}],\"carpet\":[{\"aaxis\":{\"endlinecolor\":\"#2a3f5f\",\"gridcolor\":\"white\",\"linecolor\":\"white\",\"minorgridcolor\":\"white\",\"startlinecolor\":\"#2a3f5f\"},\"baxis\":{\"endlinecolor\":\"#2a3f5f\",\"gridcolor\":\"white\",\"linecolor\":\"white\",\"minorgridcolor\":\"white\",\"startlinecolor\":\"#2a3f5f\"},\"type\":\"carpet\"}],\"choropleth\":[{\"colorbar\":{\"outlinewidth\":0,\"ticks\":\"\"},\"type\":\"choropleth\"}],\"contour\":[{\"colorbar\":{\"outlinewidth\":0,\"ticks\":\"\"},\"colorscale\":[[0.0,\"#0d0887\"],[0.1111111111111111,\"#46039f\"],[0.2222222222222222,\"#7201a8\"],[0.3333333333333333,\"#9c179e\"],[0.4444444444444444,\"#bd3786\"],[0.5555555555555556,\"#d8576b\"],[0.6666666666666666,\"#ed7953\"],[0.7777777777777778,\"#fb9f3a\"],[0.8888888888888888,\"#fdca26\"],[1.0,\"#f0f921\"]],\"type\":\"contour\"}],\"contourcarpet\":[{\"colorbar\":{\"outlinewidth\":0,\"ticks\":\"\"},\"type\":\"contourcarpet\"}],\"heatmap\":[{\"colorbar\":{\"outlinewidth\":0,\"ticks\":\"\"},\"colorscale\":[[0.0,\"#0d0887\"],[0.1111111111111111,\"#46039f\"],[0.2222222222222222,\"#7201a8\"],[0.3333333333333333,\"#9c179e\"],[0.4444444444444444,\"#bd3786\"],[0.5555555555555556,\"#d8576b\"],[0.6666666666666666,\"#ed7953\"],[0.7777777777777778,\"#fb9f3a\"],[0.8888888888888888,\"#fdca26\"],[1.0,\"#f0f921\"]],\"type\":\"heatmap\"}],\"heatmapgl\":[{\"colorbar\":{\"outlinewidth\":0,\"ticks\":\"\"},\"colorscale\":[[0.0,\"#0d0887\"],[0.1111111111111111,\"#46039f\"],[0.2222222222222222,\"#7201a8\"],[0.3333333333333333,\"#9c179e\"],[0.4444444444444444,\"#bd3786\"],[0.5555555555555556,\"#d8576b\"],[0.6666666666666666,\"#ed7953\"],[0.7777777777777778,\"#fb9f3a\"],[0.8888888888888888,\"#fdca26\"],[1.0,\"#f0f921\"]],\"type\":\"heatmapgl\"}],\"histogram\":[{\"marker\":{\"pattern\":{\"fillmode\":\"overlay\",\"size\":10,\"solidity\":0.2}},\"type\":\"histogram\"}],\"histogram2d\":[{\"colorbar\":{\"outlinewidth\":0,\"ticks\":\"\"},\"colorscale\":[[0.0,\"#0d0887\"],[0.1111111111111111,\"#46039f\"],[0.2222222222222222,\"#7201a8\"],[0.3333333333333333,\"#9c179e\"],[0.4444444444444444,\"#bd3786\"],[0.5555555555555556,\"#d8576b\"],[0.6666666666666666,\"#ed7953\"],[0.7777777777777778,\"#fb9f3a\"],[0.8888888888888888,\"#fdca26\"],[1.0,\"#f0f921\"]],\"type\":\"histogram2d\"}],\"histogram2dcontour\":[{\"colorbar\":{\"outlinewidth\":0,\"ticks\":\"\"},\"colorscale\":[[0.0,\"#0d0887\"],[0.1111111111111111,\"#46039f\"],[0.2222222222222222,\"#7201a8\"],[0.3333333333333333,\"#9c179e\"],[0.4444444444444444,\"#bd3786\"],[0.5555555555555556,\"#d8576b\"],[0.6666666666666666,\"#ed7953\"],[0.7777777777777778,\"#fb9f3a\"],[0.8888888888888888,\"#fdca26\"],[1.0,\"#f0f921\"]],\"type\":\"histogram2dcontour\"}],\"mesh3d\":[{\"colorbar\":{\"outlinewidth\":0,\"ticks\":\"\"},\"type\":\"mesh3d\"}],\"parcoords\":[{\"line\":{\"colorbar\":{\"outlinewidth\":0,\"ticks\":\"\"}},\"type\":\"parcoords\"}],\"pie\":[{\"automargin\":true,\"type\":\"pie\"}],\"scatter\":[{\"marker\":{\"colorbar\":{\"outlinewidth\":0,\"ticks\":\"\"}},\"type\":\"scatter\"}],\"scatter3d\":[{\"line\":{\"colorbar\":{\"outlinewidth\":0,\"ticks\":\"\"}},\"marker\":{\"colorbar\":{\"outlinewidth\":0,\"ticks\":\"\"}},\"type\":\"scatter3d\"}],\"scattercarpet\":[{\"marker\":{\"colorbar\":{\"outlinewidth\":0,\"ticks\":\"\"}},\"type\":\"scattercarpet\"}],\"scattergeo\":[{\"marker\":{\"colorbar\":{\"outlinewidth\":0,\"ticks\":\"\"}},\"type\":\"scattergeo\"}],\"scattergl\":[{\"marker\":{\"colorbar\":{\"outlinewidth\":0,\"ticks\":\"\"}},\"type\":\"scattergl\"}],\"scattermapbox\":[{\"marker\":{\"colorbar\":{\"outlinewidth\":0,\"ticks\":\"\"}},\"type\":\"scattermapbox\"}],\"scatterpolar\":[{\"marker\":{\"colorbar\":{\"outlinewidth\":0,\"ticks\":\"\"}},\"type\":\"scatterpolar\"}],\"scatterpolargl\":[{\"marker\":{\"colorbar\":{\"outlinewidth\":0,\"ticks\":\"\"}},\"type\":\"scatterpolargl\"}],\"scatterternary\":[{\"marker\":{\"colorbar\":{\"outlinewidth\":0,\"ticks\":\"\"}},\"type\":\"scatterternary\"}],\"surface\":[{\"colorbar\":{\"outlinewidth\":0,\"ticks\":\"\"},\"colorscale\":[[0.0,\"#0d0887\"],[0.1111111111111111,\"#46039f\"],[0.2222222222222222,\"#7201a8\"],[0.3333333333333333,\"#9c179e\"],[0.4444444444444444,\"#bd3786\"],[0.5555555555555556,\"#d8576b\"],[0.6666666666666666,\"#ed7953\"],[0.7777777777777778,\"#fb9f3a\"],[0.8888888888888888,\"#fdca26\"],[1.0,\"#f0f921\"]],\"type\":\"surface\"}],\"table\":[{\"cells\":{\"fill\":{\"color\":\"#EBF0F8\"},\"line\":{\"color\":\"white\"}},\"header\":{\"fill\":{\"color\":\"#C8D4E3\"},\"line\":{\"color\":\"white\"}},\"type\":\"table\"}]},\"layout\":{\"annotationdefaults\":{\"arrowcolor\":\"#2a3f5f\",\"arrowhead\":0,\"arrowwidth\":1},\"autotypenumbers\":\"strict\",\"coloraxis\":{\"colorbar\":{\"outlinewidth\":0,\"ticks\":\"\"}},\"colorscale\":{\"diverging\":[[0,\"#8e0152\"],[0.1,\"#c51b7d\"],[0.2,\"#de77ae\"],[0.3,\"#f1b6da\"],[0.4,\"#fde0ef\"],[0.5,\"#f7f7f7\"],[0.6,\"#e6f5d0\"],[0.7,\"#b8e186\"],[0.8,\"#7fbc41\"],[0.9,\"#4d9221\"],[1,\"#276419\"]],\"sequential\":[[0.0,\"#0d0887\"],[0.1111111111111111,\"#46039f\"],[0.2222222222222222,\"#7201a8\"],[0.3333333333333333,\"#9c179e\"],[0.4444444444444444,\"#bd3786\"],[0.5555555555555556,\"#d8576b\"],[0.6666666666666666,\"#ed7953\"],[0.7777777777777778,\"#fb9f3a\"],[0.8888888888888888,\"#fdca26\"],[1.0,\"#f0f921\"]],\"sequentialminus\":[[0.0,\"#0d0887\"],[0.1111111111111111,\"#46039f\"],[0.2222222222222222,\"#7201a8\"],[0.3333333333333333,\"#9c179e\"],[0.4444444444444444,\"#bd3786\"],[0.5555555555555556,\"#d8576b\"],[0.6666666666666666,\"#ed7953\"],[0.7777777777777778,\"#fb9f3a\"],[0.8888888888888888,\"#fdca26\"],[1.0,\"#f0f921\"]]},\"colorway\":[\"#636efa\",\"#EF553B\",\"#00cc96\",\"#ab63fa\",\"#FFA15A\",\"#19d3f3\",\"#FF6692\",\"#B6E880\",\"#FF97FF\",\"#FECB52\"],\"font\":{\"color\":\"#2a3f5f\"},\"geo\":{\"bgcolor\":\"white\",\"lakecolor\":\"white\",\"landcolor\":\"#E5ECF6\",\"showlakes\":true,\"showland\":true,\"subunitcolor\":\"white\"},\"hoverlabel\":{\"align\":\"left\"},\"hovermode\":\"closest\",\"mapbox\":{\"style\":\"light\"},\"paper_bgcolor\":\"white\",\"plot_bgcolor\":\"#E5ECF6\",\"polar\":{\"angularaxis\":{\"gridcolor\":\"white\",\"linecolor\":\"white\",\"ticks\":\"\"},\"bgcolor\":\"#E5ECF6\",\"radialaxis\":{\"gridcolor\":\"white\",\"linecolor\":\"white\",\"ticks\":\"\"}},\"scene\":{\"xaxis\":{\"backgroundcolor\":\"#E5ECF6\",\"gridcolor\":\"white\",\"gridwidth\":2,\"linecolor\":\"white\",\"showbackground\":true,\"ticks\":\"\",\"zerolinecolor\":\"white\"},\"yaxis\":{\"backgroundcolor\":\"#E5ECF6\",\"gridcolor\":\"white\",\"gridwidth\":2,\"linecolor\":\"white\",\"showbackground\":true,\"ticks\":\"\",\"zerolinecolor\":\"white\"},\"zaxis\":{\"backgroundcolor\":\"#E5ECF6\",\"gridcolor\":\"white\",\"gridwidth\":2,\"linecolor\":\"white\",\"showbackground\":true,\"ticks\":\"\",\"zerolinecolor\":\"white\"}},\"shapedefaults\":{\"line\":{\"color\":\"#2a3f5f\"}},\"ternary\":{\"aaxis\":{\"gridcolor\":\"white\",\"linecolor\":\"white\",\"ticks\":\"\"},\"baxis\":{\"gridcolor\":\"white\",\"linecolor\":\"white\",\"ticks\":\"\"},\"bgcolor\":\"#E5ECF6\",\"caxis\":{\"gridcolor\":\"white\",\"linecolor\":\"white\",\"ticks\":\"\"}},\"title\":{\"x\":0.05},\"xaxis\":{\"automargin\":true,\"gridcolor\":\"white\",\"linecolor\":\"white\",\"ticks\":\"\",\"title\":{\"standoff\":15},\"zerolinecolor\":\"white\",\"zerolinewidth\":2},\"yaxis\":{\"automargin\":true,\"gridcolor\":\"white\",\"linecolor\":\"white\",\"ticks\":\"\",\"title\":{\"standoff\":15},\"zerolinecolor\":\"white\",\"zerolinewidth\":2}}},\"xaxis\":{\"anchor\":\"y\",\"domain\":[0.0,0.94],\"title\":{\"text\":\"Date\"}},\"yaxis\":{\"anchor\":\"x\",\"domain\":[0.0,1.0],\"title\":{\"text\":\"positives mean 7-day\"}},\"yaxis2\":{\"anchor\":\"x\",\"overlaying\":\"y\",\"side\":\"right\",\"title\":{\"text\":\"Slope\"}},\"title\":{\"text\":\"Positives and Slope change in Tokyo\"},\"autosize\":false,\"width\":700,\"height\":500},                        {\"responsive\": true}                    ).then(function(){\n",
       "                            \n",
       "var gd = document.getElementById('3cb9a1f2-9695-4771-9453-3b8c6194e2dd');\n",
       "var x = new MutationObserver(function (mutations, observer) {{\n",
       "        var display = window.getComputedStyle(gd).display;\n",
       "        if (!display || display === 'none') {{\n",
       "            console.log([gd, 'removed!']);\n",
       "            Plotly.purge(gd);\n",
       "            observer.disconnect();\n",
       "        }}\n",
       "}});\n",
       "\n",
       "// Listen for the removal of the full notebook cells\n",
       "var notebookContainer = gd.closest('#notebook-container');\n",
       "if (notebookContainer) {{\n",
       "    x.observe(notebookContainer, {childList: true});\n",
       "}}\n",
       "\n",
       "// Listen for the clearing of the current output cell\n",
       "var outputEl = gd.closest('.output');\n",
       "if (outputEl) {{\n",
       "    x.observe(outputEl, {childList: true});\n",
       "}}\n",
       "\n",
       "                        })                };                });            </script>        </div>"
      ]
     },
     "metadata": {},
     "output_type": "display_data"
    }
   ],
   "source": [
    "fig=make_subplots(specs=[[{\"secondary_y\":True}]])\n",
    "fig.add_trace(go.Scatter(x=data5p2['date'],y=data5p2['positives mean 7-day'],name='positives mean 7-day'),secondary_y=False)\n",
    "fig.add_trace(go.Scatter(x=data5p2['date'],y=data5p2['slope'],name='slope'),secondary_y=True,)\n",
    "fig.update_layout(autosize=False,width=700,height=500,title_text=\"Positives and Slope change in Tokyo\")\n",
    "fig.update_xaxes(title_text=\"Date\")\n",
    "fig.update_yaxes(title_text=\"Slope\",secondary_y=True)\n",
    "fig.update_yaxes(title_text=\"positives mean 7-day\",secondary_y=False)\n",
    "fig.show()"
   ]
  },
  {
   "cell_type": "code",
   "execution_count": null,
   "id": "64a5f4c7",
   "metadata": {
    "papermill": {
     "duration": 0.043597,
     "end_time": "2022-01-28T12:27:19.569357",
     "exception": false,
     "start_time": "2022-01-28T12:27:19.525760",
     "status": "completed"
    },
    "tags": []
   },
   "outputs": [],
   "source": []
  },
  {
   "cell_type": "code",
   "execution_count": null,
   "id": "0ade6ea6",
   "metadata": {
    "papermill": {
     "duration": 0.043547,
     "end_time": "2022-01-28T12:27:19.657672",
     "exception": false,
     "start_time": "2022-01-28T12:27:19.614125",
     "status": "completed"
    },
    "tags": []
   },
   "outputs": [],
   "source": []
  }
 ],
 "metadata": {
  "kernelspec": {
   "display_name": "Python 3",
   "language": "python",
   "name": "python3"
  },
  "language_info": {
   "codemirror_mode": {
    "name": "ipython",
    "version": 3
   },
   "file_extension": ".py",
   "mimetype": "text/x-python",
   "name": "python",
   "nbconvert_exporter": "python",
   "pygments_lexer": "ipython3",
   "version": "3.7.12"
  },
  "papermill": {
   "default_parameters": {},
   "duration": 26.918969,
   "end_time": "2022-01-28T12:27:20.512935",
   "environment_variables": {},
   "exception": null,
   "input_path": "__notebook__.ipynb",
   "output_path": "__notebook__.ipynb",
   "parameters": {},
   "start_time": "2022-01-28T12:26:53.593966",
   "version": "2.3.3"
  }
 },
 "nbformat": 4,
 "nbformat_minor": 5
}
